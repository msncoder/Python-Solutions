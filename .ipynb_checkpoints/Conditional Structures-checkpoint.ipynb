{
 "cells": [
  {
   "cell_type": "markdown",
   "id": "fa18c984-d945-4595-9a96-a9abfe3b08bb",
   "metadata": {},
   "source": [
    "Write a program that prompts the user to input a number and display if the number\n",
    "is even or odd."
   ]
  },
  {
   "cell_type": "code",
   "execution_count": 2,
   "id": "e067d056-3926-43b5-90f8-dc5b6f7f0d6d",
   "metadata": {},
   "outputs": [
    {
     "name": "stdin",
     "output_type": "stream",
     "text": [
      "Enter a Number 3\n"
     ]
    },
    {
     "name": "stdout",
     "output_type": "stream",
     "text": [
      "user input 3 is odd\n"
     ]
    }
   ],
   "source": [
    "user_input = int(input(\"Enter a Number\"))\n",
    "\n",
    "if user_input % 2 == 0:\n",
    "    print(f\"user input {user_input} is even\")\n",
    "else:\n",
    "    print(f\"user input {user_input} is odd\")"
   ]
  },
  {
   "cell_type": "markdown",
   "id": "8bac6375-23db-4c2f-8fe2-10ba9d1c7028",
   "metadata": {},
   "source": [
    "Write a Python program that takes an age as input and determines whether a person\n",
    "is eligible to vote. If the age is 18 or above, print \"You are eligible to vote.\" Otherwise,\n",
    "print \"You are not eligible to vote yet.\"."
   ]
  },
  {
   "cell_type": "code",
   "execution_count": 9,
   "id": "0db01ac0-85ed-4b8f-82c5-4ef94679ef81",
   "metadata": {},
   "outputs": [
    {
     "name": "stdin",
     "output_type": "stream",
     "text": [
      "Enter Your Age 17\n"
     ]
    },
    {
     "name": "stdout",
     "output_type": "stream",
     "text": [
      "you are not eligible\n"
     ]
    }
   ],
   "source": [
    "age = int(input(\"Enter Your Age\"))\n",
    "\n",
    "if age >= 18:\n",
    "    print(\"You are eligible for age\")\n",
    "else:\n",
    "    print(\"you are not eligible\")"
   ]
  },
  {
   "cell_type": "markdown",
   "id": "c068b624-790f-4804-b81a-9baf648cf89f",
   "metadata": {},
   "source": [
    "Write a program that prompts the user to input two integers and outputs the largest"
   ]
  },
  {
   "cell_type": "code",
   "execution_count": 12,
   "id": "fc192c81-743e-4e54-a6e2-19be8a73b161",
   "metadata": {},
   "outputs": [
    {
     "name": "stdin",
     "output_type": "stream",
     "text": [
      "Enter a first number 5\n",
      "Enter a second number 6\n"
     ]
    },
    {
     "name": "stdout",
     "output_type": "stream",
     "text": [
      " integer two6 is grater then integer one 5\n"
     ]
    }
   ],
   "source": [
    "int1 = int(input(\"Enter a first number\"))\n",
    "int2 = int(input(\"Enter a second number\"))\n",
    "\n",
    "if int1 > int2:\n",
    "    print(f'integer one {int1} is grater then integer two {int2}')\n",
    "else:\n",
    "    print(f'integer two {int2} is grater then integer one {int1}')"
   ]
  },
  {
   "cell_type": "markdown",
   "id": "e8dfd371-a05b-47b9-9084-1d7738bac03e",
   "metadata": {},
   "source": [
    "Write a program that prompts the user to enter a number and determines whether it\n",
    "is positive, negative, or zero. The program should print \"Positive\" if the number is\n",
    "greater than 0, \"Negative\" if the number is less than 0, and \"Zero\" if the number is 0."
   ]
  },
  {
   "cell_type": "code",
   "execution_count": 15,
   "id": "bdb9c86b-299e-4c26-84da-568e35aafc14",
   "metadata": {},
   "outputs": [
    {
     "name": "stdin",
     "output_type": "stream",
     "text": [
      "Enter a number 0\n"
     ]
    },
    {
     "name": "stdout",
     "output_type": "stream",
     "text": [
      "print it's a 0 number\n"
     ]
    }
   ],
   "source": [
    "user_input = int(input(\"Enter a number\"))\n",
    "if user_input > 0:\n",
    "    print(\"it's a positive number\")\n",
    "elif user_input < 0:\n",
    "    print(\"it's a negative number\")\n",
    "else:\n",
    "    print(\"print it's a 0 number\")"
   ]
  },
  {
   "cell_type": "markdown",
   "id": "756bcade-3e82-4797-9c5b-fd6dd5e8d92e",
   "metadata": {},
   "source": [
    "Write a program that prompts the user to enter their age and prints the\n",
    "corresponding age group. The program should use the following age groups:\n",
    "0-12: Child\n",
    "13-19: Teenager\n",
    "20-59: Adult\n",
    "60 and above: Senior Citizen"
   ]
  },
  {
   "cell_type": "code",
   "execution_count": 17,
   "id": "30e2d938-aa2d-41de-8260-26aa9e3c58a2",
   "metadata": {},
   "outputs": [
    {
     "name": "stdin",
     "output_type": "stream",
     "text": [
      "Enter your age 60\n"
     ]
    },
    {
     "name": "stdout",
     "output_type": "stream",
     "text": [
      "You are senior citizen\n"
     ]
    }
   ],
   "source": [
    "age = int(input(\"Enter your age\"))\n",
    "\n",
    "if age > 0 and age <= 12:\n",
    "    print(\"Your age group is child\")\n",
    "elif age > 12 and age <= 19:\n",
    "    print(\"Your age group is teenager\")\n",
    "elif age > 19 and age <= 59:\n",
    "    print(\"You are adult\")\n",
    "elif age > 59:\n",
    "    print(\"You are senior citizen\")\n",
    "else:\n",
    "    print(\"input is wrong\")"
   ]
  },
  {
   "cell_type": "markdown",
   "id": "a3690f16-4f94-44a6-92c8-6c53734656af",
   "metadata": {},
   "source": [
    "Write a program that prompts the user to input a number from 1 to 7. The program\n",
    "should display the corresponding day for the given number. For example, if the user\n",
    "types 1, the output should be Sunday. If the user types 7, the output should be\n",
    "Saturday. If the number is not between 1 to 7 user should get error message as shown\n",
    "in sample output."
   ]
  },
  {
   "cell_type": "code",
   "execution_count": 28,
   "id": "2dd2e2a9-d571-4266-9647-3b1de2b25c6a",
   "metadata": {},
   "outputs": [
    {
     "name": "stdin",
     "output_type": "stream",
     "text": [
      "Enter a number between 1 to 7 to find day 21\n"
     ]
    },
    {
     "name": "stdout",
     "output_type": "stream",
     "text": [
      "Your input is not between 1 to 7\n"
     ]
    }
   ],
   "source": [
    "user_input = int(input(\"Enter a number between 1 to 7 to find day\"))\n",
    "\n",
    "if user_input == 1:\n",
    "    print(\"Sunday\")\n",
    "elif user_input == 2:\n",
    "    print(\"Maonday\")\n",
    "elif user_input == 3:\n",
    "    print(\"tuesday\")\n",
    "elif user_input == 4:\n",
    "    print(\"wednesday\")\n",
    "elif user_input == 5:\n",
    "    print(\"thursday\")\n",
    "elif user_input == 6:\n",
    "    print(\"Saturday\")\n",
    "else:\n",
    "    print(\"Your input is not between 1 to 7\")    "
   ]
  },
  {
   "cell_type": "markdown",
   "id": "6730d585-57d7-4e9d-a42b-e736b1935af2",
   "metadata": {},
   "source": [
    "Write a program that prompts the user to enter their weight (in kilograms) and height\n",
    "(in meters). The program should calculate the Body Mass Index (BMI) using the formula:\n",
    "BMI = weight / (height * height). The program should then classify the BMI into one of\n",
    "the following categories:\n",
    "less than 18.5 - Underweight\n",
    "BMI between 18.5 and 24.9 - Normal weight\n",
    "BMI between 25 and 29.9 - Overweight\n",
    "BMI 30 or greater - Obesity"
   ]
  },
  {
   "cell_type": "code",
   "execution_count": 36,
   "id": "1f637049-70e4-474a-b576-7684ba34d7fd",
   "metadata": {},
   "outputs": [
    {
     "name": "stdin",
     "output_type": "stream",
     "text": [
      "Enter Your weight in kg's 70\n",
      "Enter Your Height in Meter's 1.79832\n"
     ]
    },
    {
     "name": "stdout",
     "output_type": "stream",
     "text": [
      "21.64532402096181\n",
      "Normal Weight BMI\n"
     ]
    }
   ],
   "source": [
    "weight = float(input(\"Enter Your weight in kg's\"))\n",
    "height = float(input(\"Enter Your Height in Meter's\"))\n",
    "BMI = weight / (height * height)\n",
    "print(BMI)\n",
    "if BMI < 18.5:\n",
    "    print(\"UnderWeight BMI\")\n",
    "elif BMI >= 18.5 and BMI < 25:\n",
    "    print(\"Normal Weight BMI\")\n",
    "elif BMI >= 25 and BMI < 30:\n",
    "    print(\"OverWeight BMI\")\n",
    "else:\n",
    "    print(\"Obesity\")"
   ]
  },
  {
   "cell_type": "markdown",
   "id": "88f81b45-977c-4ee9-a24e-ca92c39be3d1",
   "metadata": {},
   "source": [
    "The marks obtained by a student in 3 different subjects are input by the user. Your\n",
    "program should calculate the average of subjects and display the grade. The student\n",
    "gets a grade as per the following rules:\n",
    "Average Grade\n",
    "90-100 A\n",
    "80-89 B\n",
    "70-79 C\n",
    "60-69 D\n",
    "0-59 F"
   ]
  },
  {
   "cell_type": "code",
   "execution_count": 7,
   "id": "37363000-a13a-4512-a21f-f36218828c77",
   "metadata": {},
   "outputs": [
    {
     "name": "stdin",
     "output_type": "stream",
     "text": [
      "Enter Your English Numbers 90\n",
      "Enter Your maths numbers 90\n",
      "Enter Your Science numbers 90\n"
     ]
    },
    {
     "name": "stdout",
     "output_type": "stream",
     "text": [
      "Your Grade is A\n"
     ]
    }
   ],
   "source": [
    "eng = int(input(\"Enter Your English Numbers\"))\n",
    "maths = int(input(\"Enter Your maths numbers\"))\n",
    "science = int(input(\"Enter Your Science numbers\"))\n",
    "\n",
    "avg = ((eng+maths+science)/300)* 100\n",
    "\n",
    "if avg >= 90 and avg <= 100:\n",
    "    print(\"Your Grade is A\")\n",
    "    \n",
    "elif avg >= 80 and avg < 90:\n",
    "    print(\"Your Grade is B\")\n",
    "    \n",
    "elif avg >= 70 and avg < 80:\n",
    "    print(\"Your Grade is C\")\n",
    "    \n",
    "elif avg >= 60 and avg < 70:\n",
    "    print(\"Your Grade is D\")\n",
    "else:\n",
    "    print(\"Fail\")"
   ]
  },
  {
   "cell_type": "markdown",
   "id": "7cb2879f-833a-485d-af20-518631e13c3d",
   "metadata": {},
   "source": [
    "The roots of the quadratic equation ax2\n",
    " + bx + c = 0, a ≠ 0 are given by the following\n",
    "formula:\n",
    "In this formula, the term b2\n",
    " - 4ac is called the discriminant. If b2\n",
    " - 4ac = 0, then the\n",
    "equation has two equal roots.\n",
    "If b2\n",
    " - 4ac > 0, the equation has two real roots. If b2\n",
    " - 4ac < 0, the equation has two\n",
    "complex roots.\n",
    "Write a program that prompts the user to input the value of a (the coefficient of x2\n",
    "), b\n",
    "(the coefficient of x), and c (the constant term) and outputs the roots of the quadratic\n",
    "equation."
   ]
  },
  {
   "cell_type": "code",
   "execution_count": 11,
   "id": "590476b5-0799-45a2-a518-f800379c5591",
   "metadata": {},
   "outputs": [
    {
     "name": "stdin",
     "output_type": "stream",
     "text": [
      "Enter A 5\n",
      "Enter B 6\n",
      "Enter C 7\n"
     ]
    },
    {
     "name": "stdout",
     "output_type": "stream",
     "text": [
      "-145.0\n",
      "115.0\n"
     ]
    }
   ],
   "source": [
    "\n",
    "a = int(input(\"Enter A\"))\n",
    "b = int(input(\"Enter B\"))\n",
    "c = int(input(\"Enter C\"))\n",
    "\n",
    "q1 = (-b + (b**2 - (4*a*c))*0.5)/2*a\n",
    "q2 = (-b - (b**2 - (4*a*c))*0.5)/2*a\n",
    "print(q1)\n",
    "print(q2)Write a program that prompts the user to enter three numbers and sorts them in\n",
    "ascending order. The program should print the sorted numbers. \n"
   ]
  },
  {
   "cell_type": "markdown",
   "id": "175a2b9f-c3b2-41a9-86de-ba216c97b212",
   "metadata": {},
   "source": [
    "Write a program that prompts the user to enter three numbers and sorts them in\n",
    "ascending order. The program should print the sorted numbers. \n"
   ]
  },
  {
   "cell_type": "code",
   "execution_count": 12,
   "id": "4f1d8af5-bd77-4e01-bcc7-254377ffbd18",
   "metadata": {},
   "outputs": [
    {
     "name": "stdin",
     "output_type": "stream",
     "text": [
      "Enter the first number:  5\n",
      "Enter the second number:  18\n",
      "Enter the third number:  8\n"
     ]
    },
    {
     "name": "stdout",
     "output_type": "stream",
     "text": [
      "Sorted numbers in ascending order: 5.0 8.0 18.0\n"
     ]
    }
   ],
   "source": [
    "# Prompting the user to enter three numbers\n",
    "num1 = float(input(\"Enter the first number: \"))\n",
    "num2 = float(input(\"Enter the second number: \"))\n",
    "num3 = float(input(\"Enter the third number: \"))\n",
    "\n",
    "# Sorting the numbers using comparison and swapping\n",
    "if num1 > num2:\n",
    "    num1, num2 = num2, num1\n",
    "if num1 > num3:\n",
    "    num1, num3 = num3, num1\n",
    "if num2 > num3:\n",
    "    num2, num3 = num3, num2\n",
    "\n",
    "# Printing the sorted numbers\n",
    "print(\"Sorted numbers in ascending order:\", num1, num2, num3)\n"
   ]
  },
  {
   "cell_type": "markdown",
   "id": "3527dde0-dd6b-41bd-b69f-a43c7ee8c0a1",
   "metadata": {},
   "source": [
    "Write a program that prompts the user to input three integers and outputs the\n",
    "largest. "
   ]
  },
  {
   "cell_type": "code",
   "execution_count": 16,
   "id": "0b427644-47ae-41a3-b20f-c3bfa3bef8ce",
   "metadata": {},
   "outputs": [
    {
     "name": "stdin",
     "output_type": "stream",
     "text": [
      "Enter the first number:  123\n",
      "Enter the second number:  1234\n",
      "Enter the third number:  125\n"
     ]
    },
    {
     "name": "stdout",
     "output_type": "stream",
     "text": [
      "1234.0 is gratest\n"
     ]
    }
   ],
   "source": [
    "num1 = float(input(\"Enter the first number: \"))\n",
    "num2 = float(input(\"Enter the second number: \"))\n",
    "num3 = float(input(\"Enter the third number: \"))\n",
    "\n",
    "if num1 > num2 and num1 > num3:\n",
    "    print(f\"{num1} is gratest\")\n",
    "elif num2 > num1 and num2 > num3:\n",
    "    print(f\"{num2} is gratest\")\n",
    "else:\n",
    "    print(f\"{num3} is gratest\")"
   ]
  },
  {
   "cell_type": "markdown",
   "id": "70810444-e1d3-40d7-986d-fbfdc214fb41",
   "metadata": {},
   "source": [
    "Write a program that prompts the user to input a character and determine the\n",
    "character is vowel or consonant."
   ]
  },
  {
   "cell_type": "code",
   "execution_count": 18,
   "id": "b4c54925-72f8-40f1-a0d6-2c3af6f05446",
   "metadata": {},
   "outputs": [
    {
     "name": "stdin",
     "output_type": "stream",
     "text": [
      "Enter Your character l\n"
     ]
    },
    {
     "name": "stdout",
     "output_type": "stream",
     "text": [
      "l in consonant\n"
     ]
    }
   ],
   "source": [
    "user_input = input(\"Enter Your character\")\n",
    "vowels = \"AEIOUaeiou\"\n",
    "\n",
    "if user_input in vowels:\n",
    "    print(f\"{user_input} in vowel\")\n",
    "else:\n",
    "    print(f\"{user_input} in consonant\")"
   ]
  },
  {
   "cell_type": "markdown",
   "id": "2f38099a-430a-43e9-984c-ed6448c1f523",
   "metadata": {},
   "source": [
    "Write a program that prompts the user to input a year and determine whether the\n",
    "year is a leap year or not.\n",
    "Leap Years are any year that can be evenly divided by 4. A year that is evenly divisible by\n",
    "100 is a leap year only if it is also evenly divisible by 400. Example:\n",
    "1992 Leap Year\n",
    "2000 Leap Year\n",
    "1900 NOT a Leap Year\n",
    "1995 NOT a Leap Year"
   ]
  },
  {
   "cell_type": "code",
   "execution_count": 26,
   "id": "650dc722-8a8a-4590-893a-9312ef22d3fd",
   "metadata": {},
   "outputs": [
    {
     "name": "stdin",
     "output_type": "stream",
     "text": [
      "Enter for Check leap Year 1992\n"
     ]
    },
    {
     "name": "stdout",
     "output_type": "stream",
     "text": [
      "Leap year\n"
     ]
    }
   ],
   "source": [
    "year = int(input('Enter for Check leap Year'))\n",
    "\n",
    "if (year%4 == 0 and year%100 != 0) or (year%400 == 0):\n",
    "    print(\"Leap year\")\n",
    "else:\n",
    "    print(\"not Leap year\")"
   ]
  },
  {
   "cell_type": "markdown",
   "id": "2ee82b19-3de1-44f9-b32c-a4e1463fb5f9",
   "metadata": {},
   "source": [
    "Write a program that prompts the user to input number of calls and calculate the\n",
    "monthly telephone bills as per the following rule:\n",
    "Minimum Rs. 200 for up to 100 calls.\n",
    "Plus Rs. 0.60 per call for next 50 calls.\n",
    "Plus Rs. 0.50 per call for next 50 calls.\n",
    "Plus Rs. 0.40 per call for any call beyond 200 calls"
   ]
  },
  {
   "cell_type": "code",
   "execution_count": 10,
   "id": "d6489ec6-fd7b-4c05-9d2b-e402ccea5088",
   "metadata": {},
   "outputs": [
    {
     "name": "stdin",
     "output_type": "stream",
     "text": [
      "Enter Numbers of Calls 300\n"
     ]
    },
    {
     "name": "stdout",
     "output_type": "stream",
     "text": [
      "295.0\n"
     ]
    }
   ],
   "source": [
    "calls = int(input(\"Enter Numbers of Calls\"))\n",
    "total = 0\n",
    "if calls <= 100:\n",
    "    total = 200\n",
    "    print(total)\n",
    "    \n",
    "elif calls <= 150:\n",
    "    total = 200 + (50*0.60)\n",
    "    print(total)\n",
    "\n",
    "elif calls <= 200:\n",
    "    total = 200 + (50*0.60) + (50*0.50)\n",
    "    print(total)\n",
    "\n",
    "elif calls > 200:\n",
    "    total = 200 + (50*0.60) + (50*0.50) + ((calls - 200)*0.40)\n",
    "    print(total)\n",
    "    \n",
    "else:\n",
    "    print(\"Wrong input\")"
   ]
  },
  {
   "cell_type": "code",
   "execution_count": null,
   "id": "c859c9c2-3c9d-4e1c-a2cd-f3dd1b3a5740",
   "metadata": {},
   "outputs": [],
   "source": []
  }
 ],
 "metadata": {
  "kernelspec": {
   "display_name": "Python 3 (ipykernel)",
   "language": "python",
   "name": "python3"
  },
  "language_info": {
   "codemirror_mode": {
    "name": "ipython",
    "version": 3
   },
   "file_extension": ".py",
   "mimetype": "text/x-python",
   "name": "python",
   "nbconvert_exporter": "python",
   "pygments_lexer": "ipython3",
   "version": "3.11.5"
  }
 },
 "nbformat": 4,
 "nbformat_minor": 5
}
