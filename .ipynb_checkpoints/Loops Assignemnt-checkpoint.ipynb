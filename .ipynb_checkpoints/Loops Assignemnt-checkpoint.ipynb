{
 "cells": [
  {
   "cell_type": "markdown",
   "id": "836bdec7-e180-4070-9866-5dd271966c34",
   "metadata": {},
   "source": [
    "Write a Python program to print the numbers from 1 to 10 using a for loop."
   ]
  },
  {
   "cell_type": "code",
   "execution_count": 1,
   "id": "29bd00da-283d-4dba-96d2-67f20acb3ef1",
   "metadata": {},
   "outputs": [
    {
     "name": "stdout",
     "output_type": "stream",
     "text": [
      "1\n",
      "2\n",
      "3\n",
      "4\n",
      "5\n",
      "6\n",
      "7\n",
      "8\n",
      "9\n",
      "10\n"
     ]
    }
   ],
   "source": [
    "for i in range(1,11):\n",
    "    print(i)"
   ]
  },
  {
   "cell_type": "markdown",
   "id": "51240bee-1577-4f3d-a2e7-5c3db2b3a4c4",
   "metadata": {},
   "source": [
    "Write a Python program to print the numbers from 20 to 1 using a while loop"
   ]
  },
  {
   "cell_type": "code",
   "execution_count": 6,
   "id": "eac64c21-c0d5-4e6d-91cd-7891325d796d",
   "metadata": {},
   "outputs": [
    {
     "name": "stdout",
     "output_type": "stream",
     "text": [
      "20\n",
      "19\n",
      "18\n",
      "17\n",
      "16\n",
      "15\n",
      "14\n",
      "13\n",
      "12\n",
      "11\n",
      "10\n",
      "9\n",
      "8\n",
      "7\n",
      "6\n",
      "5\n",
      "4\n",
      "3\n",
      "2\n",
      "1\n"
     ]
    }
   ],
   "source": [
    "for i in range(20,0,-1):\n",
    "    print(i)"
   ]
  },
  {
   "cell_type": "markdown",
   "id": "1dcef326-a3b3-4d32-a01e-ad229ca057da",
   "metadata": {},
   "source": [
    "Write a program to print even numbers from 1 to 10."
   ]
  },
  {
   "cell_type": "code",
   "execution_count": 7,
   "id": "6f9da2ae-761c-4887-9af3-e95bd3cb3361",
   "metadata": {},
   "outputs": [
    {
     "name": "stdout",
     "output_type": "stream",
     "text": [
      "2\n",
      "4\n",
      "6\n",
      "8\n",
      "10\n"
     ]
    }
   ],
   "source": [
    "for i in range(1,11):\n",
    "    if i % 2 == 0:\n",
    "        print(i)"
   ]
  },
  {
   "cell_type": "markdown",
   "id": "89273b94-b2d3-402c-8384-4573f7228312",
   "metadata": {},
   "source": [
    "Write a program that prompts the user to enter a number n and prints all the\n",
    "numbers from 1 to n."
   ]
  },
  {
   "cell_type": "code",
   "execution_count": 8,
   "id": "14a0b680-ec4e-4b89-9aaa-7317e6a378e9",
   "metadata": {},
   "outputs": [
    {
     "name": "stdin",
     "output_type": "stream",
     "text": [
      "Enter a number 10\n"
     ]
    },
    {
     "name": "stdout",
     "output_type": "stream",
     "text": [
      "1\n",
      "2\n",
      "3\n",
      "4\n",
      "5\n",
      "6\n",
      "7\n",
      "8\n",
      "9\n",
      "10\n"
     ]
    }
   ],
   "source": [
    "n = int(input(\"Enter a number\"))\n",
    "\n",
    "for i in range(1,n+1):\n",
    "    print(i)"
   ]
  },
  {
   "cell_type": "markdown",
   "id": "abc63ec1-4f0b-49f2-9dc5-af9dcd3a6445",
   "metadata": {},
   "source": [
    "Write a program that prompts the user to enter a number n, and then prints all the\n",
    "odd numbers between 1 and n. "
   ]
  },
  {
   "cell_type": "code",
   "execution_count": 9,
   "id": "af3b32c4-02b1-476c-82be-a1384ea6de84",
   "metadata": {},
   "outputs": [
    {
     "name": "stdin",
     "output_type": "stream",
     "text": [
      "Enter a number 12\n"
     ]
    },
    {
     "name": "stdout",
     "output_type": "stream",
     "text": [
      "1\n",
      "3\n",
      "5\n",
      "7\n",
      "9\n",
      "11\n"
     ]
    }
   ],
   "source": [
    "n = int(input(\"Enter a number\"))\n",
    "\n",
    "for i in range(1,n+1):\n",
    "    if i % 2 == 0:\n",
    "        continue\n",
    "    else:\n",
    "        print(i)"
   ]
  },
  {
   "cell_type": "markdown",
   "id": "e9cdae8e-c682-4950-9706-61aecbf45a69",
   "metadata": {},
   "source": [
    "Write a program that prints 'Happy Birthday!' five times on screen."
   ]
  },
  {
   "cell_type": "code",
   "execution_count": 10,
   "id": "7787dbc0-3f99-4996-9975-f6b51a4c942a",
   "metadata": {},
   "outputs": [
    {
     "name": "stdout",
     "output_type": "stream",
     "text": [
      "Happy Birthday!\n",
      "Happy Birthday!\n",
      "Happy Birthday!\n",
      "Happy Birthday!\n",
      "Happy Birthday!\n"
     ]
    }
   ],
   "source": [
    "a = 0\n",
    "while a < 5:\n",
    "    print('Happy Birthday!')\n",
    "    a+=1"
   ]
  },
  {
   "cell_type": "markdown",
   "id": "9817da50-aee0-47b1-8c1f-46dabc599982",
   "metadata": {},
   "source": [
    "Write a program that takes a number n as input from the user and generates the first\n",
    "n terms of the series formed by squaring the natural numbers.\n",
    "Sample output\n",
    "Enter a number: 6\n",
    "The first 6 terms of the series are:\n",
    "1 4 9 16 25 36 \n"
   ]
  },
  {
   "cell_type": "code",
   "execution_count": 13,
   "id": "e2221249-ea89-4727-8317-f6ee950e0e32",
   "metadata": {},
   "outputs": [
    {
     "name": "stdin",
     "output_type": "stream",
     "text": [
      "Enter a number 6\n"
     ]
    },
    {
     "name": "stdout",
     "output_type": "stream",
     "text": [
      "1 4 9 16 25 36 "
     ]
    }
   ],
   "source": [
    "n = int(input(\"Enter a number\"))\n",
    "for i in range(1,n+1):\n",
    "    print(i**2,end=' ')"
   ]
  },
  {
   "cell_type": "markdown",
   "id": "64141d01-63e7-4086-8cfb-accfe0afc445",
   "metadata": {},
   "source": [
    "Write a program that prompts the user to input a number and prints its multiplication\n",
    "table."
   ]
  },
  {
   "cell_type": "code",
   "execution_count": 19,
   "id": "d134556a-8d81-4cf2-ba2f-60d481e7f12d",
   "metadata": {},
   "outputs": [
    {
     "name": "stdin",
     "output_type": "stream",
     "text": [
      "Enter a table number you want 2\n"
     ]
    },
    {
     "name": "stdout",
     "output_type": "stream",
     "text": [
      "2 X 1 = 2\n",
      "2 X 2 = 4\n",
      "2 X 3 = 6\n",
      "2 X 4 = 8\n",
      "2 X 5 = 10\n",
      "2 X 6 = 12\n",
      "2 X 7 = 14\n",
      "2 X 8 = 16\n",
      "2 X 9 = 18\n",
      "2 X 10 = 20\n"
     ]
    }
   ],
   "source": [
    "table_inp = int(input(\"Enter a table number you want\"))\n",
    "n = 1\n",
    "while n < 11:\n",
    "    print(table_inp,\"X\",n,\"=\",table_inp*n)\n",
    "    n+=1"
   ]
  },
  {
   "cell_type": "markdown",
   "id": "b9f6d286-7c6b-4115-9f0d-417ef940dd7a",
   "metadata": {},
   "source": [
    "Write a Python program to print the first 8 terms of an arithmetic progression starting\r\n",
    "with 3 and having a common difference of 4.\r\n",
    "The program should output the following sequence:\r\n",
    "3 7 11 15 19 23 27 31 \r"
   ]
  },
  {
   "cell_type": "code",
   "execution_count": 24,
   "id": "753c528b-5238-4ee9-816a-8f2417d30dda",
   "metadata": {},
   "outputs": [
    {
     "name": "stdin",
     "output_type": "stream",
     "text": [
      "Ending number 32\n"
     ]
    },
    {
     "name": "stdout",
     "output_type": "stream",
     "text": [
      "3 7 11 15 19 23 27 31 "
     ]
    }
   ],
   "source": [
    "start = 3\n",
    "end = int(input('Ending number'))\n",
    "diff = 4\n",
    "\n",
    "for i in range(3,end+1,4):\n",
    "    print(i,end=' ')"
   ]
  },
  {
   "cell_type": "markdown",
   "id": "5a941603-0ab5-4a61-a261-1356a8de9e1d",
   "metadata": {},
   "source": [
    "Write a Python program to print the first 6 terms of a geometric sequence starting\n",
    "with 2 and having a common ratio of 3.\n",
    "The program should output the following sequence:\n",
    "2 6 18 54 162 486 "
   ]
  },
  {
   "cell_type": "code",
   "execution_count": 26,
   "id": "88f6c736-c874-406b-893a-02a393a7e55b",
   "metadata": {},
   "outputs": [
    {
     "name": "stdout",
     "output_type": "stream",
     "text": [
      "2 6 18 54 162 486 "
     ]
    }
   ],
   "source": [
    "a = 2\n",
    "r = 3\n",
    "for i in range(6):\n",
    "    term = a * (r ** i)\n",
    "    print(term, end = ' ')"
   ]
  },
  {
   "cell_type": "markdown",
   "id": "4bbe0521-b62e-429d-87ab-5baf935a21c9",
   "metadata": {},
   "source": [
    "Write a program that asks the user for a positive integer value. The program should\n",
    "calculate the sum of all the integers from 1 up to the number entered. For example, if\n",
    "the user enters 20, the loop will find the sum of 1, 2, 3, 4, ... 20. "
   ]
  },
  {
   "cell_type": "code",
   "execution_count": 28,
   "id": "04b6b032-68c7-4c04-9e42-360f245a9237",
   "metadata": {},
   "outputs": [
    {
     "name": "stdin",
     "output_type": "stream",
     "text": [
      "Enter a Postive integer number 20\n"
     ]
    },
    {
     "name": "stdout",
     "output_type": "stream",
     "text": [
      "210\n"
     ]
    }
   ],
   "source": [
    "positive_integer = int(input(\"Enter a Postive integer number\"))\n",
    "sum = 0\n",
    "for i in range(1,positive_integer+1):\n",
    "    sum += i\n",
    "print(sum)"
   ]
  },
  {
   "cell_type": "markdown",
   "id": "adf5d393-f818-447c-8ddc-604ad463f29d",
   "metadata": {},
   "source": [
    "write a program that takes a positive integer N as input and calculates the sum of\n",
    "the reciprocals of all numbers from 1 up to N. The program should display the final sum.\n",
    "Output of the program should be like:\n",
    "Enter a positive integer: 5\n",
    "The sum of reciprocals from 1 to 5 is: 2.28 \n"
   ]
  },
  {
   "cell_type": "code",
   "execution_count": 39,
   "id": "5ae2f163-a863-444f-8744-bcaedff63fda",
   "metadata": {},
   "outputs": [
    {
     "name": "stdin",
     "output_type": "stream",
     "text": [
      "Enter a positive integer 5\n"
     ]
    },
    {
     "name": "stdout",
     "output_type": "stream",
     "text": [
      "2.283333333333333\n",
      "2.28\n"
     ]
    }
   ],
   "source": [
    "n = int(input(\"Enter a positive integer\"))\n",
    "sum = 0\n",
    "for i in range(1,n+1):\n",
    "    sum+=1/i\n",
    "# print(sum)\n",
    "formatted_num = \"{:.2f}\".format(sum)\n",
    "print(formatted_num)"
   ]
  },
  {
   "cell_type": "markdown",
   "id": "6b7fabef-158c-4914-8e10-40c566f4b1a0",
   "metadata": {},
   "source": [
    "Write a program that prompts the user to enter a number and repeats this process 5\n",
    "times. The program should accumulate the numbers entered and then display the final\n",
    "running total.\n",
    "Sample Output:\n",
    "Enter a number: 10\n",
    "Enter a number: 15\n",
    "Enter a number: 35\n",
    "Enter a number: 40\n",
    "Enter a number: 50\n",
    "The final running total is: 150"
   ]
  },
  {
   "cell_type": "code",
   "execution_count": 42,
   "id": "537eca71-2a63-4b07-bf34-258d27c72f8c",
   "metadata": {},
   "outputs": [
    {
     "name": "stdin",
     "output_type": "stream",
     "text": [
      "Enter a number 10\n",
      "Enter a number 15\n",
      "Enter a number 35\n",
      "Enter a number 40\n",
      "Enter a number 50\n"
     ]
    },
    {
     "name": "stdout",
     "output_type": "stream",
     "text": [
      "The final running total is: 150\n"
     ]
    }
   ],
   "source": [
    "sum = 0\n",
    "\n",
    "for i in range(5):\n",
    "    inp = int(input(\"Enter a number\"))\n",
    "    sum += inp\n",
    "print(f\"The final running total is: {sum}\")"
   ]
  },
  {
   "cell_type": "markdown",
   "id": "ef5bf94e-3a40-4393-8fa6-2d2174ab072a",
   "metadata": {},
   "source": [
    "Write a program that prompts the user to enter a positive integer and calculates its\r\n",
    "factorial. The factorial of a positive integer 'n' is denoted as 'n!' and is calculated by\r\n",
    "multiplying all the integers from 1 to 'n' together. For example, the factorial of 5\r\n",
    "(denoted as 5!) is calculated as 1 x 2 x 3 x 4 x 5.\r\n",
    "The program should display the factorial value if the input is a positive number, or\r\n",
    "display a message stating that the factorial does not exist for negative numbers.\r\n",
    "Additionally, for an input of zero, the program should output that the factorial of 0 is 1. \r"
   ]
  },
  {
   "cell_type": "code",
   "execution_count": 48,
   "id": "0a296332-a795-476d-863a-ded737df384a",
   "metadata": {},
   "outputs": [
    {
     "name": "stdin",
     "output_type": "stream",
     "text": [
      "Enter a factorial number 5\n"
     ]
    },
    {
     "name": "stdout",
     "output_type": "stream",
     "text": [
      "120\n"
     ]
    }
   ],
   "source": [
    "fact = 1\n",
    "n = int(input(\"Enter a factorial number\"))\n",
    "\n",
    "if n  < 0:\n",
    "    print(\"Give The positive number\")\n",
    "elif n == 0:\n",
    "    print(fact)\n",
    "else:\n",
    "    for i in range(1,n+1):\n",
    "        fact *= i\n",
    "    print(fact)"
   ]
  },
  {
   "cell_type": "markdown",
   "id": "a78befc3-fcd0-4b43-80b7-65d88e6a9bc4",
   "metadata": {},
   "source": [
    ". Write a Python program that prompts the user to enter a base number and an\n",
    "exponent, and then calculates the power of the base to the exponent. The program\n",
    "should not use the exponentiation operator (**) or the math.pow() function. The\n",
    "program should handle both positive and negative exponents. "
   ]
  },
  {
   "cell_type": "code",
   "execution_count": 85,
   "id": "2d96141d-9313-40dd-b341-86bb9d11b102",
   "metadata": {},
   "outputs": [
    {
     "name": "stdin",
     "output_type": "stream",
     "text": [
      "Enter a Base Number 4\n",
      "Enter a Exponent -4\n"
     ]
    },
    {
     "name": "stdout",
     "output_type": "stream",
     "text": [
      "0.00390625\n"
     ]
    }
   ],
   "source": [
    "base = int(input(\"Enter a Base Number\"))\n",
    "exponent = int(input(\"Enter a Exponent\"))\n",
    "power = 1\n",
    "\n",
    "if exponent == 0:\n",
    "    print(power)\n",
    "\n",
    "elif exponent < 1:\n",
    "    for i in range(-exponent):\n",
    "        power /= base\n",
    "    print(power)\n",
    "else:\n",
    "    for i in range(1,exponent+1):\n",
    "         power *= base\n",
    "    print(power)\n"
   ]
  },
  {
   "cell_type": "code",
   "execution_count": null,
   "id": "284bbf88-9d42-4879-a90b-83d2b35a0776",
   "metadata": {},
   "outputs": [],
   "source": []
  }
 ],
 "metadata": {
  "kernelspec": {
   "display_name": "Python 3 (ipykernel)",
   "language": "python",
   "name": "python3"
  },
  "language_info": {
   "codemirror_mode": {
    "name": "ipython",
    "version": 3
   },
   "file_extension": ".py",
   "mimetype": "text/x-python",
   "name": "python",
   "nbconvert_exporter": "python",
   "pygments_lexer": "ipython3",
   "version": "3.11.5"
  }
 },
 "nbformat": 4,
 "nbformat_minor": 5
}
