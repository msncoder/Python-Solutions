{
 "cells": [
  {
   "cell_type": "raw",
   "id": "9e3c3e13-412c-4e9d-9969-9e81aa44ae51",
   "metadata": {},
   "source": [
    "1. Write a Python program to create a person class. Include attributes  \n",
    "like name, country and date of birth. Implement a method to  determine the person’s age. "
   ]
  },
  {
   "cell_type": "code",
   "execution_count": 166,
   "id": "55d3c07e-3021-4e63-be97-a2572e0e96f2",
   "metadata": {},
   "outputs": [],
   "source": [
    "from datetime import date,timedelta"
   ]
  },
  {
   "cell_type": "code",
   "execution_count": 167,
   "id": "5d702caf-6327-47a2-979f-4020b425a4a9",
   "metadata": {},
   "outputs": [],
   "source": [
    "import datetime"
   ]
  },
  {
   "cell_type": "code",
   "execution_count": 168,
   "id": "fdeab89e-56a9-40fc-8aa0-ed1d008e58af",
   "metadata": {},
   "outputs": [],
   "source": [
    "class Human:\n",
    "    def __init__(self,name,dob):\n",
    "        self.name = name\n",
    "        self.dob = dob\n",
    "\n",
    "    def age(self):\n",
    "        today = date.today()\n",
    "        age = (today - self.dob) // datetime.timedelta(days=365.255)\n",
    "        return f\"{self.name} age is {age}\""
   ]
  },
  {
   "cell_type": "code",
   "execution_count": 169,
   "id": "8dd311f4-297e-4e95-ab6c-b580b16365ed",
   "metadata": {},
   "outputs": [],
   "source": [
    "H1 = Human('saad',date(1999,12,28))"
   ]
  },
  {
   "cell_type": "code",
   "execution_count": 170,
   "id": "a994ace3-92e5-4e81-b8cc-3119b640333b",
   "metadata": {},
   "outputs": [
    {
     "data": {
      "text/plain": [
       "'saad age is 24'"
      ]
     },
     "execution_count": 170,
     "metadata": {},
     "output_type": "execute_result"
    }
   ],
   "source": [
    "H1.age()"
   ]
  },
  {
   "cell_type": "code",
   "execution_count": null,
   "id": "8021bc4f-9233-4307-81a8-9d1fef3daece",
   "metadata": {},
   "outputs": [],
   "source": []
  },
  {
   "cell_type": "code",
   "execution_count": null,
   "id": "6623ca77-0599-4506-99c0-49ae66b8e078",
   "metadata": {},
   "outputs": [],
   "source": []
  },
  {
   "cell_type": "code",
   "execution_count": null,
   "id": "8a125a0a-47d3-45e9-882b-ce19317bae4f",
   "metadata": {},
   "outputs": [],
   "source": []
  },
  {
   "cell_type": "code",
   "execution_count": null,
   "id": "0815e7a1-e442-4e09-8172-294cb660583a",
   "metadata": {},
   "outputs": [],
   "source": []
  },
  {
   "cell_type": "code",
   "execution_count": null,
   "id": "6e34c8f7-98eb-41cc-b198-2f348e4dee3b",
   "metadata": {},
   "outputs": [],
   "source": []
  }
 ],
 "metadata": {
  "kernelspec": {
   "display_name": "Python 3 (ipykernel)",
   "language": "python",
   "name": "python3"
  },
  "language_info": {
   "codemirror_mode": {
    "name": "ipython",
    "version": 3
   },
   "file_extension": ".py",
   "mimetype": "text/x-python",
   "name": "python",
   "nbconvert_exporter": "python",
   "pygments_lexer": "ipython3",
   "version": "3.11.5"
  }
 },
 "nbformat": 4,
 "nbformat_minor": 5
}
