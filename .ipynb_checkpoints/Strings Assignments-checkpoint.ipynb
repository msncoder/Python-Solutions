{
 "cells": [
  {
   "cell_type": "markdown",
   "id": "61adb021-4672-45ef-8a64-75da23dd5254",
   "metadata": {},
   "source": [
    "Write a program that accepts a string from user. Your program should count and display number of\n",
    "vowels in that string. "
   ]
  },
  {
   "cell_type": "code",
   "execution_count": 8,
   "id": "6dcda817-589a-42be-a393-7412f01bbc70",
   "metadata": {},
   "outputs": [
    {
     "name": "stdin",
     "output_type": "stream",
     "text": [
      "Enter a word banana\n"
     ]
    },
    {
     "name": "stdout",
     "output_type": "stream",
     "text": [
      "banana contains 3 vowels\n"
     ]
    }
   ],
   "source": [
    "vowels = 'aeiouAEIOU'\n",
    "count = 0\n",
    "str = input(\"Enter a word\")\n",
    "\n",
    "for i in str:\n",
    "    if i in vowels:\n",
    "        count+=1\n",
    "print(f'{str} contains {count} vowels')"
   ]
  },
  {
   "cell_type": "markdown",
   "id": "08ab6799-c97e-44d0-a690-548ca0ab30f3",
   "metadata": {},
   "source": [
    "Write a program that reads a string from keyboard and display:\n",
    "* The number of uppercase letters in the string\n",
    "* The number of lowercase letters in the string\n",
    "* The number of digits in the string\n",
    "* The number of whitespace characters in the string "
   ]
  },
  {
   "cell_type": "code",
   "execution_count": 10,
   "id": "4dc0818d-6112-4180-bc6f-620912308a1e",
   "metadata": {},
   "outputs": [
    {
     "name": "stdin",
     "output_type": "stream",
     "text": [
      "Enter a word Sa Ad\n"
     ]
    },
    {
     "name": "stdout",
     "output_type": "stream",
     "text": [
      "String Contains 2 Upper Case Laters\n",
      "String Contains 2 Lower Case Laters\n",
      "Total number of Latter contains string is 0\n",
      "1 white space contains string\n"
     ]
    }
   ],
   "source": [
    "str = input(\"Enter a word\")\n",
    "countUpperCase = 0\n",
    "countLowerCase = 0\n",
    "count = countLowerCase + countUpperCase\n",
    "countWhiteSpace = 0\n",
    "\n",
    "\n",
    "\n",
    "for i in str:\n",
    "    if i.isupper():\n",
    "        countUpperCase += 1\n",
    "        \n",
    "    elif i.islower():\n",
    "        countLowerCase += 1\n",
    "    \n",
    "    elif i.isdigit():\n",
    "            count += 1\n",
    "    \n",
    "    elif i.isspace():\n",
    "        countWhiteSpace += 1\n",
    "    \n",
    "\n",
    "print(f\"String Contains {countUpperCase} Upper Case Laters\")\n",
    "print(f\"String Contains {countLowerCase} Lower Case Laters\")\n",
    "print(f\"Total number of Latter contains string is {count}\")\n",
    "print(f\"{countWhiteSpace} white space contains string\")"
   ]
  },
  {
   "cell_type": "markdown",
   "id": "4babcb4f-08e2-4278-a8a4-93a82d42a978",
   "metadata": {},
   "source": [
    ". Write a Python program that accepts a string from user. Your program should create and display a\r\n",
    "new string where the first and last characters have been exchanged.\r\n",
    "For example if the user enters the string 'HELLO' then new string would be 'OELLH' \r"
   ]
  },
  {
   "cell_type": "code",
   "execution_count": 18,
   "id": "2caa8b48-4cbc-4d7d-ba18-f4fe9742e809",
   "metadata": {},
   "outputs": [
    {
     "name": "stdin",
     "output_type": "stream",
     "text": [
      "Enter a String SAAD\n"
     ]
    },
    {
     "name": "stdout",
     "output_type": "stream",
     "text": [
      "DAAS\n"
     ]
    }
   ],
   "source": [
    "user_inp = input(\"Enter a String\")\n",
    "\n",
    "a = user_inp[0] \n",
    "b = user_inp [-1]\n",
    "c = user_inp[1:-1]\n",
    "print(b+c+a)"
   ]
  },
  {
   "cell_type": "markdown",
   "id": "94cb545d-2f20-464b-8ab0-9b70400ac05f",
   "metadata": {},
   "source": [
    "Write a Python program that accepts a string from user. Your program should create a new string in\n",
    "reverse of first string and display it. \n",
    "For example if the user enters the string 'EXAM' then new string would be 'MAXE' \r\n"
   ]
  },
  {
   "cell_type": "code",
   "execution_count": 23,
   "id": "894fe010-401a-4216-8706-a23f7cfe2079",
   "metadata": {},
   "outputs": [
    {
     "name": "stdin",
     "output_type": "stream",
     "text": [
      "Enter a String EXAM\n"
     ]
    },
    {
     "name": "stdout",
     "output_type": "stream",
     "text": [
      "MAXE\n"
     ]
    }
   ],
   "source": [
    "str = input(\"Enter a String\")\n",
    "\n",
    "a = str[::-1]\n",
    "print(a)"
   ]
  },
  {
   "cell_type": "markdown",
   "id": "5f21d63f-05dc-4f8b-9f2c-3e5f30cfc8c0",
   "metadata": {},
   "source": [
    "Write a Python program that accepts a string from user. Your program should create a new string by\n",
    "shifting one position to left.\n",
    "For example if the user enters the string 'examination 2021' then new string would be 'xamination\n",
    "2021e' \n"
   ]
  },
  {
   "cell_type": "code",
   "execution_count": 24,
   "id": "4d22adb7-14a2-407c-bd83-56ce14c10d37",
   "metadata": {},
   "outputs": [
    {
     "name": "stdin",
     "output_type": "stream",
     "text": [
      "Enter a String examination 2021\n"
     ]
    },
    {
     "name": "stdout",
     "output_type": "stream",
     "text": [
      "xamination 2021e\n"
     ]
    }
   ],
   "source": [
    "str = input(\"Enter a String\")\n",
    "\n",
    "a = str[0]\n",
    "b = str[1:]\n",
    "c = b+a\n",
    "print(c)"
   ]
  },
  {
   "cell_type": "markdown",
   "id": "fb65084b-4e2e-496a-8b18-688697391f23",
   "metadata": {},
   "source": [
    "Write a program that asks the user to input his name and print its initials. Assuming that the user\n",
    "always types first name, middle name and last name and does not include any unnecessary spaces.\n",
    "For example, if the user enters Ajay Kumar Garg the program should display A. K. G.\n",
    "Note:Don't use split() method"
   ]
  },
  {
   "cell_type": "code",
   "execution_count": 32,
   "id": "10e5fe4b-4d20-4a78-896b-2fa34260f691",
   "metadata": {},
   "outputs": [
    {
     "name": "stdin",
     "output_type": "stream",
     "text": [
      "enter Your first name Muhammad\n",
      "enter your middle name Saad \n",
      "enter your Last Name Naseem\n"
     ]
    },
    {
     "name": "stdout",
     "output_type": "stream",
     "text": [
      "Muhammad Saad  Naseem\n",
      "M. S. N. Dev\n"
     ]
    }
   ],
   "source": [
    "first_name = input(\"enter Your first name\")\n",
    "middle_name = input(\"enter your middle name\")\n",
    "last_name = input(\"enter your Last Name\")\n",
    "\n",
    "name = first_name+\" \" + middle_name+\" \" + last_name\n",
    "F_l = first_name[0]\n",
    "M_l = middle_name[0]\n",
    "L_l = last_name[0]\n",
    "print(name)\n",
    "print(F_l +\". \" + M_l +\". \" + L_l +\". Dev\")"
   ]
  },
  {
   "cell_type": "markdown",
   "id": "dcc62ac9-110e-43ad-a9c4-8af47aa84e9c",
   "metadata": {},
   "source": [
    ". A palindrome is a string that reads the same backward as forward. For example, the words dad,\n",
    "madam and radar are all palindromes. Write a programs that determines whether the string is a\n",
    "palindrome.\n",
    "Note: do not use reverse() method "
   ]
  },
  {
   "cell_type": "code",
   "execution_count": 38,
   "id": "0559dafd-a86c-4b56-9645-b5fbcb3d93ba",
   "metadata": {},
   "outputs": [
    {
     "name": "stdin",
     "output_type": "stream",
     "text": [
      "Enter Your Palindrome madam\n"
     ]
    },
    {
     "name": "stdout",
     "output_type": "stream",
     "text": [
      "its Palindrome\n"
     ]
    }
   ],
   "source": [
    "palindrome = input(\"Enter Your Palindrome\")\n",
    "\n",
    "# print(palindrome[::-1])\n",
    "if palindrome[::] == palindrome[::-1]:\n",
    "    print(\"its Palindrome\")\n",
    "else:\n",
    "    print(\"it's not a palindrome\")"
   ]
  },
  {
   "cell_type": "markdown",
   "id": "40baa57e-fe61-461d-b77c-1f38427def5b",
   "metadata": {},
   "source": [
    "8. Write a program that display following output:\r\n",
    "SHIFT\r\n",
    "HIFTS\r\n",
    "IFTSH\r\n",
    "FTSHI\r\n",
    "TSHIF\r\n",
    "SHIFT \r"
   ]
  },
  {
   "cell_type": "code",
   "execution_count": 2,
   "id": "1807df48-8941-439f-9e93-13b743d81d34",
   "metadata": {},
   "outputs": [
    {
     "name": "stdout",
     "output_type": "stream",
     "text": [
      "SHIFT\n",
      "HIFTS\n",
      "IFTSH\n",
      "FTSHI\n",
      "TSHIF\n",
      "SHIFT\n"
     ]
    }
   ],
   "source": [
    "str = \"SHIFT\"\n",
    "for i in range(len(str)+1):\n",
    "    # print(i)\n",
    "    # print(str[i:])\n",
    "    # print(str[:i])\n",
    "    # print(\"-----\")\n",
    "    shifted_word = str[i:] + str[:i]\n",
    "    print(shifted_word)  "
   ]
  },
  {
   "cell_type": "markdown",
   "id": "a94f1857-a71d-4ffc-a92a-5e1b04d4956f",
   "metadata": {},
   "source": [
    "Write a program in python that accepts a string to setup a passwords. Your entered password must\n",
    "meet the following requirements:\n",
    "The password must be at least eight characters long.\n",
    "It must contain at least one uppercase letter.\n",
    "It must contain at least one lowercase letter.\n",
    "It must contain at least one numeric digit.\n",
    "Your program should should perform this validation"
   ]
  },
  {
   "cell_type": "code",
   "execution_count": 35,
   "id": "1fd5d89a-9d1e-4d5d-81d7-616fa610a615",
   "metadata": {},
   "outputs": [
    {
     "name": "stdin",
     "output_type": "stream",
     "text": [
      "Enter a password Msaad1999\n"
     ]
    },
    {
     "name": "stdout",
     "output_type": "stream",
     "text": [
      "Your Password is strong\n"
     ]
    }
   ],
   "source": [
    "password = input(\"Enter a password\")\n",
    "\n",
    "\n",
    "ele1 = False\n",
    "for p in password:\n",
    "    if p.isupper():\n",
    "        ele1 = True\n",
    "        break\n",
    "\n",
    "ele2 = False\n",
    "for p in password:\n",
    "    if p.islower():\n",
    "        ele2 = True\n",
    "        break\n",
    "\n",
    "ele3 = False\n",
    "for p in password:\n",
    "    if p.isdigit():\n",
    "        ele3 = True\n",
    "        break\n",
    "\n",
    "if len(password) >= 8 and ele1 == True and ele2 == True and ele3 == True:\n",
    "    print('Your Password is strong')\n",
    "else:\n",
    "    print(\"Your password is not strong\")    \n"
   ]
  },
  {
   "cell_type": "code",
   "execution_count": null,
   "id": "9ad3aa83-25b3-481a-9127-c59f6c852fc6",
   "metadata": {},
   "outputs": [],
   "source": []
  },
  {
   "cell_type": "code",
   "execution_count": null,
   "id": "989239fc-d10a-4ad4-9a08-9b470c1c2032",
   "metadata": {},
   "outputs": [],
   "source": []
  }
 ],
 "metadata": {
  "kernelspec": {
   "display_name": "Python 3 (ipykernel)",
   "language": "python",
   "name": "python3"
  },
  "language_info": {
   "codemirror_mode": {
    "name": "ipython",
    "version": 3
   },
   "file_extension": ".py",
   "mimetype": "text/x-python",
   "name": "python",
   "nbconvert_exporter": "python",
   "pygments_lexer": "ipython3",
   "version": "3.11.5"
  }
 },
 "nbformat": 4,
 "nbformat_minor": 5
}
