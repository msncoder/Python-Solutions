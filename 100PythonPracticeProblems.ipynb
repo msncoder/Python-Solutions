{
 "cells": [
  {
   "cell_type": "code",
   "execution_count": null,
   "id": "ed7c9a2a-34a1-407d-b184-54a616ca2e64",
   "metadata": {},
   "outputs": [],
   "source": [
    "# User will input (3ages).Find the oldest one\n"
   ]
  },
  {
   "cell_type": "code",
   "execution_count": null,
   "id": "8b456858-f6c0-4326-bb97-d12f32218a08",
   "metadata": {},
   "outputs": [],
   "source": [
    "a = int(input(\"Enter a age\"))\n",
    "b = int(input(\"Enter a age\"))\n",
    "c = int(input(\"Enter a age\"))\n",
    "\n",
    "max = a\n",
    "\n",
    "if max < b:\n",
    "    max = b\n",
    "if max < c:\n",
    "    max = c\n",
    "print(max)"
   ]
  },
  {
   "cell_type": "code",
   "execution_count": null,
   "id": "beec0b04-4d22-4b34-9701-d7087db8c408",
   "metadata": {},
   "outputs": [],
   "source": [
    "# User will input (3ages).Find the newest one"
   ]
  },
  {
   "cell_type": "code",
   "execution_count": null,
   "id": "920ebbab-18eb-4b32-ba14-55ba9cabda8c",
   "metadata": {},
   "outputs": [],
   "source": [
    "a = int(input(\"Enter a age\"))\n",
    "b = int(input(\"Enter a age\"))\n",
    "c = int(input(\"Enter a age\"))\n",
    "\n",
    "min = a\n",
    "\n",
    "if min > b:\n",
    "    min = b\n",
    "if min > c:\n",
    "    min = c\n",
    "print(min)"
   ]
  },
  {
   "cell_type": "code",
   "execution_count": null,
   "id": "27822fc2-af14-477a-888b-c979b5e002cc",
   "metadata": {},
   "outputs": [],
   "source": [
    "# Write a program that will convert celsius value to fahrenheit"
   ]
  },
  {
   "cell_type": "code",
   "execution_count": null,
   "id": "8748b52b-a0dd-4a1b-b481-b8ef0a57f04a",
   "metadata": {},
   "outputs": [],
   "source": [
    "temp = float(input(\"Enter a Temprature in celcius\"))\n",
    "\n",
    "fahrenheit = temp * 1.8 + 32\n",
    "print(f\"{fahrenheit},  Fahrenheit\")"
   ]
  },
  {
   "cell_type": "code",
   "execution_count": null,
   "id": "97315930-0eae-4cde-9dfa-e69c86624b7f",
   "metadata": {},
   "outputs": [],
   "source": [
    "# Write a program that will convert fahrenheit value to celsius"
   ]
  },
  {
   "cell_type": "code",
   "execution_count": null,
   "id": "cc410387-14ba-4ef9-bae8-dac59f53cb51",
   "metadata": {},
   "outputs": [],
   "source": [
    "temp = float(input(\"Enter a Temprature in fahrenheit\"))\n",
    "\n",
    "celsius = round((temp - 32) * 0.555) \n",
    "print(f\"{celsius},  celsius\")"
   ]
  },
  {
   "cell_type": "code",
   "execution_count": null,
   "id": "bc9d80ef-dc24-4059-a48e-2ab5ad27ede3",
   "metadata": {},
   "outputs": [],
   "source": [
    "#User will input (2numbers).Write a program to swap the numbers"
   ]
  },
  {
   "cell_type": "code",
   "execution_count": null,
   "id": "e63499e4-ef61-43bf-80e4-7ee7929b7054",
   "metadata": {},
   "outputs": [],
   "source": [
    "a = int(input(\"Enter a value\"))\n",
    "b = int(input(\"Enter a value\"))\n",
    "\n",
    "temp = a\n",
    "a = b\n",
    "b = temp\n",
    "\n",
    "print(\"The value of a\", a)\n",
    "print(\"The value of b\", b)"
   ]
  },
  {
   "cell_type": "code",
   "execution_count": null,
   "id": "06b1c2b6-7483-432b-a097-4a12a6e98e75",
   "metadata": {},
   "outputs": [],
   "source": [
    "# Write a program that will give you the sum of 3 digits"
   ]
  },
  {
   "cell_type": "code",
   "execution_count": null,
   "id": "54deea42-599e-4fd1-a848-fec5db51dc5f",
   "metadata": {},
   "outputs": [],
   "source": [
    "num = int(input(\"Enter Your 3 digit number\"))\n",
    "\n",
    "a = num % 10 #(345 % 10 = 5)\n",
    "num = num // 10 #(345 // 10 = 34)\n",
    "b = num % 10 #(34 % 10 = 4)\n",
    "c = num // 10 #(34 // 10 = 3)\n",
    "print(a + b + c)"
   ]
  },
  {
   "cell_type": "code",
   "execution_count": null,
   "id": "648ad47d-2c06-439c-9cb2-4f4f4f87b938",
   "metadata": {},
   "outputs": [],
   "source": [
    "#Write a program that will reverse a four digit number.Also it checks whether the reverse is true."
   ]
  },
  {
   "cell_type": "code",
   "execution_count": null,
   "id": "35aed70b-0b87-490f-b45e-e4f807643ee0",
   "metadata": {},
   "outputs": [],
   "source": [
    "user_input = int(input(\"Enter four digit number\"))\n",
    "num = user_input\n",
    "\n",
    "a = num % 10 #1234 its return 4\n",
    "num = num // 10 ##1234 its return 123\n",
    "\n",
    "b = num % 10\n",
    "num = num // 10\n",
    "\n",
    "c = num % 10\n",
    "num = num // 10\n",
    "\n",
    "d = num % 10\n",
    "num = num // 10\n",
    "\n",
    "rev = 1000 * a + 100 * b + 10 * c + d\n",
    "print(\"orignal user input \", user_input)\n",
    "print(rev)\n",
    "\n",
    "if user_input == rev:\n",
    "    print(\"True\")\n",
    "else:\n",
    "    print(\"False\")\n",
    "\n"
   ]
  },
  {
   "cell_type": "code",
   "execution_count": null,
   "id": "34c21958-6939-465c-afd4-d9c5485b5443",
   "metadata": {},
   "outputs": [],
   "source": [
    "# Write a program that will tell whether the number entered by the user is odd or even."
   ]
  },
  {
   "cell_type": "code",
   "execution_count": null,
   "id": "bb80ce94-637a-4c61-ba6f-60fd7fdd5927",
   "metadata": {},
   "outputs": [],
   "source": [
    "num = int(input(\"Enter a number\"))\n",
    "\n",
    "if num % 2 == 0:\n",
    "    print(\"Even\")\n",
    "else:\n",
    "    print(\"odd\")"
   ]
  },
  {
   "cell_type": "code",
   "execution_count": null,
   "id": "8955f7f6-4e22-496d-820d-1bee476f53e0",
   "metadata": {},
   "outputs": [],
   "source": [
    "# Write a program that will tell whether the given year is a leap year or not."
   ]
  },
  {
   "cell_type": "code",
   "execution_count": null,
   "id": "43b117fe-0dc5-4d84-b813-d9eccc18ea5b",
   "metadata": {},
   "outputs": [],
   "source": [
    "year = int(input(\"Enter Your Year\"))\n",
    "\n",
    "if (year % 4 == 0 and year % 100 != 0) or (year % 400 == 0):\n",
    "    print(\"Leap year\")\n",
    "else:\n",
    "    print(\"Not A Leap Year\")"
   ]
  },
  {
   "cell_type": "code",
   "execution_count": null,
   "id": "ea6e9c4f-ba51-4845-8b73-22b324b4d770",
   "metadata": {},
   "outputs": [],
   "source": [
    "# Write a program to find the euclidean distance between two coordinates."
   ]
  },
  {
   "cell_type": "code",
   "execution_count": null,
   "id": "ff279fc9-a329-4da4-804e-19582fbf24a3",
   "metadata": {},
   "outputs": [],
   "source": [
    "x1 = float(input(\"Enter a x cordinate\"))\n",
    "y1 = float(input(\"Enter a y cordinate\"))\n",
    "x2 = float(input(\"Enter a x cordinate\"))\n",
    "y2 = float(input(\"Enter a y cordinate\"))\n",
    "\n",
    "d = ((x2 - x1)**2 + (y2 - y1)**2)**0.5\n",
    "\n",
    "print(d)"
   ]
  },
  {
   "cell_type": "code",
   "execution_count": null,
   "id": "9033e54b-20c8-44bf-9bb8-994c13ad2efa",
   "metadata": {},
   "outputs": [],
   "source": [
    "# Write a program that take a user inputr of three angles and will find out whether it can form a triangle or not."
   ]
  },
  {
   "cell_type": "code",
   "execution_count": 35,
   "id": "0ac26a35-52dd-4a69-8802-fc0decea89bd",
   "metadata": {},
   "outputs": [
    {
     "name": "stdout",
     "output_type": "stream",
     "text": [
      "Enter Your 1st angle 270\n",
      "Enter Your 2st angle 360\n",
      "Enter Your 3st angle 250\n"
     ]
    },
    {
     "name": "stdout",
     "output_type": "stream",
     "text": [
      "not possible\n"
     ]
    }
   ],
   "source": [
    "a = int(input(\"Enter Your 1st angle\"))\n",
    "b = int(input(\"Enter Your 2st angle\"))\n",
    "c = int(input(\"Enter Your 3st angle\"))\n",
    "\n",
    "if a + b + c == 180 and a != 0 and b != 0 and c != 0:\n",
    "    print(\"Possible\")\n",
    "else:\n",
    "    print(\"not possible\")"
   ]
  },
  {
   "cell_type": "code",
   "execution_count": null,
   "id": "53311775-93b6-4b35-b5b9-a8ea0616fd46",
   "metadata": {},
   "outputs": [],
   "source": [
    "# Write a program that will take user input of cost price and selling price and determines whether its a loss or a profit"
   ]
  },
  {
   "cell_type": "code",
   "execution_count": 36,
   "id": "a6249ab4-d356-4fec-8357-08e914153e5f",
   "metadata": {},
   "outputs": [
    {
     "name": "stdout",
     "output_type": "stream",
     "text": [
      "Enter Your first price 500\n",
      "Enter Your selling price 700\n"
     ]
    },
    {
     "name": "stdout",
     "output_type": "stream",
     "text": [
      "200.0 profit\n"
     ]
    }
   ],
   "source": [
    "cp = float(input(\"Enter Your first price\"))\n",
    "sp = float(input(\"Enter Your selling price\"))\n",
    "\n",
    "if cp > sp:\n",
    "    amount = cp - sp\n",
    "    print(amount, \"loss\")\n",
    "else:\n",
    "    amount = sp - cp \n",
    "    print(amount, \"profit\")\n",
    "    \n",
    "           "
   ]
  },
  {
   "cell_type": "code",
   "execution_count": null,
   "id": "a5595ec1-94f0-43cb-8bc8-3cb37e45a702",
   "metadata": {},
   "outputs": [],
   "source": [
    "# Write a program to find the simple interest when the value of principle,rate of interest and time period is given."
   ]
  },
  {
   "cell_type": "code",
   "execution_count": null,
   "id": "cc58ad78-e87b-4396-a94c-538377a16c8c",
   "metadata": {},
   "outputs": [],
   "source": [
    "p = int(input(\"Enter Your principle\"))\n",
    "r = int(input(\"Enter the rate of interest\"))\n",
    "t = int(input(\"Enter time period in year\"))\n",
    "si = (p * r * t) / 100\n",
    "print(\"You Simple interst is\", si)\n",
    "a = p + si\n",
    "print(\"Your Amount is\", a)"
   ]
  },
  {
   "cell_type": "code",
   "execution_count": null,
   "id": "95fb6dd1-7b26-44d2-84d5-0e157cd6de29",
   "metadata": {},
   "outputs": [],
   "source": [
    "# Write a program to find the volume of the cylinder. Also find the cost when ,when the cost of 1litre gas is 290Rs."
   ]
  },
  {
   "cell_type": "code",
   "execution_count": null,
   "id": "ffe19b1e-530f-42d9-a37e-0cb1f3fcb3c7",
   "metadata": {},
   "outputs": [],
   "source": [
    "r = float(input(\"Enter a radius\"))\n",
    "h = float(input(\"Enter a height\"))\n",
    "\n",
    "v = 3.14 * (r**2) * h\n",
    "print(\"your volume is\", v)\n",
    "\n",
    "cost = v/1000 * 40\n",
    "print(\"Your cost :\",\"Rs\", cost)"
   ]
  },
  {
   "cell_type": "code",
   "execution_count": null,
   "id": "981ee3c7-1ebe-4c2c-87a3-a8e42898b559",
   "metadata": {},
   "outputs": [],
   "source": [
    "# Write  a program that will tell whether the given number is divisible by 3 & 6."
   ]
  },
  {
   "cell_type": "code",
   "execution_count": 40,
   "id": "d811e069-efd2-4083-bff8-e085b29744a7",
   "metadata": {},
   "outputs": [
    {
     "name": "stdout",
     "output_type": "stream",
     "text": [
      "Enter Your Number 72\n"
     ]
    },
    {
     "name": "stdout",
     "output_type": "stream",
     "text": [
      "72 :divisible by 3 and 6\n"
     ]
    }
   ],
   "source": [
    "num = int(input(\"Enter Your Number\"))\n",
    "if num % 3 == 0 and num % 6 == 0:\n",
    "    print(num, ':divisible by 3 and 6')\n",
    "else:\n",
    "    print(num, ':not divisible by 3 and 6')\n",
    "          "
   ]
  },
  {
   "cell_type": "code",
   "execution_count": null,
   "id": "86fe9d9a-635c-4302-9896-80c19b26e619",
   "metadata": {},
   "outputs": [],
   "source": [
    "# Write a program that will determine weather when the value of temperature and humidity is provided by the user.\n",
    "#TEMPERATURE(C)      HUMIDITY(%)      WEATHER\n",
    "\n",
    " #     >= 30                             >=90                Hot and Humid\n",
    "  #    >= 30                             < 90                 Hot\n",
    "   #   <30                                >= 90               Cool and Humid\n",
    "    #  <30                                 <90                 Cool\n"
   ]
  },
  {
   "cell_type": "code",
   "execution_count": null,
   "id": "c30df1ab-bb8a-445b-b195-7c4936cf689c",
   "metadata": {},
   "outputs": [],
   "source": [
    "temp = int(input(\"Enter a temprature in celcius\"))\n",
    "humidity = int(input(\"Enter a Humidity\"))\n",
    "\n",
    "if temp >= 20 and humidity >= 90:\n",
    "    print(\" Hot And Humid\")\n",
    "    \n",
    "elif temp >= 25 and humidity <= 90:\n",
    "    print(\" Hot \")\n",
    "\n",
    "    \n",
    "elif temp < 30 and humidity >= 90:\n",
    "    print(\" Cold And Humid \")\n",
    "\n",
    "else:\n",
    "    print(\"Cold\")"
   ]
  },
  {
   "cell_type": "code",
   "execution_count": null,
   "id": "f9cd87aa-1eaf-438b-82e1-876db75653a9",
   "metadata": {},
   "outputs": [],
   "source": [
    "# Write a program that will take three digits from the user and add the square of each digit."
   ]
  },
  {
   "cell_type": "code",
   "execution_count": null,
   "id": "9e4e1d98-f46f-4bbc-9b1d-49b763aa0325",
   "metadata": {},
   "outputs": [],
   "source": [
    "a = int(input(\"Enter a Numbe\"))\n",
    "b = int(input(\"Enter a Number\"))\n",
    "c = int(input(\"Enter a Number\"))\n",
    "\n",
    "d1 = a ** 2\n",
    "d2 = b ** 2\n",
    "d3 = c ** 2\n",
    "\n",
    "square = d1 + d2 + d3\n",
    "\n",
    "print(square)"
   ]
  },
  {
   "cell_type": "code",
   "execution_count": null,
   "id": "7486150e-fc26-4268-9017-3c89cba05a96",
   "metadata": {},
   "outputs": [],
   "source": [
    "num = 234\n",
    "\n",
    "a = num % 10 #(345 % 10 = 5)\n",
    "num = num // 10 #(345 // 10 = 34)\n",
    "b = num % 10 #(34 % 10 = 4)\n",
    "c = num // 10 #(34 // 10 = 3)\n",
    "\n",
    "add_square = a ** 2 + b ** 2 + c ** 2\n",
    "\n",
    "print(add_square)"
   ]
  },
  {
   "cell_type": "code",
   "execution_count": null,
   "id": "b6fb9435-8f8c-46c9-b4ff-ab05ba311762",
   "metadata": {},
   "outputs": [],
   "source": [
    "num = int(input(\"Enter a Three Number\"))\n",
    "\n",
    "a = num % 10\n",
    "# print(a)\n",
    "num = num // 10\n",
    "# print(num)\n",
    "b = num % 10\n",
    "# print(b)\n",
    "num = num // 10\n",
    "# print(num)\n",
    "\n",
    "add_square = (a ** 2) + (b ** 2) + (c ** 2)\n",
    "print(add_square)"
   ]
  },
  {
   "cell_type": "code",
   "execution_count": null,
   "id": "f9c45a84-0ee0-46bc-bc4f-c8851843bb5c",
   "metadata": {},
   "outputs": [],
   "source": [
    "#Write a program that will check whether the number is armstrong number or not."
   ]
  },
  {
   "cell_type": "code",
   "execution_count": null,
   "id": "3587e0b0-1bf5-4936-a4d8-5be702159c30",
   "metadata": {},
   "outputs": [],
   "source": [
    "user_input = int(input(\"Enter a number\"))\n",
    "num  = user_input\n",
    "\n",
    "a = num % 10\n",
    "num = num // 10\n",
    "b = num % 10\n",
    "c = num // 10\n",
    "\n",
    "if (a**3) + (b**3) + (c**3) == user_input:\n",
    "    print(\"Armstong number\")\n",
    "else:\n",
    "    print(\"NOt an Armstrong number\")\n",
    "\n",
    "\n"
   ]
  },
  {
   "cell_type": "code",
   "execution_count": null,
   "id": "afaabbc2-e581-4bb0-84b4-a31f6dcc00b8",
   "metadata": {},
   "outputs": [],
   "source": [
    "# Write a program that will take user input of (4 digits number) and check whether the number is narcissist number or not."
   ]
  },
  {
   "cell_type": "code",
   "execution_count": null,
   "id": "f27632f9-bbc8-4c83-b853-f80592ad57ad",
   "metadata": {},
   "outputs": [],
   "source": [
    "user_input = int(input(\"Enter a number\"))\n",
    "num  = user_input\n",
    "\n",
    "a = num % 10\n",
    "print(a)\n",
    "num = num // 10\n",
    "print(num)\n",
    "b = num % 10\n",
    "print(b)\n",
    "num = num // 10\n",
    "print(num)\n",
    "c = num % 10\n",
    "print(c)\n",
    "d = num // 10\n",
    "print(d)\n",
    "if (a**4) + (b**4) + (c**4) + (d**4) == user_input:\n",
    "    print(\"narcissist  number\")\n",
    "else:\n",
    "    print(\"NOt an narcissist  number\")\n"
   ]
  },
  {
   "cell_type": "code",
   "execution_count": null,
   "id": "41571e73-b482-477f-bf7b-ae7d7fb4e501",
   "metadata": {},
   "outputs": [],
   "source": [
    "# Write a program that will give you the in hand salary after deduction of HRA(10%),DA(5%),PF(3%),\n",
    "#and tax(if salary is between 5-10 lakh–10%),(11-20lakh–20%),(20< _   – 30%)(0-1lakh print k).\n"
   ]
  },
  {
   "cell_type": "code",
   "execution_count": null,
   "id": "2c97dc80-cc59-4012-8c06-208122990f83",
   "metadata": {},
   "outputs": [],
   "source": [
    "user_input = float(input(\"Enter your annual salary\"))\n",
    "if user_input > 500000 and user_input < 100000:\n",
    "    tex = (10/100)*user_input\n",
    "    temp = user_input - tex\n",
    "\n",
    "elif user_input > 100000 and user_input < 2000000:\n",
    "    tex = (20/100)*user_input\n",
    "    temp = user_input - tex\n",
    "\n",
    "else:\n",
    "    tex = (30/100)*user_input\n",
    "    temp = user_input - tex\n",
    "\n",
    "print(f\"After Reduction,:temp\")\n",
    "hra = (10/100)*temp\n",
    "da = (5/100)*temp\n",
    "pf = (3/100)*temp\n",
    "\n",
    "in_handsalary = (temp - hra - da - pf)/12\n",
    "print('In Hand Salary is:',in_handsalary)\n",
    "\n",
    "if in_handsalary <= 999:\n",
    "    print(in_handsalary)\n",
    "elif in_handsalary >= 1000 and in_handsalary <= 9999:\n",
    "    print(in_handsalary/100,'k')\n",
    "elif in_handsalary >= 100000 and in_handsalary <= 9999999:\n",
    "    print(in_handsalary/100000,'L')\n",
    "\n",
    "else:\n",
    "    print(in_handsalary/100000,'cr')"
   ]
  },
  {
   "cell_type": "code",
   "execution_count": null,
   "id": "6c31d9af-af80-4f4f-8487-81bcecb9245b",
   "metadata": {},
   "outputs": [],
   "source": [
    "#Write a menu driven program - 1.cm to ft  2.kl to miles  3.usd to inr  4.exit"
   ]
  },
  {
   "cell_type": "code",
   "execution_count": null,
   "id": "c8f19452-655e-4674-8029-698b14bd69a4",
   "metadata": {},
   "outputs": [],
   "source": [
    "user_input = input(\"\"\"\n",
    "    Hi.Welcome to our program\n",
    "    what would you like to do.\n",
    "    1. Convert cm to inchess\n",
    "    2. Convert km to miles\n",
    "    3. Convert Pkr to usd\n",
    "    4. Exit\n",
    "\"\"\")\n",
    "\n",
    "if user_input == '1':\n",
    "        cm = float(input(\"Enter value in cm\"))\n",
    "        inch = cm * 0.394\n",
    "        print(inch)\n",
    "elif user_input == '2':\n",
    "    km = float(input(\"Enter a value of km\"))\n",
    "    mile = km * 0.621\n",
    "    print(miles)\n",
    "elif user_input == '3':\n",
    "    usd = float(input(\"Enetr a usd\"))\n",
    "    pkr = usd * 270\n",
    "    print(pkr)\n",
    "else:\n",
    "    print(\"Bye\")"
   ]
  },
  {
   "cell_type": "code",
   "execution_count": null,
   "id": "e12ddbce-10eb-4979-b205-52eff074c4b2",
   "metadata": {},
   "outputs": [],
   "source": [
    "#Write a program that will swap numbers"
   ]
  },
  {
   "cell_type": "code",
   "execution_count": null,
   "id": "de7c5743-94ba-4b74-9bdc-a5bbd8dc6015",
   "metadata": {},
   "outputs": [],
   "source": [
    "a = int(input(\"Enter a number\"))\n",
    "b = int(input(\"Enter a number\"))\n",
    "\n",
    "temp = a\n",
    "a = b\n",
    "b = temp\n",
    "\n",
    "print(a)\n",
    "print(b)\n"
   ]
  },
  {
   "cell_type": "code",
   "execution_count": null,
   "id": "16572813-756d-4890-afa3-84c95c3e7f50",
   "metadata": {},
   "outputs": [],
   "source": [
    "#Write a program to find the sum of first n numbers, where n will be provided by the user. Eg if the user provides n=10 the output should be 55."
   ]
  },
  {
   "cell_type": "code",
   "execution_count": null,
   "id": "0a3b76ab-8316-4cde-af9d-7b385cd367fd",
   "metadata": {},
   "outputs": [],
   "source": [
    "n = int(input(\"Enter a number\"))\n",
    "sum = 0\n",
    "for i in range(n+1):\n",
    "    sum = sum + i\n",
    "print(sum)"
   ]
  },
  {
   "cell_type": "code",
   "execution_count": null,
   "id": "6020e425-98f3-4445-8a6b-c4f955d1cd8a",
   "metadata": {},
   "outputs": [],
   "source": [
    "#Write a program that can multiply 2 numbers provided by the user without using the * operator"
   ]
  },
  {
   "cell_type": "code",
   "execution_count": null,
   "id": "f42211ba-212e-420e-8bab-01cf9152f98d",
   "metadata": {},
   "outputs": [],
   "source": [
    "num1 = int(input(\"Enter a number\"))\n",
    "num2 = int(input(\"Enter a number\"))\n",
    "multy = 0\n",
    "\n",
    "for i in range(num1):\n",
    "    multy = multy + num2\n",
    "print(multy)\n"
   ]
  },
  {
   "cell_type": "code",
   "execution_count": null,
   "id": "d07627a1-3ab7-4025-8a56-0ded176c2c91",
   "metadata": {},
   "outputs": [],
   "source": [
    "#Write a program that can find the factorial of a given number provided by the user."
   ]
  },
  {
   "cell_type": "code",
   "execution_count": null,
   "id": "ac19bbba-0ab3-4dcf-b440-c134cb025ae7",
   "metadata": {},
   "outputs": [],
   "source": [
    "num = int(input(\"Enter a number\"))\n",
    "fact = 1\n",
    "\n",
    "for i in range(1,num+1):\n",
    "    fact = fact * i\n",
    "print(fact)"
   ]
  },
  {
   "cell_type": "code",
   "execution_count": null,
   "id": "8d642aaf-40f7-4902-a33c-04f0c35868d9",
   "metadata": {},
   "outputs": [],
   "source": [
    "num = int(input(\"Enter a number\"))\n",
    "fact = 1\n",
    "\n",
    "while num != 0:\n",
    "    fact = num * fact\n",
    "    num -= 1\n",
    "print(fact)"
   ]
  },
  {
   "cell_type": "code",
   "execution_count": null,
   "id": "68b64112-505d-4488-a5e4-3509676f60ce",
   "metadata": {},
   "outputs": [],
   "source": [
    "#Write a program to print the first 25 even numbers"
   ]
  },
  {
   "cell_type": "code",
   "execution_count": null,
   "id": "12b6e192-f886-422c-a7ec-ba474122124b",
   "metadata": {},
   "outputs": [],
   "source": [
    "flag = 0\n",
    "i = 1\n",
    "l = 0\n",
    "while True:\n",
    "    if i % 2 == 0:\n",
    "        print(f\"{i}, is even\")\n",
    "        flag += 1\n",
    "        l += flag\n",
    "    if flag == 25:\n",
    "        break\n",
    "    i += 1\n",
    "print(l)"
   ]
  },
  {
   "cell_type": "code",
   "execution_count": null,
   "id": "a49786c6-fb1b-4d97-9c83-39e94fce102b",
   "metadata": {},
   "outputs": [],
   "source": [
    "#Write a program to print the first 25 odd numbers"
   ]
  },
  {
   "cell_type": "code",
   "execution_count": null,
   "id": "fe921d9c-f423-46b8-ac1f-a51106775d8c",
   "metadata": {},
   "outputs": [],
   "source": [
    "flag = 0\n",
    "i = 1\n",
    "l = 0\n",
    "while True:\n",
    "    if i % 2 != 0:\n",
    "        print(f\"{i}, is odd\")\n",
    "        flag += 1\n",
    "        l += flag\n",
    "    if flag == 25:\n",
    "        break\n",
    "    i += 1\n",
    "print(l)"
   ]
  },
  {
   "cell_type": "code",
   "execution_count": null,
   "id": "afe18a3c-1982-471c-abbe-d1fdba4e7bdc",
   "metadata": {},
   "outputs": [],
   "source": [
    "#Write a program to print whether a given number is prime number or not"
   ]
  },
  {
   "cell_type": "code",
   "execution_count": null,
   "id": "6dcf2d16-8c23-48f2-b4ac-18588a89df85",
   "metadata": {},
   "outputs": [],
   "source": [
    "num = int(input(\"Enter a number\"))\n",
    "if num == 2:\n",
    "    print(num,\" is prime number\")\n",
    "elif num > 1:\n",
    "    for i in range(2,num):\n",
    "        if (num % i) == 0:\n",
    "            print(num, \"is not a prime number\")\n",
    "            break\n",
    "        else:\n",
    "            print(num, \" is a prime number\")\n",
    "            break\n",
    "else:\n",
    "    print(num, \"is not a prime number\")"
   ]
  },
  {
   "cell_type": "code",
   "execution_count": null,
   "id": "31863cdb-37d2-4765-988a-712b42326d93",
   "metadata": {},
   "outputs": [],
   "source": [
    "def is_prime(number):\n",
    "    if number <= 1:\n",
    "        return False\n",
    "    for i in range(2, int(number ** 0.5) + 1):\n",
    "        if number % i == 0:\n",
    "            return False\n",
    "    return True\n",
    "\n",
    "# Taking input from the user\n",
    "num = int(input(\"Enter a number: \"))\n",
    "\n",
    "# Checking if the number is prime or not\n",
    "if is_prime(num):\n",
    "    print(num, \"is a prime number\")\n",
    "else:\n",
    "    print(num, \"is not a prime number\")\n"
   ]
  },
  {
   "cell_type": "code",
   "execution_count": 41,
   "id": "a370716d-2299-4041-b841-f995d3e7e17c",
   "metadata": {},
   "outputs": [],
   "source": [
    "# wirte a program that prints the number from 1 to n but multiples of 3 print fizz \n",
    "#instead of the number and for multiply of 5 print buzz, for number which are multiples of both 3 and 6 print fizzbuzz"
   ]
  },
  {
   "cell_type": "code",
   "execution_count": 64,
   "id": "dd84a233-c666-44c8-bc26-f14bae75e9f0",
   "metadata": {},
   "outputs": [
    {
     "name": "stdout",
     "output_type": "stream",
     "text": [
      "Enter a number 15\n"
     ]
    },
    {
     "name": "stdout",
     "output_type": "stream",
     "text": [
      "output: (1, 2, 'fizz', 4, 'Buzz', 'fizz', 7, 8, 'fizz', 'Buzz', 11, 'fizz', 13, 14, 'fizz buzz')\n"
     ]
    }
   ],
   "source": [
    "user_input = int(input(\"Enter a number\"))\n",
    "output = []\n",
    "for i in range(1,user_input+1):\n",
    "    \n",
    "    if i%3 == 0 and i%5 == 0:\n",
    "        output.append(\"fizz buzz\")\n",
    "    elif i%5 == 0:\n",
    "        output.append(\"Buzz\")\n",
    "    elif i%3 == 0:\n",
    "        output.append(\"fizz\")\n",
    "    else:\n",
    "        output.append(i)\n",
    "\n",
    "output = tuple(output)\n",
    "print(f\"output: {output}\")"
   ]
  },
  {
   "cell_type": "code",
   "execution_count": 65,
   "id": "0c8fc1a4-a73c-44a1-a356-2a95104d66dc",
   "metadata": {},
   "outputs": [],
   "source": [
    "#Write a function to find if a number is a palindrome or not. Take number as parameter"
   ]
  },
  {
   "cell_type": "code",
   "execution_count": 79,
   "id": "4e8305da-9274-47f4-8523-01318a3e4d36",
   "metadata": {},
   "outputs": [
    {
     "name": "stdout",
     "output_type": "stream",
     "text": [
      "Enter a string:  rotator\n"
     ]
    },
    {
     "name": "stdout",
     "output_type": "stream",
     "text": [
      "Palindrome\n"
     ]
    }
   ],
   "source": [
    "def is_palindrome(string):\n",
    "    length = len(string) # its assign the sring length number\n",
    "    for i in range(length // 2): # here iterate floor of length\n",
    "        if string[i] != string[length - i - 1]:  #heres compare if string of i not equal to string og length - i of loop -1\n",
    "            return False\n",
    "    return True\n",
    "\n",
    "user_input = input(\"Enter a string: \")\n",
    "if is_palindrome(user_input):\n",
    "    print(\"Palindrome\")\n",
    "else:\n",
    "    print(\"Not a Palindrome\")"
   ]
  },
  {
   "cell_type": "code",
   "execution_count": 1,
   "id": "d66cfdde-0aaf-47f2-b460-d0f7d2a81377",
   "metadata": {},
   "outputs": [],
   "source": [
    "#Print all the armstrong numbers in the range of 100 to 1000"
   ]
  },
  {
   "cell_type": "code",
   "execution_count": 11,
   "id": "42a3775c-4c20-4191-bd80-c8a09dd5ea56",
   "metadata": {},
   "outputs": [
    {
     "name": "stdout",
     "output_type": "stream",
     "text": [
      "153\n",
      "370\n",
      "371\n",
      "407\n"
     ]
    }
   ],
   "source": [
    "for num in range(100,1000):\n",
    "    i = num\n",
    "    # print(i)\n",
    "    a = num % 10 #(100 to 1)\n",
    "    # print(a)    \n",
    "    num = num // 10 #(100 to 10)\n",
    "    # print(num)\n",
    "    b = num % 10 #(10 to 0)\n",
    "    # print(b)\n",
    "    c = num // 10 #(10 to 1)\n",
    "    # print(c)\n",
    "\n",
    "    if (a**3) + (b**3) + (c**3) == i: # heres check that condintion the number we find and i is equal then its armstong number \n",
    "        print(i)\n",
    "    i = i + 1"
   ]
  },
  {
   "cell_type": "code",
   "execution_count": 13,
   "id": "d7582600-593f-42b5-8c19-e58b034eecad",
   "metadata": {},
   "outputs": [],
   "source": [
    "#The current population of a town is 10000. The population of the town is increasing at the rate of 10% per year. You have to write a program to find out the population at the end of each of the last 10 years. For eg current population is 10000 so the output should be like this:\n",
    "#10th year - 10000\n",
    "#9th year - 9000\n",
    "#8th year - 8100 and so on\n"
   ]
  },
  {
   "cell_type": "code",
   "execution_count": 18,
   "id": "123723b1-4d02-4b01-b12f-5b8a8d8779c0",
   "metadata": {},
   "outputs": [
    {
     "name": "stdout",
     "output_type": "stream",
     "text": [
      "1000\n",
      "900\n",
      "810\n",
      "729\n",
      "656\n",
      "590\n",
      "531\n",
      "478\n",
      "430\n",
      "387\n"
     ]
    }
   ],
   "source": [
    "flag = 0\n",
    "a = 1000\n",
    "print(a)\n",
    "while True:\n",
    "    b = (a) - ((a * 10)/100)\n",
    "    a = b\n",
    "    print(int(a))\n",
    "    flag += 1\n",
    "    if flag == 9:\n",
    "        break"
   ]
  },
  {
   "cell_type": "code",
   "execution_count": 1,
   "id": "f3930deb-df0b-42b7-8099-8789f84f6d73",
   "metadata": {},
   "outputs": [],
   "source": [
    "#Write a program to print all the unique combinations of 1,2,3 and 4"
   ]
  },
  {
   "cell_type": "code",
   "execution_count": 3,
   "id": "4718ca0f-a5bc-43b6-839b-dd1c73709f0c",
   "metadata": {},
   "outputs": [
    {
     "name": "stdout",
     "output_type": "stream",
     "text": [
      "1 2\n",
      "1 3\n",
      "1 4\n",
      "2 1\n",
      "2 3\n",
      "2 4\n",
      "3 1\n",
      "3 2\n",
      "3 4\n",
      "4 1\n",
      "4 2\n",
      "4 3\n"
     ]
    }
   ],
   "source": [
    "for i in range(1,5):\n",
    "    for j in range(1,5):\n",
    "        if (i != j):\n",
    "            print(i,j)"
   ]
  },
  {
   "cell_type": "code",
   "execution_count": 4,
   "id": "d5abb802-d713-4c01-97d6-17c9163bd64b",
   "metadata": {},
   "outputs": [],
   "source": [
    "#User will provide 2 numbers you have to find the HCF of those 2 numbers"
   ]
  },
  {
   "cell_type": "code",
   "execution_count": 14,
   "id": "3ef2a1af-29c1-4c9d-80a6-e93ef03206ad",
   "metadata": {},
   "outputs": [
    {
     "name": "stdout",
     "output_type": "stream",
     "text": [
      "Enter first number 6\n",
      "Enter a second number 4\n"
     ]
    },
    {
     "name": "stdout",
     "output_type": "stream",
     "text": [
      "Your HCF is 2\n"
     ]
    }
   ],
   "source": [
    "a = int(input(\"Enter first number\"))\n",
    "b = int(input(\"Enter a second number\"))\n",
    "\n",
    "while a%b != 0:\n",
    "    hcf = a % b\n",
    "    a = b\n",
    "    b = hcf\n",
    "\n",
    "print(f\"Your HCF is {b}\")"
   ]
  },
  {
   "cell_type": "code",
   "execution_count": 15,
   "id": "e8de8af3-772e-4218-9b94-7e5f8c2c1f4e",
   "metadata": {},
   "outputs": [],
   "source": [
    "#User will provide 2 numbers you have to find the by LCM of those 2 numbers"
   ]
  },
  {
   "cell_type": "code",
   "execution_count": 21,
   "id": "62e492d5-c4bb-41dc-8fd0-e26811edc737",
   "metadata": {},
   "outputs": [
    {
     "name": "stdout",
     "output_type": "stream",
     "text": [
      "Enter first number 9\n",
      "Enter a second number 6\n"
     ]
    },
    {
     "name": "stdout",
     "output_type": "stream",
     "text": [
      "your LCM is 18.0\n"
     ]
    }
   ],
   "source": [
    "a = int(input(\"Enter first number\"))\n",
    "num1 = a\n",
    "b = int(input(\"Enter a second number\"))\n",
    "num2 = b\n",
    "while a%b != 0:\n",
    "    hcf = a % b\n",
    "    a = b\n",
    "    b = hcf\n",
    "\n",
    "Lcm = (num1 * num2) / b\n",
    "print(f\"your LCM is {Lcm}\")\n"
   ]
  },
  {
   "cell_type": "code",
   "execution_count": 22,
   "id": "afea8a9d-7170-4e5c-9b45-e318eaec60f2",
   "metadata": {},
   "outputs": [],
   "source": [
    "#Print first 25 prime numbers"
   ]
  },
  {
   "cell_type": "code",
   "execution_count": 12,
   "id": "32130c2a-14dc-4197-a62a-1d54f71b1714",
   "metadata": {},
   "outputs": [
    {
     "name": "stdout",
     "output_type": "stream",
     "text": [
      "2\n",
      "3\n",
      "5\n",
      "7\n",
      "11\n",
      "13\n"
     ]
    }
   ],
   "source": [
    "counter = 0\n",
    "num = 2\n",
    "\n",
    "while counter <= 5: # while counter is not equal to 5\n",
    "    for i in range(2,num): # iterate 2 to global number given\n",
    "        # print(i)\n",
    "        if num % i == 0: # if num modulo by iteratable number equal to zero break\n",
    "            # print(i)\n",
    "            break\n",
    "    \n",
    "    else: # else forloop k saat jb execute hoga jb loop khatam hoga iteration kr k agar loop break huwa tu else conditon nhi chalygi\n",
    "        print(num) #\n",
    "        counter+=1\n",
    "    num+=1\n",
    "    "
   ]
  },
  {
   "cell_type": "code",
   "execution_count": null,
   "id": "13011ac5-500f-4d6e-a595-80f309957295",
   "metadata": {},
   "outputs": [],
   "source": [
    "#Print the first 20 numbers of a Fibonacci series"
   ]
  },
  {
   "cell_type": "code",
   "execution_count": 2,
   "id": "c27dd845-aa08-4993-adc8-8ff8a269d014",
   "metadata": {},
   "outputs": [
    {
     "name": "stdout",
     "output_type": "stream",
     "text": [
      "0\n",
      "1\n",
      "1\n",
      "2\n",
      "3\n",
      "5\n",
      "8\n",
      "13\n",
      "21\n",
      "34\n",
      "55\n",
      "89\n",
      "144\n",
      "233\n",
      "377\n",
      "610\n",
      "987\n",
      "1597\n",
      "2584\n",
      "4181\n"
     ]
    }
   ],
   "source": [
    "count = 0\n",
    "a = 0\n",
    "b = 1\n",
    "print(a)\n",
    "print(b)\n",
    "\n",
    "while True:\n",
    "    c = a + b\n",
    "    a = b\n",
    "    b = c\n",
    "    print(c)\n",
    "    count += 1\n",
    "    if count == 18:\n",
    "        break"
   ]
  },
  {
   "cell_type": "code",
   "execution_count": 3,
   "id": "82e75515-f3ee-4e1c-9758-34233a08e583",
   "metadata": {},
   "outputs": [],
   "source": [
    "#Write a program to find the compound interest "
   ]
  },
  {
   "cell_type": "code",
   "execution_count": 4,
   "id": "46c075ab-b14e-427e-a102-2e9852872a88",
   "metadata": {},
   "outputs": [
    {
     "name": "stdout",
     "output_type": "stream",
     "text": [
      "Enter a principal 2\n",
      "Enter a interest rate 1\n",
      "Enter a time elapsed 10\n"
     ]
    },
    {
     "name": "stdout",
     "output_type": "stream",
     "text": [
      "amount of a is 2.209244250822409\n",
      "your compound interest is 0.20924425082240905\n"
     ]
    }
   ],
   "source": [
    "p = int(input(\"Enter a principal\"))\n",
    "r = int(input('Enter a interest rate'))\n",
    "t = int(input(\"Enter a time elapsed\"))\n",
    "\n",
    "a = p*(1+r/100)**t\n",
    "print(\"amount of a is\", a)\n",
    "ci = a - p\n",
    "print(\"your compound interest is\",ci)\n"
   ]
  },
  {
   "cell_type": "code",
   "execution_count": 5,
   "id": "f5e868f7-2bb6-4aae-ad4a-21542f41dad2",
   "metadata": {},
   "outputs": [],
   "source": [
    "#Write a Python program that accepts an integer (n) and computes the value of n+nn+nnn."
   ]
  },
  {
   "cell_type": "code",
   "execution_count": 8,
   "id": "0830e2e6-403f-4070-bf72-34252711f552",
   "metadata": {},
   "outputs": [
    {
     "name": "stdout",
     "output_type": "stream",
     "text": [
      "Enter a number 2\n"
     ]
    },
    {
     "name": "stdout",
     "output_type": "stream",
     "text": [
      "n is 2\n",
      "n n is 22\n",
      "nnn is 222\n",
      "246\n"
     ]
    }
   ],
   "source": [
    "n =input(\"Enter a number\")\n",
    "print(\"n is\", n)\n",
    "nn = n + n\n",
    "print(\"n n is\", nn)\n",
    "nnn = n + n + n\n",
    "print(\"nnn is\", nnn)\n",
    "c = int(n) + int(nn) + int(nnn)\n",
    "print(c)"
   ]
  },
  {
   "cell_type": "code",
   "execution_count": null,
   "id": "15f34426-95b4-4ea1-b5d3-67802e6b4190",
   "metadata": {},
   "outputs": [],
   "source": [
    "#Take a number from the user and find the number of digits in it."
   ]
  },
  {
   "cell_type": "code",
   "execution_count": 13,
   "id": "ffb3ead2-854b-4ee3-874d-abfc865eab30",
   "metadata": {},
   "outputs": [
    {
     "name": "stdout",
     "output_type": "stream",
     "text": [
      "Enter a number 1234\n"
     ]
    },
    {
     "name": "stdout",
     "output_type": "stream",
     "text": [
      "4\n"
     ]
    }
   ],
   "source": [
    "a = int(input('Enter a number'))\n",
    "count = 0\n",
    "while a > 0:\n",
    "    a = a // 10\n",
    "    # print(a)\n",
    "    count +=1\n",
    "print(count)"
   ]
  },
  {
   "cell_type": "code",
   "execution_count": 14,
   "id": "2538cd4f-8aba-4254-a120-a0b19e9b4d57",
   "metadata": {},
   "outputs": [],
   "source": [
    "#Print all factors of a given number provided by the user."
   ]
  },
  {
   "cell_type": "code",
   "execution_count": 18,
   "id": "ab6d2995-7728-42f0-aa69-e883436a171e",
   "metadata": {},
   "outputs": [
    {
     "name": "stdout",
     "output_type": "stream",
     "text": [
      "Enter a number 14\n"
     ]
    },
    {
     "name": "stdout",
     "output_type": "stream",
     "text": [
      "your fators is 1\n",
      "your fators is 2\n",
      "your fators is 7\n",
      "your fators is 14\n"
     ]
    }
   ],
   "source": [
    "num = int(input(\"Enter a number\"))\n",
    "\n",
    "for i in range(1, num+1):\n",
    "    if num % i == 0:\n",
    "        print(\"your fators is\", i)"
   ]
  },
  {
   "cell_type": "code",
   "execution_count": 19,
   "id": "6160e865-1843-4bc0-9b82-857e47324f0e",
   "metadata": {},
   "outputs": [],
   "source": [
    "#Find the reverse of a number provided by the user(any number of digit) "
   ]
  },
  {
   "cell_type": "code",
   "execution_count": 21,
   "id": "411f9c1c-6a36-4ced-91f5-f8a0510c7141",
   "metadata": {},
   "outputs": [
    {
     "name": "stdout",
     "output_type": "stream",
     "text": [
      "Enter a number 654\n"
     ]
    },
    {
     "name": "stdout",
     "output_type": "stream",
     "text": [
      "Revised value is 456\n"
     ]
    }
   ],
   "source": [
    "a = int(input(\"Enter a number\"))\n",
    "rev = 0\n",
    "while a > 0:\n",
    "    rem = a % 10 # 675 == 5\n",
    "    a = a // 10 # 675 == 67\n",
    "    rev = (rev * 10) + rem\n",
    "\n",
    "print(\"Revised value is\", rev)"
   ]
  },
  {
   "cell_type": "code",
   "execution_count": 1,
   "id": "95da1068-d467-4e2b-abcd-36f45b772af9",
   "metadata": {},
   "outputs": [],
   "source": [
    "#Write a program to print the following pattern\n",
    "#*\n",
    "#**\n",
    "#***\n",
    "#****\n",
    "#*****\n"
   ]
  },
  {
   "cell_type": "code",
   "execution_count": 7,
   "id": "f5984dbd-382b-4a51-b6ce-eec57ca22f76",
   "metadata": {},
   "outputs": [
    {
     "name": "stdout",
     "output_type": "stream",
     "text": [
      "enter rows of pyramid 5\n"
     ]
    },
    {
     "name": "stdout",
     "output_type": "stream",
     "text": [
      "\n",
      "* \n",
      "* * \n",
      "* * * \n",
      "* * * * \n",
      "* * * * * \n"
     ]
    }
   ],
   "source": [
    "rows = int(input(\"enter rows of pyramid\"))\n",
    "for i in range(0,rows+1):\n",
    "    for j in range(i):\n",
    "        print(\"*\",end=\" \")\n",
    "    print()"
   ]
  },
  {
   "cell_type": "code",
   "execution_count": 13,
   "id": "1bc3aaf7-71f2-4ee4-a608-b27573ace521",
   "metadata": {},
   "outputs": [
    {
     "name": "stdout",
     "output_type": "stream",
     "text": [
      "enter rows of pyramid 4\n"
     ]
    },
    {
     "name": "stdout",
     "output_type": "stream",
     "text": [
      "   * \n",
      "  * * \n",
      " * * * \n",
      "* * * * \n"
     ]
    }
   ],
   "source": [
    "rows = int(input(\"enter rows of pyramid\"))\n",
    "for i in range(rows):\n",
    "    for j in range(0,rows-i-1):\n",
    "        print(end=\" \")\n",
    "    for k in range(0,i+1):\n",
    "        print(\"*\",end=\" \")\n",
    "    print()"
   ]
  },
  {
   "cell_type": "code",
   "execution_count": 14,
   "id": "cc04fff8-d8fe-447d-96d5-a99362547024",
   "metadata": {},
   "outputs": [],
   "source": [
    "#Write a program to print the following pattern\n",
    "#*\n",
    "#**\n",
    "#***\n",
    "#**\n",
    "#*\n"
   ]
  },
  {
   "cell_type": "code",
   "execution_count": 25,
   "id": "e9fc4f05-b5c3-42d8-81c3-d3fab53a6910",
   "metadata": {},
   "outputs": [
    {
     "name": "stdout",
     "output_type": "stream",
     "text": [
      "enter row 4\n"
     ]
    },
    {
     "name": "stdout",
     "output_type": "stream",
     "text": [
      "\n",
      "* \n",
      "* * \n",
      "* * * \n",
      "* * * * \n",
      "* * * \n",
      "* * \n",
      "* \n",
      "\n"
     ]
    }
   ],
   "source": [
    "row = int(input(\"enter row\"))\n",
    "\n",
    "for i in range(0,row+1):\n",
    "    for j in range(0,i):\n",
    "        print('*',end=\" \")\n",
    "    print()\n",
    "for k in range(row,0,-1):\n",
    "    for l in range(0,k-1):\n",
    "        print(\"*\",end=\" \")\n",
    "    print()"
   ]
  },
  {
   "cell_type": "code",
   "execution_count": 23,
   "id": "c77c517a-671c-4d6e-bb3b-251c50a101fa",
   "metadata": {},
   "outputs": [
    {
     "name": "stdout",
     "output_type": "stream",
     "text": [
      "Enter a row 4\n"
     ]
    },
    {
     "name": "stdout",
     "output_type": "stream",
     "text": [
      "1  \n",
      "1 2 1  \n",
      "1 2 3 2 1  \n",
      "1 2 3 4 3 2 1  \n"
     ]
    }
   ],
   "source": [
    "row = int(input(\"Enter a row\"))\n",
    "for i in range(1,row+1):\n",
    "    for j in range(1,i+1):\n",
    "        print(j,end=\" \")\n",
    "    for l in range(i-1,0,-1):\n",
    "        print(l,end=\" \")\n",
    "    print(\" \")"
   ]
  },
  {
   "cell_type": "code",
   "execution_count": 25,
   "id": "5d8a4577-b1c8-4f1d-9184-e44b24bd0b28",
   "metadata": {},
   "outputs": [
    {
     "name": "stdout",
     "output_type": "stream",
     "text": [
      "Enter a row 3\n"
     ]
    },
    {
     "name": "stdout",
     "output_type": "stream",
     "text": [
      "1 \n",
      "2 3 \n",
      "4 5 6 \n"
     ]
    }
   ],
   "source": [
    "row = int(input(\"Enter a row\"))\n",
    "num = 1\n",
    "\n",
    "for i in range(1,row+1):\n",
    "    for j in range(1,i+1):\n",
    "        print(num,end = \" \")\n",
    "        num += 1\n",
    "    print()"
   ]
  },
  {
   "cell_type": "code",
   "execution_count": 26,
   "id": "d5dc014d-3fcb-4dc4-87d1-dc1f877e2102",
   "metadata": {},
   "outputs": [],
   "source": [
    "#Write a program to calculate the sum of the following series till the nth term\n",
    "#1/1! + 2/2! + 3/3! + 4/4! +…….+ n/n!\n",
    "#n will be provided by the user"
   ]
  },
  {
   "cell_type": "code",
   "execution_count": null,
   "id": "0071c143-056c-4c01-9498-aad7662613bb",
   "metadata": {},
   "outputs": [
    {
     "name": "stdout",
     "output_type": "stream",
     "text": [
      "Enter a row 5\n"
     ]
    },
    {
     "name": "stdout",
     "output_type": "stream",
     "text": [
      "2.708333333333333\n"
     ]
    }
   ],
   "source": [
    "row = int(input(\"Enter a row\"))\n",
    "result = 0\n",
    "factorial = 1\n",
    "for i in range(1,row+1):\n",
    "    factorial = factorial * i\n",
    "    result = result + (i/factorial)\n",
    "print(result)"
   ]
  },
  {
   "cell_type": "code",
   "execution_count": 1,
   "id": "1765e005-788a-4e2d-b360-db5f1f16ca5d",
   "metadata": {},
   "outputs": [],
   "source": [
    " #Write a program that keeps on accepting a number from the user until the user enters Zero. Display the sum and average of all the numbers."
   ]
  },
  {
   "cell_type": "code",
   "execution_count": 5,
   "id": "d9d955d9-79d8-4352-b5da-102e4dff4425",
   "metadata": {},
   "outputs": [
    {
     "name": "stdout",
     "output_type": "stream",
     "text": [
      "Enter a number 3\n",
      "Enter a number 36\n",
      "Enter a number 66\n",
      "Enter a number 0\n"
     ]
    },
    {
     "name": "stdout",
     "output_type": "stream",
     "text": [
      "ThankYou\n",
      "Sum of Your Numbers is: 105\n",
      "Average of Your Number is: 35.0\n"
     ]
    }
   ],
   "source": [
    "user_input = int(input(\"Enter a number\"))\n",
    "add = 0\n",
    "avg = 0\n",
    "count = 0\n",
    "\n",
    "while True:\n",
    "    if user_input !=  0:\n",
    "        add = add + user_input\n",
    "        count += 1\n",
    "        avg = add/count\n",
    "        user_input = int(input(\"Enter a number\"))\n",
    "    else:\n",
    "        print(\"ThankYou\")\n",
    "        break\n",
    "print(\"Sum of Your Numbers is:\",add)\n",
    "print(\"Average of Your Number is:\",avg)"
   ]
  },
  {
   "cell_type": "code",
   "execution_count": 6,
   "id": "d736a030-c149-4974-b1b3-eeed439d7abf",
   "metadata": {},
   "outputs": [],
   "source": [
    "#Write a program that accepts 2 numbers from the user a numerator and a denominator and then simplifies it\n",
    "#Eg if the num = 5, den = 15 the answer should be ⅓\n",
    "#Eg if the num = 6, den = 9 the answer should be ⅔\n"
   ]
  },
  {
   "cell_type": "code",
   "execution_count": 10,
   "id": "26510976-c6f8-48cf-8da2-816aaef9d4d7",
   "metadata": {},
   "outputs": [
    {
     "name": "stdout",
     "output_type": "stream",
     "text": [
      "Enter a number 6\n",
      "Enter a denumenator 9\n"
     ]
    },
    {
     "name": "stdout",
     "output_type": "stream",
     "text": [
      "0.6666666666666666\n"
     ]
    }
   ],
   "source": [
    "a = int(input(\"Enter a number\"))\n",
    "num1 = a\n",
    "b = int(input(\"Enter a denumenator\"))\n",
    "num2 = b\n",
    "\n",
    "while num1%num2 != 0:\n",
    "    rem = num1%num2\n",
    "    num1 = num2\n",
    "    num2 = rem\n",
    "hcf = num2\n",
    "a = a/hcf\n",
    "b = b/hcf\n",
    "print(a/b)"
   ]
  },
  {
   "cell_type": "code",
   "execution_count": 11,
   "id": "0e3f5514-9a82-47d2-8bc9-583fec28b01e",
   "metadata": {},
   "outputs": [],
   "source": [
    "#Find the length of a given string without using the len() function. "
   ]
  },
  {
   "cell_type": "code",
   "execution_count": 5,
   "id": "305b2337-674b-48b9-8919-307360521ab0",
   "metadata": {},
   "outputs": [
    {
     "name": "stdout",
     "output_type": "stream",
     "text": [
      "Enter a String You find the length 546\n"
     ]
    },
    {
     "name": "stdout",
     "output_type": "stream",
     "text": [
      "The length of your sting is: 3\n"
     ]
    }
   ],
   "source": [
    "user_input= input(\"Enter a String You find the length\")\n",
    "count = 0\n",
    "\n",
    "for i in user_input:\n",
    "    count += 1\n",
    "    \n",
    "print(\"The length of your sting is:\",count)"
   ]
  },
  {
   "cell_type": "code",
   "execution_count": 6,
   "id": "bc7af742-f01c-4ffb-b819-0293a518cdac",
   "metadata": {},
   "outputs": [],
   "source": [
    "#Extract username from a given email. \n",
    "#Eg if the email is nitish24singh@gmail.com then the username should be nitish24singh"
   ]
  },
  {
   "cell_type": "code",
   "execution_count": 10,
   "id": "f8324e0a-3f3b-4493-9190-dd321322058a",
   "metadata": {},
   "outputs": [
    {
     "name": "stdout",
     "output_type": "stream",
     "text": [
      "Enter Tour Email msncoder1999@gmail.com\n"
     ]
    },
    {
     "name": "stdout",
     "output_type": "stream",
     "text": [
      "msncoder1999\n",
      "msncoder1999\n"
     ]
    }
   ],
   "source": [
    "email = input(\"Enter Tour Email\")\n",
    "username = email[:email.index(\"@\")]\n",
    "print(username)\n",
    "user,email = email.split('@')\n",
    "print(user)\n"
   ]
  },
  {
   "cell_type": "code",
   "execution_count": 11,
   "id": "cb2822db-af48-482b-bcba-a9ee505643b8",
   "metadata": {},
   "outputs": [],
   "source": [
    "#Count the frequency of a particular character in a provided string. Eg 'hello how are you' is the string, the frequency of h in this string is 2."
   ]
  },
  {
   "cell_type": "code",
   "execution_count": 17,
   "id": "099fa576-022e-45f8-af8c-46854a1dbeba",
   "metadata": {},
   "outputs": [
    {
     "name": "stdout",
     "output_type": "stream",
     "text": [
      "Enter a sting pakistan\n",
      "Enter a character a\n"
     ]
    },
    {
     "name": "stdout",
     "output_type": "stream",
     "text": [
      "a ouccure 2 times in pakistan\n"
     ]
    }
   ],
   "source": [
    "a = input(\"Enter a sting\")\n",
    "b = input(\"Enter a character\")\n",
    "count = 0\n",
    "for i in a:\n",
    "    if i in b:\n",
    "        count += 1\n",
    "print(b,\"ouccure\",count,\"times in\",a)"
   ]
  },
  {
   "cell_type": "code",
   "execution_count": 18,
   "id": "20d886f8-4b20-4f30-9df5-b5b9c9a06056",
   "metadata": {},
   "outputs": [],
   "source": [
    "#Find the index position of a particular character in another string. "
   ]
  },
  {
   "cell_type": "code",
   "execution_count": 19,
   "id": "8703e807-890b-40ef-9b95-07082eb1be8c",
   "metadata": {},
   "outputs": [
    {
     "name": "stdout",
     "output_type": "stream",
     "text": [
      "Enter a sting hi hello\n",
      "Enter a character o\n"
     ]
    },
    {
     "name": "stdout",
     "output_type": "stream",
     "text": [
      "7\n"
     ]
    }
   ],
   "source": [
    "a = input(\"Enter a sting\")\n",
    "b = input(\"Enter a character\")\n",
    "\n",
    "print(a.index(b))"
   ]
  },
  {
   "cell_type": "code",
   "execution_count": 20,
   "id": "e2e6a0c7-9560-4995-ac08-df21c2a75a95",
   "metadata": {},
   "outputs": [],
   "source": [
    "#Count the number of vowels in a string provided by the user."
   ]
  },
  {
   "cell_type": "code",
   "execution_count": 21,
   "id": "39cb5ddc-5e42-4fb5-9190-ae1877acd293",
   "metadata": {},
   "outputs": [
    {
     "name": "stdout",
     "output_type": "stream",
     "text": [
      "enter a string my name is saad\n"
     ]
    },
    {
     "name": "stdout",
     "output_type": "stream",
     "text": [
      "The String has 5 Vowels\n"
     ]
    }
   ],
   "source": [
    "string = input(\"enter a string\")\n",
    "vowels = 'aeiou'\n",
    "count = 0\n",
    "for i in string:\n",
    "    if i in vowels:\n",
    "        count += 1\n",
    "print(\"The String has\",count,\"Vowels\")"
   ]
  },
  {
   "cell_type": "code",
   "execution_count": 22,
   "id": "a754dd04-c159-483f-a457-cecca288e372",
   "metadata": {},
   "outputs": [],
   "source": [
    "#Write a program which can remove a particular character from a string. "
   ]
  },
  {
   "cell_type": "code",
   "execution_count": 32,
   "id": "728439fa-fa5a-41a8-837a-8d58d0c1b048",
   "metadata": {},
   "outputs": [
    {
     "name": "stdout",
     "output_type": "stream",
     "text": [
      "Enter a string pakistan\n",
      "Enter a character 4\n"
     ]
    },
    {
     "name": "stdout",
     "output_type": "stream",
     "text": [
      "pakstan\n"
     ]
    }
   ],
   "source": [
    "a = input(\"Enter a string\")\n",
    "b = int(input(\"Enter a character\"))\n",
    "\n",
    "c = a[0:b-1]\n",
    "d = a[b:]\n",
    "print(c+d)"
   ]
  },
  {
   "cell_type": "code",
   "execution_count": 1,
   "id": "d7e02b78-d1b5-4960-9df4-d7d56d84d1cb",
   "metadata": {},
   "outputs": [],
   "source": [
    "#Write a program that can check whether a given string is palindrome or not."
   ]
  },
  {
   "cell_type": "code",
   "execution_count": 25,
   "id": "0b8b4a9b-909a-483a-8023-16b9f7605e2c",
   "metadata": {},
   "outputs": [
    {
     "name": "stdout",
     "output_type": "stream",
     "text": [
      "Enter a palindrom mom\n"
     ]
    },
    {
     "name": "stdout",
     "output_type": "stream",
     "text": [
      "It's Palaindrom\n"
     ]
    }
   ],
   "source": [
    "user_input = input(\"Enter a palindrom\")\n",
    "rev = ''\n",
    "\n",
    "for i in range(len(user_input)-1,-1,-1):\n",
    "    # print(i)\n",
    "    rev = rev + user_input[i]\n",
    "    \n",
    "if rev == user_input:\n",
    "    print(\"It's Palaindrom\")\n",
    "else:\n",
    "    print(\"it's not a plaindrom\")\n"
   ]
  },
  {
   "cell_type": "code",
   "execution_count": 26,
   "id": "48b18da3-2386-4d83-ab3b-1a3bd0ad5d4a",
   "metadata": {},
   "outputs": [],
   "source": [
    "#Python code to remove duplicate elements from a List."
   ]
  },
  {
   "cell_type": "code",
   "execution_count": 28,
   "id": "d7472729-1537-443e-8170-451a8dac5772",
   "metadata": {},
   "outputs": [
    {
     "name": "stdout",
     "output_type": "stream",
     "text": [
      "[11, 22, 33, 44]\n"
     ]
    }
   ],
   "source": [
    "L1 = [11,22,33,44,44,33,22,11]\n",
    "L2 = []\n",
    "for i in L1:\n",
    "    if i not in L2:\n",
    "        L2.append(i)\n",
    "print(L2)"
   ]
  },
  {
   "cell_type": "code",
   "execution_count": 32,
   "id": "5029599c-4125-4613-90a4-b65bdc6cfe81",
   "metadata": {},
   "outputs": [],
   "source": [
    "#Python program to convert a string to title case without using title() function."
   ]
  },
  {
   "cell_type": "code",
   "execution_count": 40,
   "id": "e82338ac-2161-4a5d-bb19-9d5cb032ba85",
   "metadata": {},
   "outputs": [
    {
     "name": "stdout",
     "output_type": "stream",
     "text": [
      "Enter a string helLo sAad\n"
     ]
    },
    {
     "name": "stdout",
     "output_type": "stream",
     "text": [
      "Hello Saad \n"
     ]
    }
   ],
   "source": [
    "user_input = input(\"Enter a string\")\n",
    "y = user_input.split()\n",
    "r = ''\n",
    "for i in y:\n",
    "    r = r + i[0].upper() + i[1:].lower() +\" \"\n",
    "print(r)"
   ]
  },
  {
   "cell_type": "code",
   "execution_count": 2,
   "id": "fc19b35c-d3f1-4df6-84a9-05a8688c7afd",
   "metadata": {},
   "outputs": [],
   "source": [
    "#Python program to print the maximum value of a given list without using the max() function."
   ]
  },
  {
   "cell_type": "code",
   "execution_count": 3,
   "id": "a90747ad-d6c7-4df8-a5c7-81a763539e4a",
   "metadata": {},
   "outputs": [
    {
     "name": "stdout",
     "output_type": "stream",
     "text": [
      "9\n"
     ]
    }
   ],
   "source": [
    "L1 = [4,8,9,7,6,3,1]\n",
    "max = L1[0]\n",
    "\n",
    "for i in L1:\n",
    "    if i > max:\n",
    "        max = i\n",
    "print(max)"
   ]
  },
  {
   "cell_type": "code",
   "execution_count": 10,
   "id": "fc715454-d4f3-4c0c-8f55-e799b24c372f",
   "metadata": {},
   "outputs": [
    {
     "name": "stdout",
     "output_type": "stream",
     "text": [
      "[1, 3, 6, 7, 9, 8, 4]\n"
     ]
    }
   ],
   "source": [
    "L1 = [4,8,9,7,6,3,1]\n",
    "rev = []\n",
    "\n",
    "for i in range(len(L1)-1,-1,-1):\n",
    "    rev.append(L1[i])\n",
    "print(rev)"
   ]
  },
  {
   "cell_type": "code",
   "execution_count": 11,
   "id": "a9bb1782-4a56-4738-b7d8-8557c226e0ae",
   "metadata": {},
   "outputs": [],
   "source": [
    "#Python program to search a number in a given list"
   ]
  },
  {
   "cell_type": "code",
   "execution_count": 13,
   "id": "dcc8681a-c31c-4cf7-9b5b-67860b72b3b5",
   "metadata": {},
   "outputs": [
    {
     "name": "stdout",
     "output_type": "stream",
     "text": [
      "Enter a number 4\n"
     ]
    },
    {
     "name": "stdout",
     "output_type": "stream",
     "text": [
      "True\n"
     ]
    }
   ],
   "source": [
    "L1 = [4,8,9,7,6,3,1]\n",
    "user_input = int(input(\"Enter a number\"))\n",
    "\n",
    "for i in L1:\n",
    "    if i == user_input:\n",
    "        print(\"True\")\n",
    "        break\n",
    "else:\n",
    "    print(\"False\")"
   ]
  },
  {
   "cell_type": "code",
   "execution_count": 14,
   "id": "5379ee61-bcae-4eb4-b2e8-90b6330f521a",
   "metadata": {},
   "outputs": [],
   "source": [
    "#Python code to turn every item of a list into it's square."
   ]
  },
  {
   "cell_type": "code",
   "execution_count": 15,
   "id": "a5df7000-3c1d-4ce2-b71a-e21ed9a2c88c",
   "metadata": {},
   "outputs": [
    {
     "name": "stdout",
     "output_type": "stream",
     "text": [
      "[16, 64, 81, 49, 36, 9, 1]\n"
     ]
    }
   ],
   "source": [
    "L1 = [4,8,9,7,6,3,1]\n",
    "L2 = []\n",
    "for i in L1:\n",
    "    L2.append(i**2)\n",
    "print(L2)"
   ]
  },
  {
   "cell_type": "code",
   "execution_count": 16,
   "id": "982c1c49-838e-4f47-ab38-07edb76b4fb9",
   "metadata": {},
   "outputs": [],
   "source": [
    "#How to reverse words in a string. | Python Code"
   ]
  },
  {
   "cell_type": "code",
   "execution_count": 8,
   "id": "a6b1a794-69f3-4f7f-bf9b-94fd125d1b60",
   "metadata": {},
   "outputs": [
    {
     "name": "stdout",
     "output_type": "stream",
     "text": [
      "Enter a number my tap ball is black\n"
     ]
    },
    {
     "name": "stdout",
     "output_type": "stream",
     "text": [
      "black is ball tap my\n"
     ]
    }
   ],
   "source": [
    "user_input = input(\"Enter a number\")\n",
    "x = user_input.split()\n",
    "rev = []\n",
    "\n",
    "for i in range(len(x)-1,-1,-1):\n",
    "    rev.append(x[i])\n",
    "y = ' '.join(rev)\n",
    "print(y)"
   ]
  },
  {
   "cell_type": "code",
   "execution_count": 9,
   "id": "1f47aedf-e875-4c53-8e9d-c2fe92445cfe",
   "metadata": {},
   "outputs": [],
   "source": [
    "#Python program to find number of words in a string."
   ]
  },
  {
   "cell_type": "code",
   "execution_count": 11,
   "id": "95ae929c-5371-473e-86e4-2e5f7d6c7560",
   "metadata": {},
   "outputs": [
    {
     "name": "stdout",
     "output_type": "stream",
     "text": [
      "enter a sentence Apple is Red\n"
     ]
    },
    {
     "name": "stdout",
     "output_type": "stream",
     "text": [
      "The sentence have 3 words\n"
     ]
    }
   ],
   "source": [
    "user_input = input(\"enter a sentence\")\n",
    "count = 1\n",
    "for i in user_input:\n",
    "    if i == \" \":\n",
    "        count += 1\n",
    "print(f\"The sentence have {count} words\")"
   ]
  },
  {
   "cell_type": "code",
   "execution_count": 12,
   "id": "5af7a281-8f72-48a8-82ce-55aea3903941",
   "metadata": {},
   "outputs": [],
   "source": [
    "#Python program to check whether the list is sorted or not with using sort() function."
   ]
  },
  {
   "cell_type": "code",
   "execution_count": 27,
   "id": "af82b7c5-a505-4089-bee4-84ca6d6223be",
   "metadata": {},
   "outputs": [
    {
     "name": "stdout",
     "output_type": "stream",
     "text": [
      "unsorted\n"
     ]
    }
   ],
   "source": [
    "a = [2,6,4]\n",
    "flag = 0\n",
    "for i in range(0,len(a)-1):\n",
    "    if a[i] >= a[i+1]:\n",
    "        flag = 1\n",
    "        break\n",
    "if flag == 0:\n",
    "    print(\"sorted\")\n",
    "else:\n",
    "    print(\"unsorted\")"
   ]
  },
  {
   "cell_type": "code",
   "execution_count": 28,
   "id": "d61538b3-1ab4-4f02-87e7-fe8691a9fd8f",
   "metadata": {},
   "outputs": [],
   "source": [
    "#Put Even and Odd Elements of a list in two different List using Python.\n"
   ]
  },
  {
   "cell_type": "code",
   "execution_count": 30,
   "id": "cf3bac42-1554-446d-96c8-339470afd598",
   "metadata": {},
   "outputs": [
    {
     "name": "stdout",
     "output_type": "stream",
     "text": [
      "Even [2, 6, 4, 8]\n",
      "Odd [3, 5, 9, 7]\n"
     ]
    }
   ],
   "source": [
    "L = [2,3,6,5,4,8,9,7]\n",
    "even = []\n",
    "odd = []\n",
    "for i in L:\n",
    "    if i % 2 == 0:\n",
    "        even.append(i)\n",
    "    else:\n",
    "        odd.append(i)\n",
    "print(f\"Even {even}\")\n",
    "print(f\"Odd {odd}\")"
   ]
  },
  {
   "cell_type": "code",
   "execution_count": 1,
   "id": "04c09ace-c9cc-4a26-a615-81858af944a2",
   "metadata": {},
   "outputs": [],
   "source": [
    "#How to combine two list in Python without using the '+' operator."
   ]
  },
  {
   "cell_type": "code",
   "execution_count": 3,
   "id": "bc540836-2bd6-478c-910e-616e4019f36e",
   "metadata": {},
   "outputs": [
    {
     "name": "stdout",
     "output_type": "stream",
     "text": [
      "[1, 2, 3, 4, 5, 6, 7, 8, 9]\n"
     ]
    }
   ],
   "source": [
    "L1 = [1,2,3,4]\n",
    "L2 = [5,6,7,8,9]\n",
    "L = []\n",
    "for i in L1:\n",
    "    L.append(i)\n",
    "for j in L2:\n",
    "    L.append(j)\n",
    "print(L)"
   ]
  },
  {
   "cell_type": "code",
   "execution_count": 4,
   "id": "58957869-3151-4e9b-961c-2cd42ea5dc8f",
   "metadata": {},
   "outputs": [],
   "source": [
    "#List in Python | Change item values | Replace item"
   ]
  },
  {
   "cell_type": "code",
   "execution_count": 10,
   "id": "06a30624-4210-4eec-89be-3ed130915f3f",
   "metadata": {},
   "outputs": [
    {
     "name": "stdout",
     "output_type": "stream",
     "text": [
      "enter a number 2\n",
      "Enter a number 200\n"
     ]
    },
    {
     "name": "stdout",
     "output_type": "stream",
     "text": [
      "[1, 200, 3, 4]\n"
     ]
    }
   ],
   "source": [
    "L = [1,2,3,4]\n",
    "find = int(input(\"enter a number\"))\n",
    "replace = int(input(\"Enter a number\"))\n",
    "\n",
    "for i in range(0,len(L)):\n",
    "    if L[i] == find:\n",
    "        L[i] = replace\n",
    "        print(L)\n",
    "        break\n",
    "else:\n",
    "    print(\"Not Found\")"
   ]
  },
  {
   "cell_type": "code",
   "execution_count": 1,
   "id": "3bbb80ad-3b0d-4d53-8855-43e1b064b381",
   "metadata": {},
   "outputs": [],
   "source": [
    "#How to flatten a 2D list in Python"
   ]
  },
  {
   "cell_type": "code",
   "execution_count": 2,
   "id": "7c5afbbf-ecbe-472c-9f47-353f2b904d0b",
   "metadata": {},
   "outputs": [
    {
     "name": "stdout",
     "output_type": "stream",
     "text": [
      "[1, 2, 3, 4, 5, 6, 7]\n"
     ]
    }
   ],
   "source": [
    "L = [1,2,3,4,[5,6,7]]\n",
    "rev = []\n",
    "for i in L:\n",
    "    if type(i) == list:\n",
    "        rev.extend(i)\n",
    "    else:\n",
    "        rev.append(i)\n",
    "print(rev)"
   ]
  },
  {
   "cell_type": "code",
   "execution_count": 3,
   "id": "ffd8e3d4-707d-4f2c-8f1c-f1d4dd1f8880",
   "metadata": {},
   "outputs": [],
   "source": [
    "#Python program to find union and intersection of two lists."
   ]
  },
  {
   "cell_type": "code",
   "execution_count": 4,
   "id": "f5b215bf-5642-4538-bf79-154e78859c89",
   "metadata": {},
   "outputs": [
    {
     "name": "stdout",
     "output_type": "stream",
     "text": [
      "[1, 2, 3, 4, 5, 6, 7, 8, 9]\n",
      "[5]\n"
     ]
    }
   ],
   "source": [
    "L1 = [1,2,3,4,5]\n",
    "L2 = [5,6,7,8,9]\n",
    "union = []\n",
    "intersection = []\n",
    "for i in L1:\n",
    "    if i not in union:\n",
    "        union.append(i)\n",
    "for j in L2:\n",
    "    if j not in union:\n",
    "        union.append(j)\n",
    "print(union)\n",
    "\n",
    "for i in L1:\n",
    "    if i in L2:\n",
    "        intersection.append(i)\n",
    "print(intersection)"
   ]
  },
  {
   "cell_type": "code",
   "execution_count": 5,
   "id": "789c6830-9422-414c-b3a4-1fbea31c3371",
   "metadata": {},
   "outputs": [],
   "source": [
    "#Python code to print the maximum item of each row of a matrix"
   ]
  },
  {
   "cell_type": "code",
   "execution_count": 9,
   "id": "177960a5-80b2-4b38-9d41-32cfd2bc61c3",
   "metadata": {},
   "outputs": [
    {
     "name": "stdout",
     "output_type": "stream",
     "text": [
      "3\n",
      "6\n",
      "9\n"
     ]
    }
   ],
   "source": [
    "matrix = [\n",
    "    [1,2,3],\n",
    "    [4,5,6],\n",
    "    [7,8,9]\n",
    "]\n",
    "\n",
    "for i in matrix:\n",
    "    max = i[0]\n",
    "    for j in i:\n",
    "        if j > max:\n",
    "            max = j\n",
    "    print(max)"
   ]
  },
  {
   "cell_type": "code",
   "execution_count": 10,
   "id": "c5de27cc-7d17-4fb2-9cf6-2b3e3aaeda02",
   "metadata": {},
   "outputs": [],
   "source": [
    "#Python code to print the shape of the matrix. Python tutorial in Hindi"
   ]
  },
  {
   "cell_type": "code",
   "execution_count": 12,
   "id": "17089f72-ed2b-4482-a298-42f90e38ef3d",
   "metadata": {},
   "outputs": [
    {
     "name": "stdout",
     "output_type": "stream",
     "text": [
      "matrix is 2 * 3\n"
     ]
    }
   ],
   "source": [
    "matrix = [\n",
    "    [1,2,3],\n",
    "    [4,5,6]\n",
    "]\n",
    "row = 0\n",
    "for i  in matrix:\n",
    "    row += 1\n",
    "print(\"matrix is\", row,\"*\",len(i))"
   ]
  },
  {
   "cell_type": "code",
   "execution_count": 13,
   "id": "7f76ed94-5e3f-4a5c-9a20-79d60422afe4",
   "metadata": {},
   "outputs": [],
   "source": [
    "#Python program to check whether multiplication is possible between two given matrices."
   ]
  },
  {
   "cell_type": "code",
   "execution_count": 27,
   "id": "df300944-a6d2-428a-86a2-9709283f2b67",
   "metadata": {},
   "outputs": [
    {
     "name": "stdout",
     "output_type": "stream",
     "text": [
      "not possible\n"
     ]
    }
   ],
   "source": [
    "matrix1 = [\n",
    "    [1,2,3],\n",
    "    # [4,5,6],\n",
    "    # [7,8,9]\n",
    "]\n",
    "row1 = 0\n",
    "for i in matrix1:\n",
    "    row1 += 1\n",
    "    column1 = len(i)\n",
    "    # print(column1)\n",
    "\n",
    "\n",
    "matrix2 = [\n",
    "    [1,2,3],\n",
    "    [4,5,6],\n",
    "    \n",
    "]\n",
    "row2 = 0\n",
    "for j in matrix2:\n",
    "    row2 += 1\n",
    "    column2 = len(j)\n",
    "    # print(column2)\n",
    "\n",
    "if column1 == row2:\n",
    "    print(\"multiplication possible\")\n",
    "else:\n",
    "    print(\"not possible\")"
   ]
  },
  {
   "cell_type": "code",
   "execution_count": 28,
   "id": "e735a2b8-c413-4f08-99b6-44d7cb68913e",
   "metadata": {},
   "outputs": [],
   "source": [
    "#Python program to sort an unsorted list in Python without using Sort() function."
   ]
  },
  {
   "cell_type": "code",
   "execution_count": 53,
   "id": "5d310928-bda7-4d73-9ec2-2733caca013d",
   "metadata": {},
   "outputs": [
    {
     "name": "stdout",
     "output_type": "stream",
     "text": [
      "[2, 4, 5, 6]\n"
     ]
    }
   ],
   "source": [
    "L = [2,5,6,4]\n",
    "\n",
    "for i in range(len(L)):\n",
    "    # print(len(L))\n",
    "    # print(\"---\")\n",
    "    for j in range(0,len(L)-1):\n",
    "        # print(0,len(L)-1)\n",
    "        if L[j] > L[j+1]:\n",
    "            temp = L[j]\n",
    "            L[j] = L[j+1] \n",
    "            L[j+1] = temp\n",
    "print(L)"
   ]
  },
  {
   "cell_type": "code",
   "execution_count": 54,
   "id": "0e1a8e33-ce8b-4166-9004-f37d47dad15b",
   "metadata": {},
   "outputs": [],
   "source": [
    "#Python program to find the factorial of a given number without using loop\n"
   ]
  },
  {
   "cell_type": "code",
   "execution_count": 55,
   "id": "8fe1c706-1ef3-4f3d-ac2a-5997b5f72290",
   "metadata": {},
   "outputs": [],
   "source": [
    "def fact(num):\n",
    "    if num == 1:\n",
    "        return 1\n",
    "    else:\n",
    "        return num * fact(num-1)"
   ]
  },
  {
   "cell_type": "code",
   "execution_count": 58,
   "id": "72533fcc-35fa-485e-8a92-d6e07968b563",
   "metadata": {},
   "outputs": [
    {
     "data": {
      "text/plain": [
       "40320"
      ]
     },
     "execution_count": 58,
     "metadata": {},
     "output_type": "execute_result"
    }
   ],
   "source": [
    "fact(8)"
   ]
  },
  {
   "cell_type": "code",
   "execution_count": 31,
   "id": "4822272d-2e75-4136-883a-ddbc73fa445b",
   "metadata": {},
   "outputs": [],
   "source": [
    "def Bow(sentences):\n",
    "    vocab = []\n",
    "    for i in sentences:\n",
    "        # print(i)\n",
    "        vocab.extend(i.split())\n",
    "        print(vocab)\n",
    "    vocab = list(set(vocab)) # here's comes unique word list\n",
    "    print(vocab)\n",
    "\n",
    "\n",
    "    vector2d = []\n",
    "\n",
    "    for sentence in sentences:\n",
    "        vector = []\n",
    "        \n",
    "        for word in vocab:\n",
    "            vector.append(sentence.count(word))\n",
    "\n",
    "        vector2d.append(vector)\n",
    "    return vector2d\n",
    "\n",
    "sentences =['hello how are you',\n",
    "            \"i'm fine today\",\n",
    "            \"what's going on\" ,\n",
    "            'nothing happen']"
   ]
  },
  {
   "cell_type": "code",
   "execution_count": 32,
   "id": "9e61c838-0d40-4a4b-8c22-36124a017c99",
   "metadata": {},
   "outputs": [
    {
     "name": "stdout",
     "output_type": "stream",
     "text": [
      "['hello', 'how', 'are', 'you']\n",
      "['hello', 'how', 'are', 'you', \"i'm\", 'fine', 'today']\n",
      "['hello', 'how', 'are', 'you', \"i'm\", 'fine', 'today', \"what's\", 'going', 'on']\n",
      "['hello', 'how', 'are', 'you', \"i'm\", 'fine', 'today', \"what's\", 'going', 'on', 'nothing', 'happen']\n",
      "['on', 'are', 'hello', 'nothing', \"i'm\", 'fine', 'how', 'today', 'happen', 'you', 'going', \"what's\"]\n"
     ]
    },
    {
     "data": {
      "text/plain": [
       "[[0, 1, 1, 0, 0, 0, 1, 0, 0, 1, 0, 0],\n",
       " [0, 0, 0, 0, 1, 1, 0, 1, 0, 0, 0, 0],\n",
       " [1, 0, 0, 0, 0, 0, 0, 0, 0, 0, 1, 1],\n",
       " [0, 0, 0, 1, 0, 0, 0, 0, 1, 0, 0, 0]]"
      ]
     },
     "execution_count": 32,
     "metadata": {},
     "output_type": "execute_result"
    }
   ],
   "source": [
    "Bow(sentences)"
   ]
  },
  {
   "cell_type": "code",
   "execution_count": 1,
   "id": "4decf06e-75d6-4096-8239-818c8097831b",
   "metadata": {},
   "outputs": [],
   "source": [
    "#Shortest distance between given coordinates"
   ]
  },
  {
   "cell_type": "code",
   "execution_count": 9,
   "id": "1bf99a73-7fc0-4f56-9664-2d8dffe3afa3",
   "metadata": {},
   "outputs": [
    {
     "name": "stdout",
     "output_type": "stream",
     "text": [
      "Nearest neighbor is at index: 1 and the distance is: 49.25444142409901\n"
     ]
    }
   ],
   "source": [
    "def nearest_neighbor(neighbors, you):\n",
    "    def calculate_distance(c1, c2):\n",
    "        return ((c1[0] - c2[0])**2 + (c1[1] - c2[1])**2) ** 0.5\n",
    "\n",
    "    distances = []\n",
    "\n",
    "    for i in neighbors:\n",
    "        distances.append(calculate_distance(you, i))\n",
    "\n",
    "    neighbor_index, distance = sorted(list(enumerate(distances)), key=lambda x: x[1])[0]\n",
    "\n",
    "    print(\"Nearest neighbor is at index:\", neighbor_index, \"and the distance is:\", distance)\n",
    "\n",
    "# Define neighbors list properly with square brackets []\n",
    "neighbors = [\n",
    "    [89, 75],\n",
    "    [56, 14],\n",
    "    [89, 75],\n",
    "    [56, 14]\n",
    "]\n",
    "\n",
    "you = [7, 9]\n",
    "\n",
    "nearest_neighbor(neighbors, you)\n"
   ]
  },
  {
   "cell_type": "code",
   "execution_count": 2,
   "id": "8fe26a0c-9a83-4607-800a-6eb920be49a0",
   "metadata": {},
   "outputs": [],
   "source": [
    "text = \"\"\"Programming often involves examining\n",
    "a set of Conditions and deciding which\n",
    "action to take based on those conditions.\n",
    "Python’s if statement allows you to examine the\n",
    "current state of a program and respond appropriately\n",
    "to that state.\n",
    "Programming often involves examining\n",
    "a set of Conditions and deciding which\n",
    "action to take based on those conditions.\n",
    "Python’s if statement allows you to examine the\n",
    "current state of a program and respond appropriately\n",
    "to that state.\n",
    "Programming often involves examining\n",
    "a set of Conditions and deciding which\n",
    "action to take based on those conditions.\n",
    "Python’s if statement allows you to examine the\n",
    "current state of a program and respond appropriately\n",
    "to that state.\"\"\""
   ]
  },
  {
   "cell_type": "code",
   "execution_count": 3,
   "id": "e02d484f-1ea3-4d9d-9882-d7f6d87f957d",
   "metadata": {},
   "outputs": [
    {
     "name": "stdout",
     "output_type": "stream",
     "text": [
      "Number of uppercase letters: 9\n",
      "Text converted to lowercase:\n",
      "programming often involves examining\n",
      "a set of conditions and deciding which\n",
      "action to take based on those conditions.\n",
      "python’s if statement allows you to examine the\n",
      "current state of a program and respond appropriately\n",
      "to that state.\n",
      "programming often involves examining\n",
      "a set of conditions and deciding which\n",
      "action to take based on those conditions.\n",
      "python’s if statement allows you to examine the\n",
      "current state of a program and respond appropriately\n",
      "to that state.\n",
      "programming often involves examining\n",
      "a set of conditions and deciding which\n",
      "action to take based on those conditions.\n",
      "python’s if statement allows you to examine the\n",
      "current state of a program and respond appropriately\n",
      "to that state.\n"
     ]
    }
   ],
   "source": [
    "count_upper = 0\n",
    "lowercase_text = \"\"\n",
    "\n",
    "for char in text:\n",
    "    if char.isupper():\n",
    "        count_upper += 1\n",
    "        lowercase_text += char.lower()\n",
    "    else:\n",
    "        lowercase_text += char\n",
    "\n",
    "print(\"Number of uppercase letters:\", count_upper)\n",
    "print(\"Text converted to lowercase:\")\n",
    "print(lowercase_text)"
   ]
  },
  {
   "cell_type": "code",
   "execution_count": null,
   "id": "b1933099-6bd1-4954-a4ef-d2982f9d5095",
   "metadata": {},
   "outputs": [],
   "source": []
  }
 ],
 "metadata": {
  "kernelspec": {
   "display_name": "Python 3 (ipykernel)",
   "language": "python",
   "name": "python3"
  },
  "language_info": {
   "codemirror_mode": {
    "name": "ipython",
    "version": 3
   },
   "file_extension": ".py",
   "mimetype": "text/x-python",
   "name": "python",
   "nbconvert_exporter": "python",
   "pygments_lexer": "ipython3",
   "version": "3.11.5"
  }
 },
 "nbformat": 4,
 "nbformat_minor": 5
}
