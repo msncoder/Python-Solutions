{
 "cells": [
  {
   "cell_type": "markdown",
   "id": "a1bfbeba-240c-4948-ab86-60eebfbb2928",
   "metadata": {},
   "source": [
    "2-1. Simple Message: Store a message in a variable, and then print that\n",
    "message.\n",
    "2-2. Simple Messages: Store a message in a variable, and print that message.\n",
    "Then change the value of your variable to a new message, and print the new\n",
    "message"
   ]
  },
  {
   "cell_type": "code",
   "execution_count": 4,
   "id": "b965ab95-bab3-422c-b8b0-3f0a8f3d71c9",
   "metadata": {},
   "outputs": [
    {
     "name": "stdout",
     "output_type": "stream",
     "text": [
      "Hi. I am Saad\n",
      "Hi. I am Saad\n",
      "I am Python Developer\n"
     ]
    }
   ],
   "source": [
    "message = \"Hi. I am Saad\"\n",
    "print(message)\n",
    "new_message = message\n",
    "print(new_message)\n",
    "new_message = \"I am Python Developer\"\n",
    "print(new_message)"
   ]
  },
  {
   "cell_type": "markdown",
   "id": "f449383e-51ea-4f10-b341-31e81dbb1be2",
   "metadata": {},
   "source": [
    "2-3. Personal Message: Store a person’s name in a variable, and print a message to that person. Your message should be simple, such as, “Hello Eric,\n",
    "would you like to learn some Python today?”"
   ]
  },
  {
   "cell_type": "code",
   "execution_count": 5,
   "id": "27f9c3da-e84f-4022-b79e-ac6fc3baa203",
   "metadata": {},
   "outputs": [
    {
     "name": "stdout",
     "output_type": "stream",
     "text": [
      "Hello Saad would you like to learn some Python today?\n"
     ]
    }
   ],
   "source": [
    "name = \"Saad\"\n",
    "personal_message = f\"Hello {name} would you like to learn some Python today?\"\n",
    "print(personal_message)"
   ]
  },
  {
   "cell_type": "markdown",
   "id": "878507cb-790c-41e5-9ca0-416aaa2ce0f7",
   "metadata": {},
   "source": [
    "2-4. Name Cases: Store a person’s name in a variable, and then print that person’s name in lowercase, uppercase, and titlecase"
   ]
  },
  {
   "cell_type": "code",
   "execution_count": 1,
   "id": "db997e40-40e9-48ff-80f3-ce90cb206476",
   "metadata": {},
   "outputs": [
    {
     "name": "stdout",
     "output_type": "stream",
     "text": [
      "saad\n",
      "SAAD\n",
      "Saad\n"
     ]
    }
   ],
   "source": [
    "name = 'saAd'\n",
    "print(name.lower())\n",
    "print(name.upper())\n",
    "print(name.title())"
   ]
  },
  {
   "cell_type": "markdown",
   "id": "8190e7a1-d5df-41f2-8c0a-907022dc3b1d",
   "metadata": {},
   "source": [
    "2-5. Famous Quote: Find a quote from a famous person you admire. Print the\r\n",
    "quote and the name of its author. Your output should look something like the\r\n",
    "following, including the quotation marks:\r\n",
    "Albert Einstein once said, “A person who never made a\r\n",
    "mistake never tried anything new.”"
   ]
  },
  {
   "cell_type": "code",
   "execution_count": 6,
   "id": "042bf23e-7ce7-428f-8940-f7feac26dd48",
   "metadata": {},
   "outputs": [
    {
     "name": "stdout",
     "output_type": "stream",
     "text": [
      "Albert Einstein once said, \"A person who never made a mistake never tried anything new.\"\n"
     ]
    }
   ],
   "source": [
    "name = \"Albert Einstein\"\n",
    "quote = \"A person who never made a mistake never tried anything new.\"\n",
    "\n",
    "print(f'{name} once said, \"{quote}\"')"
   ]
  },
  {
   "cell_type": "markdown",
   "id": "846ff10b-d582-433b-8666-a70a4a8abced",
   "metadata": {},
   "source": [
    "2-6. Famous Quote 2: Repeat Exercise 2-5, but this time store the famous person’s name in a variable called famous_person. Then compose your message\n",
    "and store it in a new variable called message. Print your message."
   ]
  },
  {
   "cell_type": "code",
   "execution_count": 7,
   "id": "64ed4dda-6bd9-4f6e-baf7-fc85df8b62be",
   "metadata": {},
   "outputs": [
    {
     "name": "stdout",
     "output_type": "stream",
     "text": [
      "Albert Einstein once said, \"A person who never made a mistake never tried anything new.\"\n"
     ]
    }
   ],
   "source": [
    "famous_name = \"Albert Einstein\"\n",
    "quote = \"A person who never made a mistake never tried anything new.\"\n",
    "\n",
    "message = f'{name} once said, \"{quote}\"'\n",
    "print(message)"
   ]
  },
  {
   "cell_type": "markdown",
   "id": "f6d47d0c-5d81-47f2-89bc-3313686d3ad8",
   "metadata": {},
   "source": [
    "2-7. Stripping Names: Store a person’s name, and include some whitespace\n",
    "characters at the beginning and end of the name. Make sure you use each\n",
    "character combination, \"\\t\" and \"\\n\", at least once.\n",
    "Print the name once, so the whitespace around the name is displayed.\n",
    "Then print the name using each of the three stripping functions, lstrip(),\n",
    "rstrip(), and strip()."
   ]
  },
  {
   "cell_type": "code",
   "execution_count": 23,
   "id": "218facad-5d3c-4a7e-a454-cf8c1d58a029",
   "metadata": {},
   "outputs": [
    {
     "name": "stdout",
     "output_type": "stream",
     "text": [
      "Name with whitespace:\n",
      " My name \t is \n",
      "ad \n",
      "\n",
      "Stripped versions:\n",
      "Using lstrip(): My name \t is \n",
      "ad \n",
      "Using rstrip():  My name \t is \n",
      "ada\n",
      "Using strip(): My name \t is \n",
      "ada\n"
     ]
    }
   ],
   "source": [
    "name = \" My name \\t is \\n Saad \"\n",
    "\n",
    "print(\"Name with whitespace:\")\n",
    "print(name)\n",
    "\n",
    "print(\"\\nStripped versions:\")\n",
    "print(\"Using lstrip():\", name.lstrip())  \n",
    "print(\"Using rstrip():\", name.rstrip())  \n",
    "print(\"Using strip():\", name.strip()) "
   ]
  },
  {
   "cell_type": "code",
   "execution_count": null,
   "id": "0b19ad07-1dfd-44bd-b8a9-e6891ec84976",
   "metadata": {},
   "outputs": [],
   "source": [
    "s = 'Saa d'\n",
    "print(s.split())\n",
    "s_without_space = ''.join(s.split())\n",
    "print(s_without_space)  "
   ]
  },
  {
   "cell_type": "code",
   "execution_count": 33,
   "id": "073a696c-5a61-49ee-b74f-2cbef4acbc50",
   "metadata": {},
   "outputs": [
    {
     "name": "stdout",
     "output_type": "stream",
     "text": [
      "geek\n"
     ]
    }
   ],
   "source": [
    "string = ' g e e k '\n",
    "\n",
    "print(''.join(string.split()))\n"
   ]
  },
  {
   "cell_type": "markdown",
   "id": "9df9c75c-aaf3-4a4b-a04b-ecc5f5988c31",
   "metadata": {},
   "source": [
    "2-8. Number Eight: Write addition, subtraction, multiplication, and division\n",
    "operations that each result in the number 8. Be sure to enclose your operations\n",
    "in print statements to see the results. You should create four lines that look\n",
    "like this:\n",
    "print(5 + 3)\n",
    "Your output should simply be four lines with the number 8 appearing once\r\n",
    "on each line."
   ]
  },
  {
   "cell_type": "code",
   "execution_count": 37,
   "id": "bbbad347-b90c-4a18-9e27-dd4c0bd43281",
   "metadata": {},
   "outputs": [
    {
     "name": "stdout",
     "output_type": "stream",
     "text": [
      "8\n",
      "8\n",
      "8\n",
      "8\n"
     ]
    }
   ],
   "source": [
    "print(5+3)\n",
    "print(10-2)\n",
    "print(2*4)\n",
    "print(16//2)"
   ]
  },
  {
   "cell_type": "markdown",
   "id": "c8f4f933-7a51-4697-b2ec-3b918528f888",
   "metadata": {},
   "source": [
    "2-9. Favorite Number: Store your favorite number in a variable. Then, using\n",
    "that variable, create a message that reveals your favorite number. Print that\n",
    "message"
   ]
  },
  {
   "cell_type": "code",
   "execution_count": 38,
   "id": "a65f3309-3e2b-4257-b151-a8bbe103e505",
   "metadata": {},
   "outputs": [
    {
     "name": "stdout",
     "output_type": "stream",
     "text": [
      "7 is my favorite variable\n"
     ]
    }
   ],
   "source": [
    "variable = 7\n",
    "reveal_fav_variable = f\"{variable} is my favorite variable\"\n",
    "print(reveal_fav_variable)"
   ]
  },
  {
   "cell_type": "markdown",
   "id": "1ce8912a-c578-4aac-b7b1-60d7aee20ff3",
   "metadata": {},
   "source": [
    "2-10. Adding Comments: Choose two of the programs you’ve written, and\n",
    "add at least one comment to each. If you don’t have anything specific to write\n",
    "because your programs are too simple at this point, just add your name and\n",
    "the current date at the top of each program file. Then write one sentence\n",
    "describing what the program does."
   ]
  },
  {
   "cell_type": "code",
   "execution_count": 39,
   "id": "f9d50a76-b2af-41a6-add4-515372c46748",
   "metadata": {},
   "outputs": [
    {
     "name": "stdout",
     "output_type": "stream",
     "text": [
      "8\n",
      "8\n"
     ]
    }
   ],
   "source": [
    "# MSN.Dev 7/22/2024\n",
    "print(2*4) # it multiply 2 by 4\n",
    "print(16//2) # it divide 16 by 2 and give ground value."
   ]
  },
  {
   "cell_type": "code",
   "execution_count": 45,
   "id": "aea07ef9-eb47-4ebd-93c7-87fde853923c",
   "metadata": {},
   "outputs": [
    {
     "data": {
      "text/plain": [
       "19"
      ]
     },
     "execution_count": 45,
     "metadata": {},
     "output_type": "execute_result"
    }
   ],
   "source": [
    "4**2/4+2-3+4**2\n",
    "4**2//4+2-3+4**2\n",
    "#16/4+2-3+16\n",
    "#4+2-3+16\n",
    "#6-3+16\n",
    "#3+16\n",
    "#19"
   ]
  },
  {
   "cell_type": "markdown",
   "id": "76b7efca-5a19-49b1-ad4c-e094c6484468",
   "metadata": {},
   "source": [
    "3-1. Names: Store the names of a few of your friends in a list called names. Print\n",
    "each person’s name by accessing each element in the list, one at a time."
   ]
  },
  {
   "cell_type": "code",
   "execution_count": 16,
   "id": "cb80581f-7d5b-4fa4-9ec8-5d9a26b24d32",
   "metadata": {},
   "outputs": [
    {
     "name": "stdout",
     "output_type": "stream",
     "text": [
      "saad\n",
      "samad\n",
      "fahad\n",
      "asad\n"
     ]
    }
   ],
   "source": [
    "names = ['saad','samad','fahad','asad']\n",
    "print(names[0])\n",
    "print(names[1])\n",
    "print(names[2])\n",
    "print(names[3])"
   ]
  },
  {
   "cell_type": "markdown",
   "id": "f67be648-374c-41ac-8f6e-316279e6fda1",
   "metadata": {},
   "source": [
    "3-2. Greetings: Start with the list you used in Exercise 3-1, but instead of just\n",
    "printing each person’s name, print a message to them. The text of each message should be the same, but each message should be personalized with the\n",
    "person’s name."
   ]
  },
  {
   "cell_type": "code",
   "execution_count": 19,
   "id": "afdba92a-aeea-4ac6-b16d-1d300a9eaffc",
   "metadata": {},
   "outputs": [
    {
     "name": "stdout",
     "output_type": "stream",
     "text": [
      "Hello saad how are You\n",
      "Hello samad how are You\n",
      "Hello fahad how are You\n",
      "Hello asad how are You\n"
     ]
    }
   ],
   "source": [
    "names = ['saad','samad','fahad','asad']\n",
    "print(f'Hello {names[0]} how are You')\n",
    "print(f'Hello {names[1]} how are You')\n",
    "print(f'Hello {names[2]} how are You')\n",
    "print(f'Hello {names[3]} how are You')"
   ]
  },
  {
   "cell_type": "markdown",
   "id": "f99e490f-7dbb-47d5-ab42-a50007e129d1",
   "metadata": {},
   "source": [
    "3-3. Your Own List: Think of your favorite mode of transportation, such as a\n",
    "motorcycle or a car, and make a list that stores several examples. Use your list\n",
    "to print a series of statements about these items, such as “I would like to own a\n",
    "Honda motorcycle.”"
   ]
  },
  {
   "cell_type": "code",
   "execution_count": 22,
   "id": "f2f641a1-9ba7-41de-8520-b02e44d42cc5",
   "metadata": {},
   "outputs": [
    {
     "name": "stdout",
     "output_type": "stream",
     "text": [
      "would like to own a Honda motorcycle\n",
      "would like to own a KIA SOPRTAGE car\n",
      "would like to own a YAMAHA Heavy Bike\n"
     ]
    }
   ],
   "source": [
    "fav_vehicle = ['Honda','KIA SOPRTAGE','YAMAHA']\n",
    "print(f'would like to own a {fav_vehicle[0]} motorcycle')\n",
    "print(f'would like to own a {fav_vehicle[1]} car')\n",
    "print(f'would like to own a {fav_vehicle[2]} Heavy Bike')"
   ]
  },
  {
   "cell_type": "markdown",
   "id": "d9033b5f-7b0b-4eb6-aa79-2416b4f1c5e6",
   "metadata": {},
   "source": [
    "3-4. Guest List: If you could invite anyone, living or deceased, to dinner, who\n",
    "would you invite? Make a list that includes at least three people you’d like to\n",
    "invite to dinner. Then use your list to print a message to each person, inviting\n",
    "them to dinner."
   ]
  },
  {
   "cell_type": "code",
   "execution_count": 23,
   "id": "d1912da5-5731-440b-a748-662fc824a237",
   "metadata": {},
   "outputs": [
    {
     "name": "stdout",
     "output_type": "stream",
     "text": [
      "saadYou are invited for diner\n",
      "samadYou are invited for diner\n",
      "fahadYou are invited for diner\n"
     ]
    }
   ],
   "source": [
    "names = ['saad','samad','fahad']\n",
    "\n",
    "print(f'{names[0]}You are invited for diner')\n",
    "print(f'{names[1]}You are invited for diner')\n",
    "print(f'{names[2]}You are invited for diner')"
   ]
  },
  {
   "cell_type": "markdown",
   "id": "37011f53-ac22-4bb3-8bf8-a5fbb49a8b65",
   "metadata": {},
   "source": [
    "3-5. Changing Guest List: You just heard that one of your guests can’t make the\n",
    "dinner, so you need to send out a new set of invitations. You’ll have to think of\n",
    "someone else to invite.\n",
    "•\t Start with your program from Exercise 3-4. Add a print statement at the\n",
    "end of your program stating the name of the guest who can’t make it.\n",
    "•\t Modify your list, replacing the name of the guest who can’t make it with\n",
    "the name of the new person you are inviting.\n",
    "•\t Print a second set of invitation messages, one for each person who is still\n",
    "in your list."
   ]
  },
  {
   "cell_type": "code",
   "execution_count": 35,
   "id": "c95833ee-0ba9-418f-aa46-6bbe2f09fa12",
   "metadata": {},
   "outputs": [
    {
     "name": "stdout",
     "output_type": "stream",
     "text": [
      "saadYou are invited for diner\n",
      "samadYou are not coming for diner\n",
      "fahadYou are invited for diner\n",
      "-------\n",
      "saad You are invited for diner\n",
      "fahad You are invited for diner\n",
      "asad You are invited for diner\n"
     ]
    }
   ],
   "source": [
    "names = ['saad','samad','fahad']\n",
    "\n",
    "print(f'{names[0]}You are invited for diner')\n",
    "print(f'{names[1]}You are not coming for diner')\n",
    "print(f'{names[2]}You are invited for diner')\n",
    "\n",
    "print('-------')\n",
    "names.remove('samad')\n",
    "names.append('asad')\n",
    "\n",
    "print(f'{names[0]} You are invited for diner')\n",
    "print(f'{names[1]} You are invited for diner')\n",
    "print(f'{names[2]} You are invited for diner')"
   ]
  },
  {
   "cell_type": "code",
   "execution_count": 30,
   "id": "601641a5-69e9-4cc8-8ad0-4e861f979de3",
   "metadata": {},
   "outputs": [],
   "source": [
    "3-6. More Guests: You just found a bigger dinner table, so now more space is\n",
    "available. Think of three more guests to invite to dinner.\n",
    "•\t Start with your program from Exercise 3-4 or Exercise 3-5. Add a print\n",
    "statement to the end of your program informing people that you found a\n",
    "bigger dinner table.\n",
    "•\t Use insert() to add one new guest to the beginning of your list.\n",
    "•\t Use insert() to add one new guest to the middle of your list.\n",
    "•\t Use append() to add one new guest to the end of your list.\n",
    "•\t Print a new set of invitation messages, one for each person in your list.\n"
   ]
  },
  {
   "cell_type": "code",
   "execution_count": 41,
   "id": "533610c7-84c5-4086-a8b5-ba7769e32710",
   "metadata": {},
   "outputs": [
    {
     "name": "stdout",
     "output_type": "stream",
     "text": [
      "saadYou are invited for diner\n",
      "samadYou are not coming for diner\n",
      "fahadYou are invited for diner\n",
      "-------\n",
      "hamza You are invited for diner\n",
      "saad You are invited for diner\n",
      "haziq You are invited for diner\n",
      "fahad You are invited for diner\n",
      "asad You are invited for diner\n",
      "talha You are invited for diner\n",
      "--------- I found new dinner Table -----------------\n"
     ]
    }
   ],
   "source": [
    "names = ['saad','samad','fahad']\n",
    "\n",
    "print(f'{names[0]}You are invited for diner')\n",
    "print(f'{names[1]}You are not coming for diner')\n",
    "print(f'{names[2]}You are invited for diner')\n",
    "\n",
    "print('-------')\n",
    "names.remove('samad')\n",
    "names.append('asad')\n",
    "\n",
    "names.insert(0,'hamza')\n",
    "names.insert(2,'haziq')\n",
    "names.append('talha')\n",
    "\n",
    "\n",
    "\n",
    "print(f'{names[0]} You are invited for diner')\n",
    "print(f'{names[1]} You are invited for diner')\n",
    "print(f'{names[2]} You are invited for diner')\n",
    "print(f'{names[3]} You are invited for diner')\n",
    "print(f'{names[4]} You are invited for diner')\n",
    "print(f'{names[5]} You are invited for diner')\n",
    "print('--------- I found new dinner Table -----------------')"
   ]
  },
  {
   "cell_type": "markdown",
   "id": "f03dd9ca-d904-4cfb-9b56-785855445fe6",
   "metadata": {},
   "source": [
    "3-7. Shrinking Guest List: You just found out that your new dinner table won’t\r\n",
    "arrive in time for the dinner, and you have space for only two guests.\r\n",
    "•\t Start with your program from Exercise 3-6. Add a new line that prints a\r\n",
    "message saying that you can invite only two people for dinner.\r\n",
    "•\t Use pop() to remove guests from your list one at a time until only two\r\n",
    "names remain in your list. Each time you pop a name from your list, print\r\n",
    "a message to that person letting them know you’re sorry you can’t invite\r\n",
    "them to dinner.\r\n",
    "•\t Print a message to each of the two people still on your list, letting them\r\n",
    "know they’re still invited.\r\n",
    "•\t Use del to remove the last two names from your list, so you have an empty\r\n",
    "list. Print your list to make sure you actually have an empty list at the end\r\n",
    "of your program."
   ]
  },
  {
   "cell_type": "code",
   "execution_count": 49,
   "id": "d1e5a113-866c-4efe-be48-60465acbab87",
   "metadata": {},
   "outputs": [
    {
     "name": "stdout",
     "output_type": "stream",
     "text": [
      "-----i can invite only two people----------\n",
      "talha you can't invited for dinner\n",
      "asad you can't invited for dinner\n",
      "fahad you can't invited for dinner\n",
      "haziq you can't invited for dinner\n",
      "hamza you are still invited for dinner\n",
      "saad you are still invited for dinner\n"
     ]
    },
    {
     "data": {
      "text/plain": [
       "[]"
      ]
     },
     "execution_count": 49,
     "metadata": {},
     "output_type": "execute_result"
    }
   ],
   "source": [
    "names =['hamza', 'saad', 'haziq', 'fahad', 'asad', 'talha']\n",
    "print(\"-----i can invite only two people----------\")\n",
    "print(f\"{names.pop()} you can't invited for dinner\")\n",
    "print(f\"{names.pop()} you can't invited for dinner\")\n",
    "print(f\"{names.pop()} you can't invited for dinner\")\n",
    "print(f\"{names.pop()} you can't invited for dinner\")\n",
    "print(f\"{names[0]} you are still invited for dinner\")\n",
    "print(f\"{names[1]} you are still invited for dinner\")\n",
    "names.remove(\"hamza\")\n",
    "names.remove(\"saad\")\n",
    "names"
   ]
  },
  {
   "cell_type": "code",
   "execution_count": 1,
   "id": "9cc01876-182f-4c44-acf8-2b32c7f87a4e",
   "metadata": {},
   "outputs": [
    {
     "name": "stdout",
     "output_type": "stream",
     "text": [
      "['toyota', 'subaru', 'bmw', 'audi']\n"
     ]
    }
   ],
   "source": [
    "cars = ['toyota', 'subaru', 'bmw', 'audi'] \n",
    "cars.sort(reverse=True)\n",
    "print(cars)"
   ]
  },
  {
   "cell_type": "raw",
   "id": "c66ee2f1-54de-4ceb-b67d-900053641b77",
   "metadata": {},
   "source": [
    "3-8. Seeing the World: Think of at least five places in the world you’d like to\n",
    "visit.\n",
    "•\t Store the locations in a list. Make sure the list is not in alphabetical order.\n",
    "•\t Print your list in its original order. Don’t worry about printing the list neatly,\n",
    "just print it as a raw Python list.\n",
    "•\t Use sorted() to print your list in alphabetical order without modifying the\n",
    "actual list.\n",
    "•\t Show that your list is still in its original order by printing it.\n",
    "•\t Use sorted() to print your list in reverse alphabetical order without changing the order of the original list.\n",
    "•\t Show that your list is still in its original order by printing it again.\n",
    "•\t Use reverse() to change the order of your list. Print the list to show that its\n",
    "order has changed.\n",
    "•\t Use reverse() to change the order of your list again. Print the list to show\n",
    "it’s back to its original order.\n",
    "•\t Use sort() to change your list so it’s stored in alphabetical order. Print the\n",
    "list to show that its order has been changed.\n",
    "•\t Use sort() to change your list so it’s stored in reverse alphabetical order.\n",
    "Print the list to show that its order has changed."
   ]
  },
  {
   "cell_type": "code",
   "execution_count": 2,
   "id": "12b4b696-82df-4937-8f09-effc2f02f54e",
   "metadata": {},
   "outputs": [
    {
     "name": "stdout",
     "output_type": "stream",
     "text": [
      "['germany', 'canada', 'spain', 'crotia']\n",
      "['canada', 'crotia', 'germany', 'spain']\n",
      "['spain', 'germany', 'crotia', 'canada']\n",
      "['germany', 'canada', 'spain', 'crotia']\n",
      "['crotia', 'spain', 'canada', 'germany']\n",
      "['germany', 'canada', 'spain', 'crotia']\n",
      "['canada', 'crotia', 'germany', 'spain']\n",
      "['spain', 'germany', 'crotia', 'canada']\n"
     ]
    }
   ],
   "source": [
    "countries = ['germany','canada','spain','crotia']\n",
    "print(countries)\n",
    "print(sorted(countries))\n",
    "print(sorted(countries,reverse=True))\n",
    "print(countries)\n",
    "countries.reverse()\n",
    "print(countries)\n",
    "countries.reverse()\n",
    "print(countries)\n",
    "countries.sort()\n",
    "print(countries)\n",
    "countries.sort(reverse=True)\n",
    "print(countries)"
   ]
  },
  {
   "cell_type": "raw",
   "id": "3659e9c6-494e-46c1-aebd-72a6d2f7e5bf",
   "metadata": {},
   "source": [
    "3-9. Dinner Guests: Working with one of the programs from Exercises 3-4\n",
    "through 3-7 (page 46), use len() to print a message indicating the number\n",
    "of people you are inviting to dinner."
   ]
  },
  {
   "cell_type": "code",
   "execution_count": 3,
   "id": "d98ce692-0a27-4b51-9304-ab7f278fdef2",
   "metadata": {},
   "outputs": [
    {
     "name": "stdout",
     "output_type": "stream",
     "text": [
      "-----i can invite only two people----------\n",
      "talha you can't invited for dinner\n",
      "asad you can't invited for dinner\n",
      "fahad you can't invited for dinner\n",
      "haziq you can't invited for dinner\n",
      "hamza you are still invited for dinner\n",
      "saad you are still invited for dinner\n",
      "2 numbers of people invited in dinner\n"
     ]
    }
   ],
   "source": [
    "names =['hamza', 'saad', 'haziq', 'fahad', 'asad', 'talha']\n",
    "print(\"-----i can invite only two people----------\")\n",
    "print(f\"{names.pop()} you can't invited for dinner\")\n",
    "print(f\"{names.pop()} you can't invited for dinner\")\n",
    "print(f\"{names.pop()} you can't invited for dinner\")\n",
    "print(f\"{names.pop()} you can't invited for dinner\")\n",
    "print(f\"{names[0]} you are still invited for dinner\")\n",
    "print(f\"{names[1]} you are still invited for dinner\")\n",
    "print(f'{len(names)} numbers of people invited in dinner')"
   ]
  },
  {
   "cell_type": "raw",
   "id": "ee0b9153-aac5-40d3-b4a5-3528094f4edd",
   "metadata": {},
   "source": [
    "3-10. Every Function: Think of something you could store in a list. For example,\n",
    "you could make a list of mountains, rivers, countries, cities, languages, or anything else you’d like.\n",
    "Write a program that creates a list containing these items\n",
    "and then uses each function introduced in this chapter at least once."
   ]
  },
  {
   "cell_type": "code",
   "execution_count": 4,
   "id": "a91d2bfb-fbc5-4c6c-8007-7533fd3995f6",
   "metadata": {},
   "outputs": [
    {
     "name": "stdout",
     "output_type": "stream",
     "text": [
      "4\n",
      "['canada', 'crotia', 'germany', 'spain']\n",
      "['spain', 'germany', 'crotia', 'canada']\n",
      "['germany', 'canada', 'spain', 'crotia', 'Albania']\n",
      "['germany', 'spain', 'crotia', 'Albania']\n",
      "['Albania', 'crotia', 'germany', 'spain']\n",
      "['spain', 'germany', 'crotia', 'Albania']\n",
      "['Albania', 'crotia', 'germany', 'spain']\n",
      "['Albania', 'germany', 'spain']\n"
     ]
    }
   ],
   "source": [
    "countries = ['germany','canada','spain','crotia']\n",
    "print(len(countries))\n",
    "print(sorted(countries))\n",
    "print(sorted(countries,reverse=True))\n",
    "countries.append('Albania')\n",
    "print(countries)\n",
    "countries.pop(1)\n",
    "print(countries)\n",
    "countries.sort()\n",
    "print(countries)\n",
    "countries.sort(reverse=True)\n",
    "print(countries)\n",
    "countries.reverse()\n",
    "print(countries)\n",
    "countries.remove('crotia')\n",
    "print(countries)"
   ]
  },
  {
   "cell_type": "raw",
   "id": "3dbbc966-04dc-4756-a93a-852fe0ba3c71",
   "metadata": {},
   "source": [
    "3-11. Intentional Error: If you haven’t received an index error in one of your\n",
    "programs yet, try to make one happen. Change an index in one of your programs\n",
    "to produce an index error. Make sure you correct the error before closing the program."
   ]
  },
  {
   "cell_type": "code",
   "execution_count": 5,
   "id": "8b8f342a-c361-410d-b541-ea16596672ff",
   "metadata": {},
   "outputs": [
    {
     "name": "stdout",
     "output_type": "stream",
     "text": [
      "germany\n"
     ]
    }
   ],
   "source": [
    "countries = ['germany','canada','spain','crotia']\n",
    "# print(countries[6])\n",
    "print(countries[0])"
   ]
  },
  {
   "cell_type": "raw",
   "id": "8b10f36b-7115-4c81-b276-aa48aebe2973",
   "metadata": {},
   "source": [
    "4-1. Pizzas: Think of at least three kinds of your favorite pizza. Store these\n",
    "pizza names in a list, and then use a for loop to print the name of each pizza.\n",
    "•\t Modify your for loop to print a sentence using the name of the pizza\n",
    "instead of printing just the name of the pizza. For each pizza you should\n",
    "have one line of output containing a simple statement like I like pepperoni\n",
    "pizza.\n",
    "•\t Add a line at the end of your program, outside the for loop, that states\n",
    "how much you like pizza. The output should consist of three or more lines\n",
    "about the kinds of pizza you like and then an additional sentence, such as\n",
    "I really love pizza!"
   ]
  },
  {
   "cell_type": "code",
   "execution_count": 6,
   "id": "b1ca731d-c7ee-424e-99ad-371e0aae73cb",
   "metadata": {},
   "outputs": [
    {
     "name": "stdout",
     "output_type": "stream",
     "text": [
      "I like pepperoni pizza.\n",
      "I like cheese lover pizza.\n",
      "I like Bar BQ pizza.\n",
      "\tI really Love pizza\n"
     ]
    }
   ],
   "source": [
    "favorite_pizza = ['pepperoni','cheese lover', 'Bar BQ']\n",
    "\n",
    "for i in favorite_pizza:\n",
    "    print(f'I like {i} pizza.')\n",
    "\n",
    "print('\\tI really Love pizza')"
   ]
  },
  {
   "cell_type": "raw",
   "id": "861560a7-4090-4991-9c25-8122fa0c268b",
   "metadata": {},
   "source": [
    "4-2. Animals: Think of at least three different animals that have a common characteristic. Store the names of these animals in a list, and then use a for loop to\n",
    "print out the name of each animal.\n",
    "•\t Modify your program to print a statement about each animal, such as\n",
    "A dog would make a great pet.\n",
    "•\t Add a line at the end of your program stating what these animals have in\n",
    "common. You could print a sentence such as Any of these animals would\n",
    "make a great pet!"
   ]
  },
  {
   "cell_type": "code",
   "execution_count": 7,
   "id": "46cc5573-8ab7-41ec-9c9e-dc106406549b",
   "metadata": {},
   "outputs": [
    {
     "name": "stdout",
     "output_type": "stream",
     "text": [
      "A Goat would make a great pet\n",
      "A Horse would make a great pet\n",
      "A Cow would make a great pet\n",
      "\tthese animals would make a great pet!\n"
     ]
    }
   ],
   "source": [
    "animal = ['Goat','Horse','Cow']\n",
    "for i in animal:\n",
    "    print(f'A {i} would make a great pet')\n",
    "print('\\tthese animals would make a great pet!')"
   ]
  },
  {
   "cell_type": "raw",
   "id": "11ffcf0f-a216-4ec3-acd5-f5eefecc06c9",
   "metadata": {},
   "source": [
    "4-3. Counting to Twenty: Use a for loop to print the numbers from 1 to 20,\n",
    "inclusive"
   ]
  },
  {
   "cell_type": "code",
   "execution_count": 8,
   "id": "6f44308b-588b-4ba1-838a-e0994c4ae8a2",
   "metadata": {},
   "outputs": [
    {
     "name": "stdout",
     "output_type": "stream",
     "text": [
      "1 2 3 4 5 6 7 8 9 10 11 12 13 14 15 16 17 18 19 20 "
     ]
    }
   ],
   "source": [
    "for i in range(1,21):\n",
    "    print(i,end=\" \")"
   ]
  },
  {
   "cell_type": "raw",
   "id": "fede46b6-0f1b-417b-9eb7-f8b404b365fd",
   "metadata": {},
   "source": [
    "4-4. One Million: Make a list of the numbers from one to one million, and then\n",
    "use a for loop to print the numbers. (If the output is taking too long, stop it by\n",
    "pressing ctrl-C or by closing the output window.)\n"
   ]
  },
  {
   "cell_type": "code",
   "execution_count": 9,
   "id": "9350fdcc-d019-4a4e-b5ed-2aa918ec73dd",
   "metadata": {},
   "outputs": [],
   "source": [
    "#for i in range(1,100000):\n",
    " #   print(i)"
   ]
  },
  {
   "cell_type": "raw",
   "id": "107a31ae-96ae-445d-8dec-4403671d7189",
   "metadata": {},
   "source": [
    "4-5. Summing a Million: Make a list of the numbers from one to one million,\n",
    "and then use min() and max() to make sure your list actually starts at one and\n",
    "ends at one million. Also, use the sum() function to see how quickly Python can\n",
    "add a million numbers."
   ]
  },
  {
   "cell_type": "code",
   "execution_count": 10,
   "id": "2d51aa5d-9f4f-4766-b4bf-f486d3e6e3b1",
   "metadata": {},
   "outputs": [
    {
     "data": {
      "text/plain": [
       "4999950000"
      ]
     },
     "execution_count": 10,
     "metadata": {},
     "output_type": "execute_result"
    }
   ],
   "source": [
    "li = list(range(1,100000))\n",
    "# print(li)\n",
    "min(li)\n",
    "max(li)\n",
    "sum(li)"
   ]
  },
  {
   "cell_type": "raw",
   "id": "8a16029e-99c4-4d22-a8ef-545ad27c037a",
   "metadata": {},
   "source": [
    "4-6. Odd Numbers: Use the third argument of the range() function to make a list\n",
    "of the odd numbers from 1 to 20. Use a for loop to print each number."
   ]
  },
  {
   "cell_type": "code",
   "execution_count": 11,
   "id": "8f6be5b9-c1b4-4038-aaba-1581f7f154b1",
   "metadata": {},
   "outputs": [
    {
     "name": "stdout",
     "output_type": "stream",
     "text": [
      "1\n",
      "3\n",
      "5\n",
      "7\n",
      "9\n",
      "11\n",
      "13\n",
      "15\n",
      "17\n",
      "19\n"
     ]
    }
   ],
   "source": [
    "for i in range(1,21,2):\n",
    "    print(i)"
   ]
  },
  {
   "cell_type": "markdown",
   "id": "8e14849f-7840-4251-8584-78c8f3875f75",
   "metadata": {},
   "source": [
    "4-7. Threes: Make a list of the multiples of 3 from 3 to 30. Use a for loop to\n",
    "print the numbers in your list."
   ]
  },
  {
   "cell_type": "code",
   "execution_count": 12,
   "id": "40b06ee7-7d0d-40fb-84f5-e87666c40ad4",
   "metadata": {},
   "outputs": [
    {
     "name": "stdout",
     "output_type": "stream",
     "text": [
      "3 6 9 12 15 18 21 24 27 30 "
     ]
    }
   ],
   "source": [
    "multiples_of_3 = list(range(3, 31, 3))\n",
    "\n",
    "for i in multiples_of_3:\n",
    "    print(i,end=\" \")"
   ]
  },
  {
   "cell_type": "raw",
   "id": "3d8ba40e-c081-4e68-b009-3ecd3ac943c6",
   "metadata": {},
   "source": [
    "4-8. Cubes: A number raised to the third power is called a cube. For example,\n",
    "the cube of 2 is written as 2**3 in Python. Make a list of the first 10 cubes (that\n",
    "is, the cube of each integer from 1 through 10), and use a for loop to print out\n",
    "the value of each cube"
   ]
  },
  {
   "cell_type": "code",
   "execution_count": 13,
   "id": "bd697712-d007-42ac-b0eb-19f62f025167",
   "metadata": {},
   "outputs": [
    {
     "data": {
      "text/plain": [
       "[1, 8, 27, 64, 125, 216, 343, 512, 729]"
      ]
     },
     "execution_count": 13,
     "metadata": {},
     "output_type": "execute_result"
    }
   ],
   "source": [
    "cube = []\n",
    "\n",
    "for i in range(1,10):\n",
    "    cube.append(i**3)\n",
    "cube"
   ]
  },
  {
   "cell_type": "raw",
   "id": "4b178387-0fb3-4d32-bc42-9fd4ca616271",
   "metadata": {},
   "source": [
    "4-9. Cube Comprehension: Use a list comprehension to generate a list of the\n",
    "first 10 cubes"
   ]
  },
  {
   "cell_type": "code",
   "execution_count": 14,
   "id": "244b60f6-8941-4bef-a2d1-4f337695c1b2",
   "metadata": {},
   "outputs": [
    {
     "data": {
      "text/plain": [
       "[1, 8, 27, 64, 125, 216, 343, 512, 729]"
      ]
     },
     "execution_count": 14,
     "metadata": {},
     "output_type": "execute_result"
    }
   ],
   "source": [
    "cube = [value**3 for value in range(1,10)]\n",
    "cube"
   ]
  },
  {
   "cell_type": "raw",
   "id": "73b6db49-8c90-458b-b0ce-2012a23d9129",
   "metadata": {},
   "source": [
    "4-10. Slices: Using one of the programs you wrote in this chapter, add several\n",
    "lines to the end of the program that do the following:\n",
    "•\t Print the message, The first three items in the list are:. Then use a slice to\n",
    "print the first three items from that program’s list.\n",
    "•\t Print the message, Three items from the middle of the list are:. Use a slice\n",
    "to print three items from the middle of the list.\n",
    "•\t Print the message, The last three items in the list are:. Use a slice to print\n",
    "the last three items in the list."
   ]
  },
  {
   "cell_type": "code",
   "execution_count": 18,
   "id": "2d6f1187-e2dc-4143-97dc-00997ef73074",
   "metadata": {},
   "outputs": [
    {
     "name": "stdout",
     "output_type": "stream",
     "text": [
      "Goat and Cow is a Halal animal and Horse is haram\n",
      "['Goat', 'Horse', 'Cow']\n",
      "['Horse', 'Cow', 'Dog']\n",
      "['Cow', 'Dog', 'Camel']\n"
     ]
    }
   ],
   "source": [
    "animal = ['Goat','Horse','Cow','Dog','Camel']\n",
    "message = f'{animal[0]} and {animal[2]} is a Halal animal and {animal[1]} is haram'\n",
    "print(message)\n",
    "\n",
    "print(animal[:3])\n",
    "print(animal[1:4])\n",
    "print(animal[2:])"
   ]
  },
  {
   "cell_type": "raw",
   "id": "1dfc210f-c524-4276-8df8-13e92852ff43",
   "metadata": {},
   "source": [
    ". My Pizzas, Your Pizzas: Start with your program from Exercise 4-1\n",
    "(page 60). Make a copy of the list of pizzas, and call it friend_pizzas.\n",
    "Then, do the following:\n",
    "•\t Add a new pizza to the original list.\n",
    "•\t Add a different pizza to the list friend_pizzas.\n",
    "•\t Prove that you have two separate lists. Print the message, My favorite\n",
    "pizzas are:, and then use a for loop to print the first list. Print the message,\n",
    "My friend’s favorite pizzas are:, and then use a for loop to print the second list. Make sure each new pizza is stored in the appropriate list."
   ]
  },
  {
   "cell_type": "code",
   "execution_count": 20,
   "id": "1d519bc8-9869-4eee-b93a-538548cca1ce",
   "metadata": {},
   "outputs": [
    {
     "name": "stdout",
     "output_type": "stream",
     "text": [
      "my favorite pizzas are\n",
      "pepperoni\n",
      "cheese lover\n",
      "Bar BQ\n",
      "Tikka\n",
      "Cremy\n",
      "my friend pizzas are\n",
      "pepperoni\n",
      "cheese lover\n",
      "Bar BQ\n",
      "Tikka\n",
      "Cremy\n"
     ]
    }
   ],
   "source": [
    "favorite_pizza = ['pepperoni','cheese lover', 'Bar BQ']\n",
    "friend_pizzas = favorite_pizza\n",
    "favorite_pizza.append('Tikka')\n",
    "friend_pizzas.append('Cremy')\n",
    "print('my favorite pizzas are')\n",
    "for i in favorite_pizza:\n",
    "    print(i)\n",
    "print('my friend pizzas are')\n",
    "for i in friend_pizzas:\n",
    "    print(i)"
   ]
  },
  {
   "cell_type": "raw",
   "id": "3dec4908-e11f-4df4-941f-b66ee48d2ba9",
   "metadata": {},
   "source": [
    "4-12. More Loops: All versions of foods.py in this section have avoided using\n",
    "for loops when printing to save space. Choose a version of foods.py, and\n",
    "write two for loops to print each list of foods."
   ]
  },
  {
   "cell_type": "code",
   "execution_count": 22,
   "id": "53571bc3-7b50-441c-989a-639d98fc4aba",
   "metadata": {},
   "outputs": [
    {
     "name": "stdout",
     "output_type": "stream",
     "text": [
      "apple\n",
      "banana\n",
      "cherry\n",
      "date\n",
      "carrot\n",
      "broccoli\n",
      "spinach\n",
      "kale\n"
     ]
    }
   ],
   "source": [
    "fruits = ['apple', 'banana', 'cherry', 'date']\n",
    "vegetables = ['carrot', 'broccoli', 'spinach', 'kale']\n",
    "for i in fruits:\n",
    "    print(i)\n",
    "for i in vegetables:\n",
    "    print(i)"
   ]
  },
  {
   "cell_type": "markdown",
   "id": "c745eb81-3982-45c5-8c14-c5a47c59e7b8",
   "metadata": {},
   "source": [
    "4-13. Buffet: A buffet-style restaurant offers only five basic foods. Think of five\n",
    "simple foods, and store them in a tuple.\n",
    "•\t Use a for loop to print each food the restaurant offers.\n",
    "•\t Try to modify one of the items, and make sure that Python rejects the\n",
    "change.\n",
    "•\t The restaurant changes its menu, replacing two of the items with different\n",
    "foods. Add a block of code that rewrites the tuple, and then use a for\n",
    "loop to print each of the items on the revised menu."
   ]
  },
  {
   "cell_type": "code",
   "execution_count": 24,
   "id": "d20bf2a0-36c5-4a6d-80e0-cd0090a17f9d",
   "metadata": {},
   "outputs": [
    {
     "name": "stdout",
     "output_type": "stream",
     "text": [
      "The Restaurant offer biryani\n",
      "The Restaurant offer Korma\n",
      "The Restaurant offer Nihari\n",
      "The Restaurant offer Kharahi\n",
      "The Restaurant offer Roast\n",
      "-----------\n",
      "The Restaurant offer biryani\n",
      "The Restaurant offer Korma\n",
      "The Restaurant offer Handi\n",
      "The Restaurant offer Tikka\n",
      "The Restaurant offer Roast\n"
     ]
    }
   ],
   "source": [
    "foods = ('biryani','Korma','Nihari','Kharahi','Roast')\n",
    "for i in foods:\n",
    "    print(f'The Restaurant offer {i}')\n",
    "print('-----------')\n",
    "foods = ('biryani','Korma','Handi','Tikka','Roast')\n",
    "for i in foods:\n",
    "    print(f'The Restaurant offer {i}')"
   ]
  },
  {
   "cell_type": "raw",
   "id": "2fd4e2f4-36b8-4139-803a-60c6bb242def",
   "metadata": {},
   "source": [
    "5-1. Conditional Tests: Write a series of conditional tests. Print a statement\n",
    "describing each test and your prediction for the results of each test. Your code\n",
    "should look something like this:\n",
    "car = 'subaru'\n",
    "print(\"Is car == 'subaru'? I predict True.\")\n",
    "print(car == 'subaru')\n",
    "print(\"\\nIs car == 'audi'? I predict False.\")\n",
    "print(car == 'audi')\n",
    "•\t Look closely at your results, and make sure you understand why each line\n",
    "evaluates to True or False.\n",
    "•\t Create at least 10 tests. Have at least 5 tests evaluate to True and another\n",
    "5 tests evaluate to False."
   ]
  },
  {
   "cell_type": "code",
   "execution_count": 25,
   "id": "4bd477e5-bb77-487a-a738-35694311c86d",
   "metadata": {},
   "outputs": [
    {
     "name": "stdout",
     "output_type": "stream",
     "text": [
      "Is car == 'subaru'? I predict True.\n",
      "True\n",
      "\n",
      "Is car == 'audi'? I predict False.\n",
      "False\n",
      "Is car == 'Honda'? I predict True.\n",
      "True\n",
      "\n",
      "Is car == 'Honda'? I predict False.\n",
      "False\n",
      "Is car == 'Kia'? I predict True.\n",
      "True\n",
      "\n",
      "Is car == 'Kia'? I predict False.\n",
      "False\n",
      "Is car == 'Audi'? I predict True.\n",
      "True\n",
      "\n",
      "Is car == 'Kia'? I predict False.\n",
      "False\n",
      "Is car == 'Toyota'? I predict True.\n",
      "True\n",
      "\n",
      "Is car == 'audi'? I predict False.\n",
      "False\n"
     ]
    }
   ],
   "source": [
    "car = 'subaru'\n",
    "print(\"Is car == 'subaru'? I predict True.\")\n",
    "print(car == 'subaru')\n",
    "print(\"\\nIs car == 'audi'? I predict False.\")\n",
    "print(car == 'audi')\n",
    "\n",
    "car = 'Honda'\n",
    "print(\"Is car == 'Honda'? I predict True.\")\n",
    "print(car == 'Honda')\n",
    "print(\"\\nIs car == 'Honda'? I predict False.\")\n",
    "print(car == 'audi')\n",
    "\n",
    "car = 'Kia'\n",
    "print(\"Is car == 'Kia'? I predict True.\")\n",
    "print(car == 'Kia')\n",
    "print(\"\\nIs car == 'Kia'? I predict False.\")\n",
    "print(car == 'audi')\n",
    "\n",
    "car = 'Audi'\n",
    "print(\"Is car == 'Audi'? I predict True.\")\n",
    "print(car == 'Audi')\n",
    "print(\"\\nIs car == 'Kia'? I predict False.\")\n",
    "print(car == 'Kia')\n",
    "\n",
    "car = 'Toyota'\n",
    "print(\"Is car == 'Toyota'? I predict True.\")\n",
    "print(car == 'Toyota')\n",
    "print(\"\\nIs car == 'audi'? I predict False.\")\n",
    "print(car == 'audi')"
   ]
  },
  {
   "cell_type": "raw",
   "id": "3832b28c-292c-444b-bfff-f796ae65a7c6",
   "metadata": {},
   "source": [
    "5-2. More Conditional Tests: You don’t have to limit the number of tests you\n",
    "create to 10. If you want to try more comparisons, write more tests and add\n",
    "them to conditional_tests.py. Have at least one True and one False result for\n",
    "each of the following:\n",
    "•\t Tests for equality and inequality with strings\n",
    "•\t Tests using the lower() function\n",
    "•\t Numerical tests involving equality and inequality, greater than and\n",
    "less than, greater than or equal to, and less than or equal to\n",
    "•\t Tests using the and keyword and the or keyword\n",
    "•\t Test whether an item is in a list\n",
    "•\t Test whether an item is not in a list"
   ]
  },
  {
   "cell_type": "code",
   "execution_count": 37,
   "id": "08ea865a-05ef-48de-a333-724d30e2bbd1",
   "metadata": {},
   "outputs": [
    {
     "name": "stdout",
     "output_type": "stream",
     "text": [
      "False\n",
      "True\n",
      "False\n",
      "True\n",
      "True\n",
      "True\n",
      "False\n",
      "True\n",
      "True\n",
      "False\n"
     ]
    }
   ],
   "source": [
    "a = 10\n",
    "b = 11\n",
    "print(a>11)\n",
    "c = 'Saad'\n",
    "print(c.lower() == 'saad')\n",
    "print(a > 10)\n",
    "print(a >= 10)\n",
    "print(a < 11)\n",
    "print(a <= 10)\n",
    "\n",
    "print(a > 10 and b < 20)\n",
    "print(a > 10 or b < 20)\n",
    "\n",
    "li = [10,20,30,40]\n",
    "print(20 in li)\n",
    "\n",
    "li = [10,20,30,40]\n",
    "print(20 not in li)\n"
   ]
  },
  {
   "cell_type": "code",
   "execution_count": 44,
   "id": "a7440b84-dbf1-4b1a-b4ef-f5cf9767dc59",
   "metadata": {},
   "outputs": [
    {
     "name": "stdout",
     "output_type": "stream",
     "text": [
      "Adding mushrooms.\n",
      "Adding extra cheese.\n",
      "\n",
      "Finished making your pizza!\n"
     ]
    }
   ],
   "source": [
    "requested_toppings = ['mushrooms', 'extra cheese']\n",
    "\n",
    "if 'mushrooms' in requested_toppings:\n",
    "    print(\"Adding mushrooms.\")\n",
    "if 'pepperoni' in requested_toppings:\n",
    "    print(\"Adding pepperoni.\")\n",
    "if 'extra cheese' in requested_toppings:\n",
    "    print(\"Adding extra cheese.\")\n",
    "print(\"\\nFinished making your pizza "
   ]
  },
  {
   "cell_type": "code",
   "execution_count": 45,
   "id": "1da5d2a3-f7ac-4b9e-a79f-ca3525393e32",
   "metadata": {},
   "outputs": [
    {
     "name": "stdout",
     "output_type": "stream",
     "text": [
      "Adding mushrooms.\n",
      "\n",
      "Finished making your pizza!\n"
     ]
    }
   ],
   "source": [
    "requested_toppings = ['mushrooms', 'extra cheese']\n",
    "\n",
    "if 'mushrooms' in requested_toppings:\n",
    "    print(\"Adding mushrooms.\")\n",
    "elif 'pepperoni' in requested_toppings:\n",
    "    print(\"Adding pepperoni.\")\n",
    "elif 'extra cheese' in requested_toppings:\n",
    "    print(\"Adding extra cheese.\")\n",
    "\n",
    "print(\"\\nFinished making your pizza!\")"
   ]
  },
  {
   "cell_type": "raw",
   "id": "737af004-1204-4942-af11-e5c136cee2a5",
   "metadata": {},
   "source": [
    "5-3. Alien Colors #1: Imagine an alien was just shot down in a game. Create a\n",
    "variable called alien_color and assign it a value of 'green', 'yellow', or 'red'.\n",
    "•\t Write an if statement to test whether the alien’s color is green. If it is, print\n",
    "a message that the player just earned 5 points.\n",
    "•\t Write one version of this program that passes the if test and another that\n",
    "fails. (The version that fails will have no output.)"
   ]
  },
  {
   "cell_type": "code",
   "execution_count": 48,
   "id": "291bdfd3-9593-4431-9556-417e8f0bfd66",
   "metadata": {},
   "outputs": [
    {
     "name": "stdout",
     "output_type": "stream",
     "text": [
      "You have earned 5 Rs\n",
      "---------------\n",
      "Pass\n",
      "pass\n",
      "All Casses of alien colors\n"
     ]
    }
   ],
   "source": [
    "Alien_Colors = ['red','green','yellow']\n",
    "if 'red' in Alien_Colors:\n",
    "    print('You have earned 5 Rs')\n",
    "elif 'green' in Alien_Colors:\n",
    "    print('You have earned 5 Rs')\n",
    "elif 'green' in Alien_Colors:\n",
    "    print('You have earned 5 Rs')\n",
    "\n",
    "print('---------------')\n",
    "\n",
    "if 'red' in Alien_Colors:\n",
    "    print('Pass')\n",
    "if 'black' in Alien_Colors:\n",
    "    print('pass')\n",
    "if 'yellow' in Alien_Colors:\n",
    "    print('pass')\n",
    "\n",
    "print(\"All Casses of alien colors\")"
   ]
  },
  {
   "cell_type": "raw",
   "id": "1d443231-a2ab-4a7e-a2b2-7736c534b0be",
   "metadata": {},
   "source": [
    "5-5. Alien Colors #3: Turn your if-else chain from Exercise 5-4 into an if-elifelse chain.\n",
    "•\t If the alien is green, print a message that the player earned 5 points.\n",
    "•\t If the alien is yellow, print a message that the player earned 10 points.\n",
    "•\t If the alien is red, print a message that the player earned 15 points.\n",
    "•\t Write three versions of this program, making sure each message is printed\n",
    "for the appropriate color alien.\n"
   ]
  },
  {
   "cell_type": "code",
   "execution_count": 52,
   "id": "83ee4873-d4ec-47b2-be76-e3736c5e90ec",
   "metadata": {},
   "outputs": [
    {
     "name": "stdout",
     "output_type": "stream",
     "text": [
      "the player earned 15 points\n"
     ]
    }
   ],
   "source": [
    "Alien_Colors = ['red','green','yellow']\n",
    "\n",
    "if Alien_Colors[0] == 'black':\n",
    "    print('the player earned 5 points')\n",
    "elif Alien_Colors[1] == 'blue':\n",
    "    print('the player earned 10 points')\n",
    "elif Alien_Colors[2] == 'yellow':\n",
    "    print('the player earned 15 points')"
   ]
  },
  {
   "cell_type": "raw",
   "id": "be36a499-d5be-47cf-8450-307a0344940b",
   "metadata": {},
   "source": [
    "5-6. Stages of Life: Write an if-elif-else chain that determines a person’s\n",
    "stage of life. Set a value for the variable age, and then:\n",
    "•\t If the person is less than 2 years old, print a message that the person is\n",
    "a baby.\n",
    "•\t If the person is at least 2 years old but less than 4, print a message that\n",
    "the person is a toddler.\n",
    "•\t If the person is at least 4 years old but less than 13, print a message that\n",
    "the person is a kid.\n",
    "•\t If the person is at least 13 years old but less than 20, print a message that\n",
    "the person is a teenager.\n",
    "•\t If the person is at least 20 years old but less than 65, print a message that\n",
    "the person is an adult.\n",
    "•\t If the person is age 65 or older, print a message that the person is an\n",
    "elder."
   ]
  },
  {
   "cell_type": "code",
   "execution_count": 54,
   "id": "42b3cf23-02f2-4a4c-a869-b7261d970fbd",
   "metadata": {},
   "outputs": [
    {
     "name": "stdout",
     "output_type": "stream",
     "text": [
      "the person is a adult\n"
     ]
    }
   ],
   "source": [
    "age = 25\n",
    "if age < 2:\n",
    "    print(\"the person is a baby\")\n",
    "elif age >= 2 and age < 4:\n",
    "    print('the person is a toddler')\n",
    "elif age >= 4 and age < 13:\n",
    "    print('the person is a kid')\n",
    "elif age >= 13 and age < 20:\n",
    "    print(\"the person is a teenager\")\n",
    "elif age >= 20 and age< 65:\n",
    "    print('the person is a adult')\n",
    "else:\n",
    "    print('the person is an elder')"
   ]
  },
  {
   "cell_type": "raw",
   "id": "ce7804d3-5405-45da-805b-d888ef8101a6",
   "metadata": {},
   "source": [
    "5-7. Favorite Fruit: Make a list of your favorite fruits, and then write a series of\n",
    "independent if statements that check for certain fruits in your list.\n",
    "•\t Make a list of your three favorite fruits and call it favorite_fruits.\n",
    "•\t Write five if statements. Each should check whether a certain kind of fruit\n",
    "is in your list. If the fruit is in your list, the if block should print a statement,\n",
    "such as You really like bananas!"
   ]
  },
  {
   "cell_type": "code",
   "execution_count": 56,
   "id": "09b3fa48-373b-4d78-a7a6-ef36528aced0",
   "metadata": {},
   "outputs": [
    {
     "name": "stdout",
     "output_type": "stream",
     "text": [
      "['Bananas', 'Apple', 'Mango']\n",
      "such as You really like bananas!\n",
      "such as You really like Apple!\n",
      "such as You really like Mango!\n"
     ]
    }
   ],
   "source": [
    "fav_fruit = ['Bananas','Apple','Mango']\n",
    "print(fav_fruit)\n",
    "\n",
    "if 'Bananas' in fav_fruit:\n",
    "    print('such as You really like bananas!')\n",
    "\n",
    "if 'Apple' in fav_fruit:\n",
    "    print('such as You really like Apple!')\n",
    "\n",
    "if 'Cheery' in fav_fruit:\n",
    "    print('such as You really like Cherrt!')\n",
    "\n",
    "if 'Kiwi' in fav_fruit:\n",
    "    print('such as You really like Kiwi!')\n",
    "\n",
    "if 'Mango' in fav_fruit:\n",
    "    print('such as You really like Mango!')"
   ]
  },
  {
   "cell_type": "raw",
   "id": "2ebad1bb-c072-4ba3-8335-e98eedd08245",
   "metadata": {},
   "source": [
    "5-8. Hello Admin: Make a list of five or more usernames, including the name\n",
    "'admin'. Imagine you are writing code that will print a greeting to each user\n",
    "after they log in to a website. Loop through the list, and print a greeting to\n",
    "each user:\n",
    "•\t If the username is 'admin', print a special greeting, such as Hello admin,\n",
    "would you like to see a status report?\n",
    "•\t Otherwise, print a generic greeting, such as Hello Eric, thank you for logging in again."
   ]
  },
  {
   "cell_type": "code",
   "execution_count": 73,
   "id": "4023550c-5a18-4d07-9e74-60458c4847fb",
   "metadata": {},
   "outputs": [
    {
     "name": "stdout",
     "output_type": "stream",
     "text": [
      "Hello asad\n",
      "Hello fahad\n",
      "Hello samad\n",
      "such as Hello saad, would you like to see a status report?\n",
      "Hello hamza\n"
     ]
    }
   ],
   "source": [
    "usernames = ['asad','fahad','samad','saad','hamza']\n",
    "\n",
    "for name in usernames:\n",
    "    if name == 'saad':\n",
    "        print(f'such as Hello {name}, would you like to see a status report?')\n",
    "    else:\n",
    "        print(f'Hello {name}')"
   ]
  },
  {
   "cell_type": "raw",
   "id": "8fe3c578-72b2-4cb2-902a-366855fb5eeb",
   "metadata": {},
   "source": [
    "5-9. No Users: Add an if test to hello_admin.py to make sure the list of users is\n",
    "not empty.\n",
    "•\t If the list is empty, print the message We need to find some users!\n",
    "•\t Remove all of the usernames from your list, and make sure the correct\n",
    "message is printed."
   ]
  },
  {
   "cell_type": "code",
   "execution_count": 75,
   "id": "fc8b2aaf-0ecb-4bb2-8028-97d00d8ed7f7",
   "metadata": {},
   "outputs": [
    {
     "name": "stdout",
     "output_type": "stream",
     "text": [
      "we need to find some users\n"
     ]
    }
   ],
   "source": [
    "usernames.clear()\n",
    "if len(usernames) != 0:\n",
    "    for name in usernames:\n",
    "        if name == 'saad':\n",
    "            print(f'such as Hello {name}, would you like to see a status report?')\n",
    "        else:\n",
    "            print(f'Hello {name}')\n",
    "else:\n",
    "    print('we need to find some users')"
   ]
  },
  {
   "cell_type": "raw",
   "id": "8fc958ea-b252-4171-8e39-d451c0635336",
   "metadata": {},
   "source": [
    "5-10. Checking Usernames: Do the following to create a program that simulates\n",
    "how websites ensure that everyone has a unique username.\n",
    "•\t Make a list of five or more usernames called current_users.\n",
    "•\t Make another list of five usernames called new_users. Make sure one or\n",
    "two of the new usernames are also in the current_users list.\n",
    "•\t Loop through the new_users list to see if each new username has already\n",
    "been used. If it has, print a message that the person will need to enter a\n",
    "new username. If a username has not been used, print a message saying\n",
    "that the username is available.\n",
    "•\t Make sure your comparison is case insensitive. If 'John' has been used,\n",
    "'JOHN' should not be accepted."
   ]
  },
  {
   "cell_type": "code",
   "execution_count": 79,
   "id": "a27ba0ac-d113-42a2-ad98-8dbf992e5a09",
   "metadata": {},
   "outputs": [
    {
     "name": "stdout",
     "output_type": "stream",
     "text": [
      "ASAD is already user\n",
      "talha username is available\n",
      "Saad is already user\n",
      "tariq username is available\n",
      "Hamza is already user\n"
     ]
    }
   ],
   "source": [
    "usernames = ['asad','fahad','samad','saad','hamza']\n",
    "new_user = ['ASAD','talha','Saad','tariq','Hamza']\n",
    "\n",
    "for i in new_user:\n",
    "    if i.lower() in usernames:\n",
    "        print(f\"{i} is already user\")\n",
    "    elif i.title() in usernames:\n",
    "        print(f\"{i} is already user\")\n",
    "    elif i.upper() in usernames:\n",
    "        print(f\"{i} is already user\")\n",
    "    else:\n",
    "        print(f'{i} username is available') \n",
    "    "
   ]
  },
  {
   "cell_type": "raw",
   "id": "a5287887-4a36-4676-ad3b-004aeaf3d4d3",
   "metadata": {},
   "source": [
    "5-11. Ordinal Numbers: Ordinal numbers indicate their position in a list, such\n",
    "as 1st or 2nd. Most ordinal numbers end in th, except 1, 2, and 3.\n",
    "•\t Store the numbers 1 through 9 in a list.\n",
    "•\t Loop through the list.\n",
    "•\t Use an if-elif-else chain inside the loop to print the proper ordinal ending for each number. Your output should read \"1st 2nd 3rd 4th 5th 6th\n",
    "7th 8th 9th\", and each result should be on a separate line."
   ]
  },
  {
   "cell_type": "code",
   "execution_count": 91,
   "id": "c3e207b9-1e21-44cc-b72b-fa6022b4be83",
   "metadata": {},
   "outputs": [
    {
     "name": "stdout",
     "output_type": "stream",
     "text": [
      "1st\n",
      "2nd\n",
      "3rd\n",
      "4th\n",
      "5th\n",
      "6th\n",
      "7th\n",
      "8th\n",
      "9th\n"
     ]
    }
   ],
   "source": [
    "ordinal_numbers = []\n",
    "\n",
    "for i in range(1,10):\n",
    "    ordinal_numbers.append(i)\n",
    "\n",
    "# print(ordinal_numbers)\n",
    "\n",
    "for i in ordinal_numbers:\n",
    "    if i == 1:\n",
    "        print(f'{i}st')\n",
    "    elif i == 2:\n",
    "        print(f'{i}nd')\n",
    "    elif i == 3:\n",
    "        print(f'{i}rd')\n",
    "    else:\n",
    "        print(f'{i}th')"
   ]
  },
  {
   "cell_type": "raw",
   "id": "dad950e7-0d71-40ec-bfbd-9688b5dd0905",
   "metadata": {},
   "source": [
    "5-13. Your Ideas: At this point, you’re a more capable programmer than you\n",
    "were when you started this book. Now that you have a better sense of how\n",
    "real-world situations are modeled in programs, you might be thinking of some\n",
    "problems you could solve with your own programs. Record any new ideas you\n",
    "have about problems you might want to solve as your programming skills continue to improve. Consider games you might want to write, data sets you might\n",
    "want to explore, and web applications you’d like to create."
   ]
  },
  {
   "cell_type": "code",
   "execution_count": 95,
   "id": "bda9d5a0-16f4-4c00-bab9-4a64b5c2ff15",
   "metadata": {},
   "outputs": [
    {
     "name": "stdout",
     "output_type": "stream",
     "text": [
      "username is correct\n",
      "You can go to dashboard\n"
     ]
    }
   ],
   "source": [
    "username = 'saad'\n",
    "if username == 'saad':\n",
    "    print(\"username is correct\")\n",
    "    password = '123'\n",
    "    if password == '123':\n",
    "        print('You can go to dashboard')\n",
    "    else:\n",
    "        print('You cant go to dashboard because your password is incorrect')   \n",
    "else:\n",
    "    print('username is not correct')"
   ]
  },
  {
   "cell_type": "code",
   "execution_count": null,
   "id": "7b30605f-fb97-4186-9d61-946754b6df82",
   "metadata": {},
   "outputs": [],
   "source": []
  }
 ],
 "metadata": {
  "kernelspec": {
   "display_name": "Python 3 (ipykernel)",
   "language": "python",
   "name": "python3"
  },
  "language_info": {
   "codemirror_mode": {
    "name": "ipython",
    "version": 3
   },
   "file_extension": ".py",
   "mimetype": "text/x-python",
   "name": "python",
   "nbconvert_exporter": "python",
   "pygments_lexer": "ipython3",
   "version": "3.11.5"
  }
 },
 "nbformat": 4,
 "nbformat_minor": 5
}
