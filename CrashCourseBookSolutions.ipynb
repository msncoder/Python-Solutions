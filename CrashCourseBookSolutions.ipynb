{
 "cells": [
  {
   "cell_type": "markdown",
   "id": "a1bfbeba-240c-4948-ab86-60eebfbb2928",
   "metadata": {},
   "source": [
    "2-1. Simple Message: Store a message in a variable, and then print that\n",
    "message.\n",
    "2-2. Simple Messages: Store a message in a variable, and print that message.\n",
    "Then change the value of your variable to a new message, and print the new\n",
    "message"
   ]
  },
  {
   "cell_type": "code",
   "execution_count": 4,
   "id": "b965ab95-bab3-422c-b8b0-3f0a8f3d71c9",
   "metadata": {},
   "outputs": [
    {
     "name": "stdout",
     "output_type": "stream",
     "text": [
      "Hi. I am Saad\n",
      "Hi. I am Saad\n",
      "I am Python Developer\n"
     ]
    }
   ],
   "source": [
    "message = \"Hi. I am Saad\"\n",
    "print(message)\n",
    "new_message = message\n",
    "print(new_message)\n",
    "new_message = \"I am Python Developer\"\n",
    "print(new_message)"
   ]
  },
  {
   "cell_type": "markdown",
   "id": "f449383e-51ea-4f10-b341-31e81dbb1be2",
   "metadata": {},
   "source": [
    "2-3. Personal Message: Store a person’s name in a variable, and print a message to that person. Your message should be simple, such as, “Hello Eric,\n",
    "would you like to learn some Python today?”"
   ]
  },
  {
   "cell_type": "code",
   "execution_count": 5,
   "id": "27f9c3da-e84f-4022-b79e-ac6fc3baa203",
   "metadata": {},
   "outputs": [
    {
     "name": "stdout",
     "output_type": "stream",
     "text": [
      "Hello Saad would you like to learn some Python today?\n"
     ]
    }
   ],
   "source": [
    "name = \"Saad\"\n",
    "personal_message = f\"Hello {name} would you like to learn some Python today?\"\n",
    "print(personal_message)"
   ]
  },
  {
   "cell_type": "markdown",
   "id": "878507cb-790c-41e5-9ca0-416aaa2ce0f7",
   "metadata": {},
   "source": [
    "2-4. Name Cases: Store a person’s name in a variable, and then print that person’s name in lowercase, uppercase, and titlecase"
   ]
  },
  {
   "cell_type": "code",
   "execution_count": 1,
   "id": "db997e40-40e9-48ff-80f3-ce90cb206476",
   "metadata": {},
   "outputs": [
    {
     "name": "stdout",
     "output_type": "stream",
     "text": [
      "saad\n",
      "SAAD\n",
      "Saad\n"
     ]
    }
   ],
   "source": [
    "name = 'saAd'\n",
    "print(name.lower())\n",
    "print(name.upper())\n",
    "print(name.title())"
   ]
  },
  {
   "cell_type": "markdown",
   "id": "8190e7a1-d5df-41f2-8c0a-907022dc3b1d",
   "metadata": {},
   "source": [
    "2-5. Famous Quote: Find a quote from a famous person you admire. Print the\r\n",
    "quote and the name of its author. Your output should look something like the\r\n",
    "following, including the quotation marks:\r\n",
    "Albert Einstein once said, “A person who never made a\r\n",
    "mistake never tried anything new.”"
   ]
  },
  {
   "cell_type": "code",
   "execution_count": 6,
   "id": "042bf23e-7ce7-428f-8940-f7feac26dd48",
   "metadata": {},
   "outputs": [
    {
     "name": "stdout",
     "output_type": "stream",
     "text": [
      "Albert Einstein once said, \"A person who never made a mistake never tried anything new.\"\n"
     ]
    }
   ],
   "source": [
    "name = \"Albert Einstein\"\n",
    "quote = \"A person who never made a mistake never tried anything new.\"\n",
    "\n",
    "print(f'{name} once said, \"{quote}\"')"
   ]
  },
  {
   "cell_type": "markdown",
   "id": "846ff10b-d582-433b-8666-a70a4a8abced",
   "metadata": {},
   "source": [
    "2-6. Famous Quote 2: Repeat Exercise 2-5, but this time store the famous person’s name in a variable called famous_person. Then compose your message\n",
    "and store it in a new variable called message. Print your message."
   ]
  },
  {
   "cell_type": "code",
   "execution_count": 7,
   "id": "64ed4dda-6bd9-4f6e-baf7-fc85df8b62be",
   "metadata": {},
   "outputs": [
    {
     "name": "stdout",
     "output_type": "stream",
     "text": [
      "Albert Einstein once said, \"A person who never made a mistake never tried anything new.\"\n"
     ]
    }
   ],
   "source": [
    "famous_name = \"Albert Einstein\"\n",
    "quote = \"A person who never made a mistake never tried anything new.\"\n",
    "\n",
    "message = f'{name} once said, \"{quote}\"'\n",
    "print(message)"
   ]
  },
  {
   "cell_type": "markdown",
   "id": "f6d47d0c-5d81-47f2-89bc-3313686d3ad8",
   "metadata": {},
   "source": [
    "2-7. Stripping Names: Store a person’s name, and include some whitespace\n",
    "characters at the beginning and end of the name. Make sure you use each\n",
    "character combination, \"\\t\" and \"\\n\", at least once.\n",
    "Print the name once, so the whitespace around the name is displayed.\n",
    "Then print the name using each of the three stripping functions, lstrip(),\n",
    "rstrip(), and strip()."
   ]
  },
  {
   "cell_type": "code",
   "execution_count": 23,
   "id": "218facad-5d3c-4a7e-a454-cf8c1d58a029",
   "metadata": {},
   "outputs": [
    {
     "name": "stdout",
     "output_type": "stream",
     "text": [
      "Name with whitespace:\n",
      " My name \t is \n",
      "ad \n",
      "\n",
      "Stripped versions:\n",
      "Using lstrip(): My name \t is \n",
      "ad \n",
      "Using rstrip():  My name \t is \n",
      "ada\n",
      "Using strip(): My name \t is \n",
      "ada\n"
     ]
    }
   ],
   "source": [
    "name = \" My name \\t is \\n Saad \"\n",
    "\n",
    "print(\"Name with whitespace:\")\n",
    "print(name)\n",
    "\n",
    "print(\"\\nStripped versions:\")\n",
    "print(\"Using lstrip():\", name.lstrip())  \n",
    "print(\"Using rstrip():\", name.rstrip())  \n",
    "print(\"Using strip():\", name.strip()) "
   ]
  },
  {
   "cell_type": "code",
   "execution_count": null,
   "id": "0b19ad07-1dfd-44bd-b8a9-e6891ec84976",
   "metadata": {},
   "outputs": [],
   "source": [
    "s = 'Saa d'\n",
    "print(s.split())\n",
    "s_without_space = ''.join(s.split())\n",
    "print(s_without_space)  "
   ]
  },
  {
   "cell_type": "code",
   "execution_count": 33,
   "id": "073a696c-5a61-49ee-b74f-2cbef4acbc50",
   "metadata": {},
   "outputs": [
    {
     "name": "stdout",
     "output_type": "stream",
     "text": [
      "geek\n"
     ]
    }
   ],
   "source": [
    "string = ' g e e k '\n",
    "\n",
    "print(''.join(string.split()))\n"
   ]
  },
  {
   "cell_type": "markdown",
   "id": "9df9c75c-aaf3-4a4b-a04b-ecc5f5988c31",
   "metadata": {},
   "source": [
    "2-8. Number Eight: Write addition, subtraction, multiplication, and division\n",
    "operations that each result in the number 8. Be sure to enclose your operations\n",
    "in print statements to see the results. You should create four lines that look\n",
    "like this:\n",
    "print(5 + 3)\n",
    "Your output should simply be four lines with the number 8 appearing once\r\n",
    "on each line."
   ]
  },
  {
   "cell_type": "code",
   "execution_count": 37,
   "id": "bbbad347-b90c-4a18-9e27-dd4c0bd43281",
   "metadata": {},
   "outputs": [
    {
     "name": "stdout",
     "output_type": "stream",
     "text": [
      "8\n",
      "8\n",
      "8\n",
      "8\n"
     ]
    }
   ],
   "source": [
    "print(5+3)\n",
    "print(10-2)\n",
    "print(2*4)\n",
    "print(16//2)"
   ]
  },
  {
   "cell_type": "markdown",
   "id": "c8f4f933-7a51-4697-b2ec-3b918528f888",
   "metadata": {},
   "source": [
    "2-9. Favorite Number: Store your favorite number in a variable. Then, using\n",
    "that variable, create a message that reveals your favorite number. Print that\n",
    "message"
   ]
  },
  {
   "cell_type": "code",
   "execution_count": 38,
   "id": "a65f3309-3e2b-4257-b151-a8bbe103e505",
   "metadata": {},
   "outputs": [
    {
     "name": "stdout",
     "output_type": "stream",
     "text": [
      "7 is my favorite variable\n"
     ]
    }
   ],
   "source": [
    "variable = 7\n",
    "reveal_fav_variable = f\"{variable} is my favorite variable\"\n",
    "print(reveal_fav_variable)"
   ]
  },
  {
   "cell_type": "markdown",
   "id": "1ce8912a-c578-4aac-b7b1-60d7aee20ff3",
   "metadata": {},
   "source": [
    "2-10. Adding Comments: Choose two of the programs you’ve written, and\n",
    "add at least one comment to each. If you don’t have anything specific to write\n",
    "because your programs are too simple at this point, just add your name and\n",
    "the current date at the top of each program file. Then write one sentence\n",
    "describing what the program does."
   ]
  },
  {
   "cell_type": "code",
   "execution_count": 39,
   "id": "f9d50a76-b2af-41a6-add4-515372c46748",
   "metadata": {},
   "outputs": [
    {
     "name": "stdout",
     "output_type": "stream",
     "text": [
      "8\n",
      "8\n"
     ]
    }
   ],
   "source": [
    "# MSN.Dev 7/22/2024\n",
    "print(2*4) # it multiply 2 by 4\n",
    "print(16//2) # it divide 16 by 2 and give ground value."
   ]
  },
  {
   "cell_type": "code",
   "execution_count": 45,
   "id": "aea07ef9-eb47-4ebd-93c7-87fde853923c",
   "metadata": {},
   "outputs": [
    {
     "data": {
      "text/plain": [
       "19"
      ]
     },
     "execution_count": 45,
     "metadata": {},
     "output_type": "execute_result"
    }
   ],
   "source": [
    "4**2/4+2-3+4**2\n",
    "4**2//4+2-3+4**2\n",
    "#16/4+2-3+16\n",
    "#4+2-3+16\n",
    "#6-3+16\n",
    "#3+16\n",
    "#19"
   ]
  },
  {
   "cell_type": "markdown",
   "id": "76b7efca-5a19-49b1-ad4c-e094c6484468",
   "metadata": {},
   "source": [
    "3-1. Names: Store the names of a few of your friends in a list called names. Print\n",
    "each person’s name by accessing each element in the list, one at a time."
   ]
  },
  {
   "cell_type": "code",
   "execution_count": 16,
   "id": "cb80581f-7d5b-4fa4-9ec8-5d9a26b24d32",
   "metadata": {},
   "outputs": [
    {
     "name": "stdout",
     "output_type": "stream",
     "text": [
      "saad\n",
      "samad\n",
      "fahad\n",
      "asad\n"
     ]
    }
   ],
   "source": [
    "names = ['saad','samad','fahad','asad']\n",
    "print(names[0])\n",
    "print(names[1])\n",
    "print(names[2])\n",
    "print(names[3])"
   ]
  },
  {
   "cell_type": "markdown",
   "id": "f67be648-374c-41ac-8f6e-316279e6fda1",
   "metadata": {},
   "source": [
    "3-2. Greetings: Start with the list you used in Exercise 3-1, but instead of just\n",
    "printing each person’s name, print a message to them. The text of each message should be the same, but each message should be personalized with the\n",
    "person’s name."
   ]
  },
  {
   "cell_type": "code",
   "execution_count": 19,
   "id": "afdba92a-aeea-4ac6-b16d-1d300a9eaffc",
   "metadata": {},
   "outputs": [
    {
     "name": "stdout",
     "output_type": "stream",
     "text": [
      "Hello saad how are You\n",
      "Hello samad how are You\n",
      "Hello fahad how are You\n",
      "Hello asad how are You\n"
     ]
    }
   ],
   "source": [
    "names = ['saad','samad','fahad','asad']\n",
    "print(f'Hello {names[0]} how are You')\n",
    "print(f'Hello {names[1]} how are You')\n",
    "print(f'Hello {names[2]} how are You')\n",
    "print(f'Hello {names[3]} how are You')"
   ]
  },
  {
   "cell_type": "markdown",
   "id": "f99e490f-7dbb-47d5-ab42-a50007e129d1",
   "metadata": {},
   "source": [
    "3-3. Your Own List: Think of your favorite mode of transportation, such as a\n",
    "motorcycle or a car, and make a list that stores several examples. Use your list\n",
    "to print a series of statements about these items, such as “I would like to own a\n",
    "Honda motorcycle.”"
   ]
  },
  {
   "cell_type": "code",
   "execution_count": 22,
   "id": "f2f641a1-9ba7-41de-8520-b02e44d42cc5",
   "metadata": {},
   "outputs": [
    {
     "name": "stdout",
     "output_type": "stream",
     "text": [
      "would like to own a Honda motorcycle\n",
      "would like to own a KIA SOPRTAGE car\n",
      "would like to own a YAMAHA Heavy Bike\n"
     ]
    }
   ],
   "source": [
    "fav_vehicle = ['Honda','KIA SOPRTAGE','YAMAHA']\n",
    "print(f'would like to own a {fav_vehicle[0]} motorcycle')\n",
    "print(f'would like to own a {fav_vehicle[1]} car')\n",
    "print(f'would like to own a {fav_vehicle[2]} Heavy Bike')"
   ]
  },
  {
   "cell_type": "markdown",
   "id": "d9033b5f-7b0b-4eb6-aa79-2416b4f1c5e6",
   "metadata": {},
   "source": [
    "3-4. Guest List: If you could invite anyone, living or deceased, to dinner, who\n",
    "would you invite? Make a list that includes at least three people you’d like to\n",
    "invite to dinner. Then use your list to print a message to each person, inviting\n",
    "them to dinner."
   ]
  },
  {
   "cell_type": "code",
   "execution_count": 23,
   "id": "d1912da5-5731-440b-a748-662fc824a237",
   "metadata": {},
   "outputs": [
    {
     "name": "stdout",
     "output_type": "stream",
     "text": [
      "saadYou are invited for diner\n",
      "samadYou are invited for diner\n",
      "fahadYou are invited for diner\n"
     ]
    }
   ],
   "source": [
    "names = ['saad','samad','fahad']\n",
    "\n",
    "print(f'{names[0]}You are invited for diner')\n",
    "print(f'{names[1]}You are invited for diner')\n",
    "print(f'{names[2]}You are invited for diner')"
   ]
  },
  {
   "cell_type": "markdown",
   "id": "37011f53-ac22-4bb3-8bf8-a5fbb49a8b65",
   "metadata": {},
   "source": [
    "3-5. Changing Guest List: You just heard that one of your guests can’t make the\n",
    "dinner, so you need to send out a new set of invitations. You’ll have to think of\n",
    "someone else to invite.\n",
    "•\t Start with your program from Exercise 3-4. Add a print statement at the\n",
    "end of your program stating the name of the guest who can’t make it.\n",
    "•\t Modify your list, replacing the name of the guest who can’t make it with\n",
    "the name of the new person you are inviting.\n",
    "•\t Print a second set of invitation messages, one for each person who is still\n",
    "in your list."
   ]
  },
  {
   "cell_type": "code",
   "execution_count": 35,
   "id": "c95833ee-0ba9-418f-aa46-6bbe2f09fa12",
   "metadata": {},
   "outputs": [
    {
     "name": "stdout",
     "output_type": "stream",
     "text": [
      "saadYou are invited for diner\n",
      "samadYou are not coming for diner\n",
      "fahadYou are invited for diner\n",
      "-------\n",
      "saad You are invited for diner\n",
      "fahad You are invited for diner\n",
      "asad You are invited for diner\n"
     ]
    }
   ],
   "source": [
    "names = ['saad','samad','fahad']\n",
    "\n",
    "print(f'{names[0]}You are invited for diner')\n",
    "print(f'{names[1]}You are not coming for diner')\n",
    "print(f'{names[2]}You are invited for diner')\n",
    "\n",
    "print('-------')\n",
    "names.remove('samad')\n",
    "names.append('asad')\n",
    "\n",
    "print(f'{names[0]} You are invited for diner')\n",
    "print(f'{names[1]} You are invited for diner')\n",
    "print(f'{names[2]} You are invited for diner')"
   ]
  },
  {
   "cell_type": "code",
   "execution_count": 30,
   "id": "601641a5-69e9-4cc8-8ad0-4e861f979de3",
   "metadata": {},
   "outputs": [],
   "source": [
    "3-6. More Guests: You just found a bigger dinner table, so now more space is\n",
    "available. Think of three more guests to invite to dinner.\n",
    "•\t Start with your program from Exercise 3-4 or Exercise 3-5. Add a print\n",
    "statement to the end of your program informing people that you found a\n",
    "bigger dinner table.\n",
    "•\t Use insert() to add one new guest to the beginning of your list.\n",
    "•\t Use insert() to add one new guest to the middle of your list.\n",
    "•\t Use append() to add one new guest to the end of your list.\n",
    "•\t Print a new set of invitation messages, one for each person in your list.\n"
   ]
  },
  {
   "cell_type": "code",
   "execution_count": 41,
   "id": "533610c7-84c5-4086-a8b5-ba7769e32710",
   "metadata": {},
   "outputs": [
    {
     "name": "stdout",
     "output_type": "stream",
     "text": [
      "saadYou are invited for diner\n",
      "samadYou are not coming for diner\n",
      "fahadYou are invited for diner\n",
      "-------\n",
      "hamza You are invited for diner\n",
      "saad You are invited for diner\n",
      "haziq You are invited for diner\n",
      "fahad You are invited for diner\n",
      "asad You are invited for diner\n",
      "talha You are invited for diner\n",
      "--------- I found new dinner Table -----------------\n"
     ]
    }
   ],
   "source": [
    "names = ['saad','samad','fahad']\n",
    "\n",
    "print(f'{names[0]}You are invited for diner')\n",
    "print(f'{names[1]}You are not coming for diner')\n",
    "print(f'{names[2]}You are invited for diner')\n",
    "\n",
    "print('-------')\n",
    "names.remove('samad')\n",
    "names.append('asad')\n",
    "\n",
    "names.insert(0,'hamza')\n",
    "names.insert(2,'haziq')\n",
    "names.append('talha')\n",
    "\n",
    "\n",
    "\n",
    "print(f'{names[0]} You are invited for diner')\n",
    "print(f'{names[1]} You are invited for diner')\n",
    "print(f'{names[2]} You are invited for diner')\n",
    "print(f'{names[3]} You are invited for diner')\n",
    "print(f'{names[4]} You are invited for diner')\n",
    "print(f'{names[5]} You are invited for diner')\n",
    "print('--------- I found new dinner Table -----------------')"
   ]
  },
  {
   "cell_type": "markdown",
   "id": "f03dd9ca-d904-4cfb-9b56-785855445fe6",
   "metadata": {},
   "source": [
    "3-7. Shrinking Guest List: You just found out that your new dinner table won’t\r\n",
    "arrive in time for the dinner, and you have space for only two guests.\r\n",
    "•\t Start with your program from Exercise 3-6. Add a new line that prints a\r\n",
    "message saying that you can invite only two people for dinner.\r\n",
    "•\t Use pop() to remove guests from your list one at a time until only two\r\n",
    "names remain in your list. Each time you pop a name from your list, print\r\n",
    "a message to that person letting them know you’re sorry you can’t invite\r\n",
    "them to dinner.\r\n",
    "•\t Print a message to each of the two people still on your list, letting them\r\n",
    "know they’re still invited.\r\n",
    "•\t Use del to remove the last two names from your list, so you have an empty\r\n",
    "list. Print your list to make sure you actually have an empty list at the end\r\n",
    "of your program."
   ]
  },
  {
   "cell_type": "code",
   "execution_count": 49,
   "id": "d1e5a113-866c-4efe-be48-60465acbab87",
   "metadata": {},
   "outputs": [
    {
     "name": "stdout",
     "output_type": "stream",
     "text": [
      "-----i can invite only two people----------\n",
      "talha you can't invited for dinner\n",
      "asad you can't invited for dinner\n",
      "fahad you can't invited for dinner\n",
      "haziq you can't invited for dinner\n",
      "hamza you are still invited for dinner\n",
      "saad you are still invited for dinner\n"
     ]
    },
    {
     "data": {
      "text/plain": [
       "[]"
      ]
     },
     "execution_count": 49,
     "metadata": {},
     "output_type": "execute_result"
    }
   ],
   "source": [
    "names =['hamza', 'saad', 'haziq', 'fahad', 'asad', 'talha']\n",
    "print(\"-----i can invite only two people----------\")\n",
    "print(f\"{names.pop()} you can't invited for dinner\")\n",
    "print(f\"{names.pop()} you can't invited for dinner\")\n",
    "print(f\"{names.pop()} you can't invited for dinner\")\n",
    "print(f\"{names.pop()} you can't invited for dinner\")\n",
    "print(f\"{names[0]} you are still invited for dinner\")\n",
    "print(f\"{names[1]} you are still invited for dinner\")\n",
    "names.remove(\"hamza\")\n",
    "names.remove(\"saad\")\n",
    "names"
   ]
  },
  {
   "cell_type": "code",
   "execution_count": 1,
   "id": "9cc01876-182f-4c44-acf8-2b32c7f87a4e",
   "metadata": {},
   "outputs": [
    {
     "name": "stdout",
     "output_type": "stream",
     "text": [
      "['toyota', 'subaru', 'bmw', 'audi']\n"
     ]
    }
   ],
   "source": [
    "cars = ['toyota', 'subaru', 'bmw', 'audi'] \n",
    "cars.sort(reverse=True)\n",
    "print(cars)"
   ]
  },
  {
   "cell_type": "raw",
   "id": "c66ee2f1-54de-4ceb-b67d-900053641b77",
   "metadata": {},
   "source": [
    "3-8. Seeing the World: Think of at least five places in the world you’d like to\n",
    "visit.\n",
    "•\t Store the locations in a list. Make sure the list is not in alphabetical order.\n",
    "•\t Print your list in its original order. Don’t worry about printing the list neatly,\n",
    "just print it as a raw Python list.\n",
    "•\t Use sorted() to print your list in alphabetical order without modifying the\n",
    "actual list.\n",
    "•\t Show that your list is still in its original order by printing it.\n",
    "•\t Use sorted() to print your list in reverse alphabetical order without changing the order of the original list.\n",
    "•\t Show that your list is still in its original order by printing it again.\n",
    "•\t Use reverse() to change the order of your list. Print the list to show that its\n",
    "order has changed.\n",
    "•\t Use reverse() to change the order of your list again. Print the list to show\n",
    "it’s back to its original order.\n",
    "•\t Use sort() to change your list so it’s stored in alphabetical order. Print the\n",
    "list to show that its order has been changed.\n",
    "•\t Use sort() to change your list so it’s stored in reverse alphabetical order.\n",
    "Print the list to show that its order has changed."
   ]
  },
  {
   "cell_type": "code",
   "execution_count": 2,
   "id": "12b4b696-82df-4937-8f09-effc2f02f54e",
   "metadata": {},
   "outputs": [
    {
     "name": "stdout",
     "output_type": "stream",
     "text": [
      "['germany', 'canada', 'spain', 'crotia']\n",
      "['canada', 'crotia', 'germany', 'spain']\n",
      "['spain', 'germany', 'crotia', 'canada']\n",
      "['germany', 'canada', 'spain', 'crotia']\n",
      "['crotia', 'spain', 'canada', 'germany']\n",
      "['germany', 'canada', 'spain', 'crotia']\n",
      "['canada', 'crotia', 'germany', 'spain']\n",
      "['spain', 'germany', 'crotia', 'canada']\n"
     ]
    }
   ],
   "source": [
    "countries = ['germany','canada','spain','crotia']\n",
    "print(countries)\n",
    "print(sorted(countries))\n",
    "print(sorted(countries,reverse=True))\n",
    "print(countries)\n",
    "countries.reverse()\n",
    "print(countries)\n",
    "countries.reverse()\n",
    "print(countries)\n",
    "countries.sort()\n",
    "print(countries)\n",
    "countries.sort(reverse=True)\n",
    "print(countries)"
   ]
  },
  {
   "cell_type": "raw",
   "id": "3659e9c6-494e-46c1-aebd-72a6d2f7e5bf",
   "metadata": {},
   "source": [
    "3-9. Dinner Guests: Working with one of the programs from Exercises 3-4\n",
    "through 3-7 (page 46), use len() to print a message indicating the number\n",
    "of people you are inviting to dinner."
   ]
  },
  {
   "cell_type": "code",
   "execution_count": 3,
   "id": "d98ce692-0a27-4b51-9304-ab7f278fdef2",
   "metadata": {},
   "outputs": [
    {
     "name": "stdout",
     "output_type": "stream",
     "text": [
      "-----i can invite only two people----------\n",
      "talha you can't invited for dinner\n",
      "asad you can't invited for dinner\n",
      "fahad you can't invited for dinner\n",
      "haziq you can't invited for dinner\n",
      "hamza you are still invited for dinner\n",
      "saad you are still invited for dinner\n",
      "2 numbers of people invited in dinner\n"
     ]
    }
   ],
   "source": [
    "names =['hamza', 'saad', 'haziq', 'fahad', 'asad', 'talha']\n",
    "print(\"-----i can invite only two people----------\")\n",
    "print(f\"{names.pop()} you can't invited for dinner\")\n",
    "print(f\"{names.pop()} you can't invited for dinner\")\n",
    "print(f\"{names.pop()} you can't invited for dinner\")\n",
    "print(f\"{names.pop()} you can't invited for dinner\")\n",
    "print(f\"{names[0]} you are still invited for dinner\")\n",
    "print(f\"{names[1]} you are still invited for dinner\")\n",
    "print(f'{len(names)} numbers of people invited in dinner')"
   ]
  },
  {
   "cell_type": "raw",
   "id": "ee0b9153-aac5-40d3-b4a5-3528094f4edd",
   "metadata": {},
   "source": [
    "3-10. Every Function: Think of something you could store in a list. For example,\n",
    "you could make a list of mountains, rivers, countries, cities, languages, or anything else you’d like.\n",
    "Write a program that creates a list containing these items\n",
    "and then uses each function introduced in this chapter at least once."
   ]
  },
  {
   "cell_type": "code",
   "execution_count": 4,
   "id": "a91d2bfb-fbc5-4c6c-8007-7533fd3995f6",
   "metadata": {},
   "outputs": [
    {
     "name": "stdout",
     "output_type": "stream",
     "text": [
      "4\n",
      "['canada', 'crotia', 'germany', 'spain']\n",
      "['spain', 'germany', 'crotia', 'canada']\n",
      "['germany', 'canada', 'spain', 'crotia', 'Albania']\n",
      "['germany', 'spain', 'crotia', 'Albania']\n",
      "['Albania', 'crotia', 'germany', 'spain']\n",
      "['spain', 'germany', 'crotia', 'Albania']\n",
      "['Albania', 'crotia', 'germany', 'spain']\n",
      "['Albania', 'germany', 'spain']\n"
     ]
    }
   ],
   "source": [
    "countries = ['germany','canada','spain','crotia']\n",
    "print(len(countries))\n",
    "print(sorted(countries))\n",
    "print(sorted(countries,reverse=True))\n",
    "countries.append('Albania')\n",
    "print(countries)\n",
    "countries.pop(1)\n",
    "print(countries)\n",
    "countries.sort()\n",
    "print(countries)\n",
    "countries.sort(reverse=True)\n",
    "print(countries)\n",
    "countries.reverse()\n",
    "print(countries)\n",
    "countries.remove('crotia')\n",
    "print(countries)"
   ]
  },
  {
   "cell_type": "raw",
   "id": "3dbbc966-04dc-4756-a93a-852fe0ba3c71",
   "metadata": {},
   "source": [
    "3-11. Intentional Error: If you haven’t received an index error in one of your\n",
    "programs yet, try to make one happen. Change an index in one of your programs\n",
    "to produce an index error. Make sure you correct the error before closing the program."
   ]
  },
  {
   "cell_type": "code",
   "execution_count": 5,
   "id": "8b8f342a-c361-410d-b541-ea16596672ff",
   "metadata": {},
   "outputs": [
    {
     "name": "stdout",
     "output_type": "stream",
     "text": [
      "germany\n"
     ]
    }
   ],
   "source": [
    "countries = ['germany','canada','spain','crotia']\n",
    "# print(countries[6])\n",
    "print(countries[0])"
   ]
  },
  {
   "cell_type": "raw",
   "id": "8b10f36b-7115-4c81-b276-aa48aebe2973",
   "metadata": {},
   "source": [
    "4-1. Pizzas: Think of at least three kinds of your favorite pizza. Store these\n",
    "pizza names in a list, and then use a for loop to print the name of each pizza.\n",
    "•\t Modify your for loop to print a sentence using the name of the pizza\n",
    "instead of printing just the name of the pizza. For each pizza you should\n",
    "have one line of output containing a simple statement like I like pepperoni\n",
    "pizza.\n",
    "•\t Add a line at the end of your program, outside the for loop, that states\n",
    "how much you like pizza. The output should consist of three or more lines\n",
    "about the kinds of pizza you like and then an additional sentence, such as\n",
    "I really love pizza!"
   ]
  },
  {
   "cell_type": "code",
   "execution_count": 6,
   "id": "b1ca731d-c7ee-424e-99ad-371e0aae73cb",
   "metadata": {},
   "outputs": [
    {
     "name": "stdout",
     "output_type": "stream",
     "text": [
      "I like pepperoni pizza.\n",
      "I like cheese lover pizza.\n",
      "I like Bar BQ pizza.\n",
      "\tI really Love pizza\n"
     ]
    }
   ],
   "source": [
    "favorite_pizza = ['pepperoni','cheese lover', 'Bar BQ']\n",
    "\n",
    "for i in favorite_pizza:\n",
    "    print(f'I like {i} pizza.')\n",
    "\n",
    "print('\\tI really Love pizza')"
   ]
  },
  {
   "cell_type": "raw",
   "id": "861560a7-4090-4991-9c25-8122fa0c268b",
   "metadata": {},
   "source": [
    "4-2. Animals: Think of at least three different animals that have a common characteristic. Store the names of these animals in a list, and then use a for loop to\n",
    "print out the name of each animal.\n",
    "•\t Modify your program to print a statement about each animal, such as\n",
    "A dog would make a great pet.\n",
    "•\t Add a line at the end of your program stating what these animals have in\n",
    "common. You could print a sentence such as Any of these animals would\n",
    "make a great pet!"
   ]
  },
  {
   "cell_type": "code",
   "execution_count": 7,
   "id": "46cc5573-8ab7-41ec-9c9e-dc106406549b",
   "metadata": {},
   "outputs": [
    {
     "name": "stdout",
     "output_type": "stream",
     "text": [
      "A Goat would make a great pet\n",
      "A Horse would make a great pet\n",
      "A Cow would make a great pet\n",
      "\tthese animals would make a great pet!\n"
     ]
    }
   ],
   "source": [
    "animal = ['Goat','Horse','Cow']\n",
    "for i in animal:\n",
    "    print(f'A {i} would make a great pet')\n",
    "print('\\tthese animals would make a great pet!')"
   ]
  },
  {
   "cell_type": "raw",
   "id": "11ffcf0f-a216-4ec3-acd5-f5eefecc06c9",
   "metadata": {},
   "source": [
    "4-3. Counting to Twenty: Use a for loop to print the numbers from 1 to 20,\n",
    "inclusive"
   ]
  },
  {
   "cell_type": "code",
   "execution_count": 8,
   "id": "6f44308b-588b-4ba1-838a-e0994c4ae8a2",
   "metadata": {},
   "outputs": [
    {
     "name": "stdout",
     "output_type": "stream",
     "text": [
      "1 2 3 4 5 6 7 8 9 10 11 12 13 14 15 16 17 18 19 20 "
     ]
    }
   ],
   "source": [
    "for i in range(1,21):\n",
    "    print(i,end=\" \")"
   ]
  },
  {
   "cell_type": "raw",
   "id": "fede46b6-0f1b-417b-9eb7-f8b404b365fd",
   "metadata": {},
   "source": [
    "4-4. One Million: Make a list of the numbers from one to one million, and then\n",
    "use a for loop to print the numbers. (If the output is taking too long, stop it by\n",
    "pressing ctrl-C or by closing the output window.)\n"
   ]
  },
  {
   "cell_type": "code",
   "execution_count": 9,
   "id": "9350fdcc-d019-4a4e-b5ed-2aa918ec73dd",
   "metadata": {},
   "outputs": [],
   "source": [
    "#for i in range(1,100000):\n",
    " #   print(i)"
   ]
  },
  {
   "cell_type": "raw",
   "id": "107a31ae-96ae-445d-8dec-4403671d7189",
   "metadata": {},
   "source": [
    "4-5. Summing a Million: Make a list of the numbers from one to one million,\n",
    "and then use min() and max() to make sure your list actually starts at one and\n",
    "ends at one million. Also, use the sum() function to see how quickly Python can\n",
    "add a million numbers."
   ]
  },
  {
   "cell_type": "code",
   "execution_count": 10,
   "id": "2d51aa5d-9f4f-4766-b4bf-f486d3e6e3b1",
   "metadata": {},
   "outputs": [
    {
     "data": {
      "text/plain": [
       "4999950000"
      ]
     },
     "execution_count": 10,
     "metadata": {},
     "output_type": "execute_result"
    }
   ],
   "source": [
    "li = list(range(1,100000))\n",
    "# print(li)\n",
    "min(li)\n",
    "max(li)\n",
    "sum(li)"
   ]
  },
  {
   "cell_type": "raw",
   "id": "8a16029e-99c4-4d22-a8ef-545ad27c037a",
   "metadata": {},
   "source": [
    "4-6. Odd Numbers: Use the third argument of the range() function to make a list\n",
    "of the odd numbers from 1 to 20. Use a for loop to print each number."
   ]
  },
  {
   "cell_type": "code",
   "execution_count": 11,
   "id": "8f6be5b9-c1b4-4038-aaba-1581f7f154b1",
   "metadata": {},
   "outputs": [
    {
     "name": "stdout",
     "output_type": "stream",
     "text": [
      "1\n",
      "3\n",
      "5\n",
      "7\n",
      "9\n",
      "11\n",
      "13\n",
      "15\n",
      "17\n",
      "19\n"
     ]
    }
   ],
   "source": [
    "for i in range(1,21,2):\n",
    "    print(i)"
   ]
  },
  {
   "cell_type": "markdown",
   "id": "8e14849f-7840-4251-8584-78c8f3875f75",
   "metadata": {},
   "source": [
    "4-7. Threes: Make a list of the multiples of 3 from 3 to 30. Use a for loop to\n",
    "print the numbers in your list."
   ]
  },
  {
   "cell_type": "code",
   "execution_count": 12,
   "id": "40b06ee7-7d0d-40fb-84f5-e87666c40ad4",
   "metadata": {},
   "outputs": [
    {
     "name": "stdout",
     "output_type": "stream",
     "text": [
      "3 6 9 12 15 18 21 24 27 30 "
     ]
    }
   ],
   "source": [
    "multiples_of_3 = list(range(3, 31, 3))\n",
    "\n",
    "for i in multiples_of_3:\n",
    "    print(i,end=\" \")"
   ]
  },
  {
   "cell_type": "raw",
   "id": "3d8ba40e-c081-4e68-b009-3ecd3ac943c6",
   "metadata": {},
   "source": [
    "4-8. Cubes: A number raised to the third power is called a cube. For example,\n",
    "the cube of 2 is written as 2**3 in Python. Make a list of the first 10 cubes (that\n",
    "is, the cube of each integer from 1 through 10), and use a for loop to print out\n",
    "the value of each cube"
   ]
  },
  {
   "cell_type": "code",
   "execution_count": 13,
   "id": "bd697712-d007-42ac-b0eb-19f62f025167",
   "metadata": {},
   "outputs": [
    {
     "data": {
      "text/plain": [
       "[1, 8, 27, 64, 125, 216, 343, 512, 729]"
      ]
     },
     "execution_count": 13,
     "metadata": {},
     "output_type": "execute_result"
    }
   ],
   "source": [
    "cube = []\n",
    "\n",
    "for i in range(1,10):\n",
    "    cube.append(i**3)\n",
    "cube"
   ]
  },
  {
   "cell_type": "raw",
   "id": "4b178387-0fb3-4d32-bc42-9fd4ca616271",
   "metadata": {},
   "source": [
    "4-9. Cube Comprehension: Use a list comprehension to generate a list of the\n",
    "first 10 cubes"
   ]
  },
  {
   "cell_type": "code",
   "execution_count": 14,
   "id": "244b60f6-8941-4bef-a2d1-4f337695c1b2",
   "metadata": {},
   "outputs": [
    {
     "data": {
      "text/plain": [
       "[1, 8, 27, 64, 125, 216, 343, 512, 729]"
      ]
     },
     "execution_count": 14,
     "metadata": {},
     "output_type": "execute_result"
    }
   ],
   "source": [
    "cube = [value**3 for value in range(1,10)]\n",
    "cube"
   ]
  },
  {
   "cell_type": "raw",
   "id": "73b6db49-8c90-458b-b0ce-2012a23d9129",
   "metadata": {},
   "source": [
    "4-10. Slices: Using one of the programs you wrote in this chapter, add several\n",
    "lines to the end of the program that do the following:\n",
    "•\t Print the message, The first three items in the list are:. Then use a slice to\n",
    "print the first three items from that program’s list.\n",
    "•\t Print the message, Three items from the middle of the list are:. Use a slice\n",
    "to print three items from the middle of the list.\n",
    "•\t Print the message, The last three items in the list are:. Use a slice to print\n",
    "the last three items in the list."
   ]
  },
  {
   "cell_type": "code",
   "execution_count": 18,
   "id": "2d6f1187-e2dc-4143-97dc-00997ef73074",
   "metadata": {},
   "outputs": [
    {
     "name": "stdout",
     "output_type": "stream",
     "text": [
      "Goat and Cow is a Halal animal and Horse is haram\n",
      "['Goat', 'Horse', 'Cow']\n",
      "['Horse', 'Cow', 'Dog']\n",
      "['Cow', 'Dog', 'Camel']\n"
     ]
    }
   ],
   "source": [
    "animal = ['Goat','Horse','Cow','Dog','Camel']\n",
    "message = f'{animal[0]} and {animal[2]} is a Halal animal and {animal[1]} is haram'\n",
    "print(message)\n",
    "\n",
    "print(animal[:3])\n",
    "print(animal[1:4])\n",
    "print(animal[2:])"
   ]
  },
  {
   "cell_type": "raw",
   "id": "1dfc210f-c524-4276-8df8-13e92852ff43",
   "metadata": {},
   "source": [
    ". My Pizzas, Your Pizzas: Start with your program from Exercise 4-1\n",
    "(page 60). Make a copy of the list of pizzas, and call it friend_pizzas.\n",
    "Then, do the following:\n",
    "•\t Add a new pizza to the original list.\n",
    "•\t Add a different pizza to the list friend_pizzas.\n",
    "•\t Prove that you have two separate lists. Print the message, My favorite\n",
    "pizzas are:, and then use a for loop to print the first list. Print the message,\n",
    "My friend’s favorite pizzas are:, and then use a for loop to print the second list. Make sure each new pizza is stored in the appropriate list."
   ]
  },
  {
   "cell_type": "code",
   "execution_count": 20,
   "id": "1d519bc8-9869-4eee-b93a-538548cca1ce",
   "metadata": {},
   "outputs": [
    {
     "name": "stdout",
     "output_type": "stream",
     "text": [
      "my favorite pizzas are\n",
      "pepperoni\n",
      "cheese lover\n",
      "Bar BQ\n",
      "Tikka\n",
      "Cremy\n",
      "my friend pizzas are\n",
      "pepperoni\n",
      "cheese lover\n",
      "Bar BQ\n",
      "Tikka\n",
      "Cremy\n"
     ]
    }
   ],
   "source": [
    "favorite_pizza = ['pepperoni','cheese lover', 'Bar BQ']\n",
    "friend_pizzas = favorite_pizza\n",
    "favorite_pizza.append('Tikka')\n",
    "friend_pizzas.append('Cremy')\n",
    "print('my favorite pizzas are')\n",
    "for i in favorite_pizza:\n",
    "    print(i)\n",
    "print('my friend pizzas are')\n",
    "for i in friend_pizzas:\n",
    "    print(i)"
   ]
  },
  {
   "cell_type": "raw",
   "id": "3dec4908-e11f-4df4-941f-b66ee48d2ba9",
   "metadata": {},
   "source": [
    "4-12. More Loops: All versions of foods.py in this section have avoided using\n",
    "for loops when printing to save space. Choose a version of foods.py, and\n",
    "write two for loops to print each list of foods."
   ]
  },
  {
   "cell_type": "code",
   "execution_count": 22,
   "id": "53571bc3-7b50-441c-989a-639d98fc4aba",
   "metadata": {},
   "outputs": [
    {
     "name": "stdout",
     "output_type": "stream",
     "text": [
      "apple\n",
      "banana\n",
      "cherry\n",
      "date\n",
      "carrot\n",
      "broccoli\n",
      "spinach\n",
      "kale\n"
     ]
    }
   ],
   "source": [
    "fruits = ['apple', 'banana', 'cherry', 'date']\n",
    "vegetables = ['carrot', 'broccoli', 'spinach', 'kale']\n",
    "for i in fruits:\n",
    "    print(i)\n",
    "for i in vegetables:\n",
    "    print(i)"
   ]
  },
  {
   "cell_type": "markdown",
   "id": "c745eb81-3982-45c5-8c14-c5a47c59e7b8",
   "metadata": {},
   "source": [
    "4-13. Buffet: A buffet-style restaurant offers only five basic foods. Think of five\n",
    "simple foods, and store them in a tuple.\n",
    "•\t Use a for loop to print each food the restaurant offers.\n",
    "•\t Try to modify one of the items, and make sure that Python rejects the\n",
    "change.\n",
    "•\t The restaurant changes its menu, replacing two of the items with different\n",
    "foods. Add a block of code that rewrites the tuple, and then use a for\n",
    "loop to print each of the items on the revised menu."
   ]
  },
  {
   "cell_type": "code",
   "execution_count": 24,
   "id": "d20bf2a0-36c5-4a6d-80e0-cd0090a17f9d",
   "metadata": {},
   "outputs": [
    {
     "name": "stdout",
     "output_type": "stream",
     "text": [
      "The Restaurant offer biryani\n",
      "The Restaurant offer Korma\n",
      "The Restaurant offer Nihari\n",
      "The Restaurant offer Kharahi\n",
      "The Restaurant offer Roast\n",
      "-----------\n",
      "The Restaurant offer biryani\n",
      "The Restaurant offer Korma\n",
      "The Restaurant offer Handi\n",
      "The Restaurant offer Tikka\n",
      "The Restaurant offer Roast\n"
     ]
    }
   ],
   "source": [
    "foods = ('biryani','Korma','Nihari','Kharahi','Roast')\n",
    "for i in foods:\n",
    "    print(f'The Restaurant offer {i}')\n",
    "print('-----------')\n",
    "foods = ('biryani','Korma','Handi','Tikka','Roast')\n",
    "for i in foods:\n",
    "    print(f'The Restaurant offer {i}')"
   ]
  },
  {
   "cell_type": "raw",
   "id": "2fd4e2f4-36b8-4139-803a-60c6bb242def",
   "metadata": {},
   "source": [
    "5-1. Conditional Tests: Write a series of conditional tests. Print a statement\n",
    "describing each test and your prediction for the results of each test. Your code\n",
    "should look something like this:\n",
    "car = 'subaru'\n",
    "print(\"Is car == 'subaru'? I predict True.\")\n",
    "print(car == 'subaru')\n",
    "print(\"\\nIs car == 'audi'? I predict False.\")\n",
    "print(car == 'audi')\n",
    "•\t Look closely at your results, and make sure you understand why each line\n",
    "evaluates to True or False.\n",
    "•\t Create at least 10 tests. Have at least 5 tests evaluate to True and another\n",
    "5 tests evaluate to False."
   ]
  },
  {
   "cell_type": "code",
   "execution_count": 25,
   "id": "4bd477e5-bb77-487a-a738-35694311c86d",
   "metadata": {},
   "outputs": [
    {
     "name": "stdout",
     "output_type": "stream",
     "text": [
      "Is car == 'subaru'? I predict True.\n",
      "True\n",
      "\n",
      "Is car == 'audi'? I predict False.\n",
      "False\n",
      "Is car == 'Honda'? I predict True.\n",
      "True\n",
      "\n",
      "Is car == 'Honda'? I predict False.\n",
      "False\n",
      "Is car == 'Kia'? I predict True.\n",
      "True\n",
      "\n",
      "Is car == 'Kia'? I predict False.\n",
      "False\n",
      "Is car == 'Audi'? I predict True.\n",
      "True\n",
      "\n",
      "Is car == 'Kia'? I predict False.\n",
      "False\n",
      "Is car == 'Toyota'? I predict True.\n",
      "True\n",
      "\n",
      "Is car == 'audi'? I predict False.\n",
      "False\n"
     ]
    }
   ],
   "source": [
    "car = 'subaru'\n",
    "print(\"Is car == 'subaru'? I predict True.\")\n",
    "print(car == 'subaru')\n",
    "print(\"\\nIs car == 'audi'? I predict False.\")\n",
    "print(car == 'audi')\n",
    "\n",
    "car = 'Honda'\n",
    "print(\"Is car == 'Honda'? I predict True.\")\n",
    "print(car == 'Honda')\n",
    "print(\"\\nIs car == 'Honda'? I predict False.\")\n",
    "print(car == 'audi')\n",
    "\n",
    "car = 'Kia'\n",
    "print(\"Is car == 'Kia'? I predict True.\")\n",
    "print(car == 'Kia')\n",
    "print(\"\\nIs car == 'Kia'? I predict False.\")\n",
    "print(car == 'audi')\n",
    "\n",
    "car = 'Audi'\n",
    "print(\"Is car == 'Audi'? I predict True.\")\n",
    "print(car == 'Audi')\n",
    "print(\"\\nIs car == 'Kia'? I predict False.\")\n",
    "print(car == 'Kia')\n",
    "\n",
    "car = 'Toyota'\n",
    "print(\"Is car == 'Toyota'? I predict True.\")\n",
    "print(car == 'Toyota')\n",
    "print(\"\\nIs car == 'audi'? I predict False.\")\n",
    "print(car == 'audi')"
   ]
  },
  {
   "cell_type": "raw",
   "id": "3832b28c-292c-444b-bfff-f796ae65a7c6",
   "metadata": {},
   "source": [
    "5-2. More Conditional Tests: You don’t have to limit the number of tests you\n",
    "create to 10. If you want to try more comparisons, write more tests and add\n",
    "them to conditional_tests.py. Have at least one True and one False result for\n",
    "each of the following:\n",
    "•\t Tests for equality and inequality with strings\n",
    "•\t Tests using the lower() function\n",
    "•\t Numerical tests involving equality and inequality, greater than and\n",
    "less than, greater than or equal to, and less than or equal to\n",
    "•\t Tests using the and keyword and the or keyword\n",
    "•\t Test whether an item is in a list\n",
    "•\t Test whether an item is not in a list"
   ]
  },
  {
   "cell_type": "code",
   "execution_count": 37,
   "id": "08ea865a-05ef-48de-a333-724d30e2bbd1",
   "metadata": {},
   "outputs": [
    {
     "name": "stdout",
     "output_type": "stream",
     "text": [
      "False\n",
      "True\n",
      "False\n",
      "True\n",
      "True\n",
      "True\n",
      "False\n",
      "True\n",
      "True\n",
      "False\n"
     ]
    }
   ],
   "source": [
    "a = 10\n",
    "b = 11\n",
    "print(a>11)\n",
    "c = 'Saad'\n",
    "print(c.lower() == 'saad')\n",
    "print(a > 10)\n",
    "print(a >= 10)\n",
    "print(a < 11)\n",
    "print(a <= 10)\n",
    "\n",
    "print(a > 10 and b < 20)\n",
    "print(a > 10 or b < 20)\n",
    "\n",
    "li = [10,20,30,40]\n",
    "print(20 in li)\n",
    "\n",
    "li = [10,20,30,40]\n",
    "print(20 not in li)\n"
   ]
  },
  {
   "cell_type": "code",
   "execution_count": 44,
   "id": "a7440b84-dbf1-4b1a-b4ef-f5cf9767dc59",
   "metadata": {},
   "outputs": [
    {
     "name": "stdout",
     "output_type": "stream",
     "text": [
      "Adding mushrooms.\n",
      "Adding extra cheese.\n",
      "\n",
      "Finished making your pizza!\n"
     ]
    }
   ],
   "source": [
    "requested_toppings = ['mushrooms', 'extra cheese']\n",
    "\n",
    "if 'mushrooms' in requested_toppings:\n",
    "    print(\"Adding mushrooms.\")\n",
    "if 'pepperoni' in requested_toppings:\n",
    "    print(\"Adding pepperoni.\")\n",
    "if 'extra cheese' in requested_toppings:\n",
    "    print(\"Adding extra cheese.\")\n",
    "print(\"\\nFinished making your pizza "
   ]
  },
  {
   "cell_type": "code",
   "execution_count": 45,
   "id": "1da5d2a3-f7ac-4b9e-a79f-ca3525393e32",
   "metadata": {},
   "outputs": [
    {
     "name": "stdout",
     "output_type": "stream",
     "text": [
      "Adding mushrooms.\n",
      "\n",
      "Finished making your pizza!\n"
     ]
    }
   ],
   "source": [
    "requested_toppings = ['mushrooms', 'extra cheese']\n",
    "\n",
    "if 'mushrooms' in requested_toppings:\n",
    "    print(\"Adding mushrooms.\")\n",
    "elif 'pepperoni' in requested_toppings:\n",
    "    print(\"Adding pepperoni.\")\n",
    "elif 'extra cheese' in requested_toppings:\n",
    "    print(\"Adding extra cheese.\")\n",
    "\n",
    "print(\"\\nFinished making your pizza!\")"
   ]
  },
  {
   "cell_type": "raw",
   "id": "737af004-1204-4942-af11-e5c136cee2a5",
   "metadata": {},
   "source": [
    "5-3. Alien Colors #1: Imagine an alien was just shot down in a game. Create a\n",
    "variable called alien_color and assign it a value of 'green', 'yellow', or 'red'.\n",
    "•\t Write an if statement to test whether the alien’s color is green. If it is, print\n",
    "a message that the player just earned 5 points.\n",
    "•\t Write one version of this program that passes the if test and another that\n",
    "fails. (The version that fails will have no output.)"
   ]
  },
  {
   "cell_type": "code",
   "execution_count": 48,
   "id": "291bdfd3-9593-4431-9556-417e8f0bfd66",
   "metadata": {},
   "outputs": [
    {
     "name": "stdout",
     "output_type": "stream",
     "text": [
      "You have earned 5 Rs\n",
      "---------------\n",
      "Pass\n",
      "pass\n",
      "All Casses of alien colors\n"
     ]
    }
   ],
   "source": [
    "Alien_Colors = ['red','green','yellow']\n",
    "if 'red' in Alien_Colors:\n",
    "    print('You have earned 5 Rs')\n",
    "elif 'green' in Alien_Colors:\n",
    "    print('You have earned 5 Rs')\n",
    "elif 'green' in Alien_Colors:\n",
    "    print('You have earned 5 Rs')\n",
    "\n",
    "print('---------------')\n",
    "\n",
    "if 'red' in Alien_Colors:\n",
    "    print('Pass')\n",
    "if 'black' in Alien_Colors:\n",
    "    print('pass')\n",
    "if 'yellow' in Alien_Colors:\n",
    "    print('pass')\n",
    "\n",
    "print(\"All Casses of alien colors\")"
   ]
  },
  {
   "cell_type": "raw",
   "id": "1d443231-a2ab-4a7e-a2b2-7736c534b0be",
   "metadata": {},
   "source": [
    "5-5. Alien Colors #3: Turn your if-else chain from Exercise 5-4 into an if-elifelse chain.\n",
    "•\t If the alien is green, print a message that the player earned 5 points.\n",
    "•\t If the alien is yellow, print a message that the player earned 10 points.\n",
    "•\t If the alien is red, print a message that the player earned 15 points.\n",
    "•\t Write three versions of this program, making sure each message is printed\n",
    "for the appropriate color alien.\n"
   ]
  },
  {
   "cell_type": "code",
   "execution_count": 52,
   "id": "83ee4873-d4ec-47b2-be76-e3736c5e90ec",
   "metadata": {},
   "outputs": [
    {
     "name": "stdout",
     "output_type": "stream",
     "text": [
      "the player earned 15 points\n"
     ]
    }
   ],
   "source": [
    "Alien_Colors = ['red','green','yellow']\n",
    "\n",
    "if Alien_Colors[0] == 'black':\n",
    "    print('the player earned 5 points')\n",
    "elif Alien_Colors[1] == 'blue':\n",
    "    print('the player earned 10 points')\n",
    "elif Alien_Colors[2] == 'yellow':\n",
    "    print('the player earned 15 points')"
   ]
  },
  {
   "cell_type": "raw",
   "id": "be36a499-d5be-47cf-8450-307a0344940b",
   "metadata": {},
   "source": [
    "5-6. Stages of Life: Write an if-elif-else chain that determines a person’s\n",
    "stage of life. Set a value for the variable age, and then:\n",
    "•\t If the person is less than 2 years old, print a message that the person is\n",
    "a baby.\n",
    "•\t If the person is at least 2 years old but less than 4, print a message that\n",
    "the person is a toddler.\n",
    "•\t If the person is at least 4 years old but less than 13, print a message that\n",
    "the person is a kid.\n",
    "•\t If the person is at least 13 years old but less than 20, print a message that\n",
    "the person is a teenager.\n",
    "•\t If the person is at least 20 years old but less than 65, print a message that\n",
    "the person is an adult.\n",
    "•\t If the person is age 65 or older, print a message that the person is an\n",
    "elder."
   ]
  },
  {
   "cell_type": "code",
   "execution_count": 54,
   "id": "42b3cf23-02f2-4a4c-a869-b7261d970fbd",
   "metadata": {},
   "outputs": [
    {
     "name": "stdout",
     "output_type": "stream",
     "text": [
      "the person is a adult\n"
     ]
    }
   ],
   "source": [
    "age = 25\n",
    "if age < 2:\n",
    "    print(\"the person is a baby\")\n",
    "elif age >= 2 and age < 4:\n",
    "    print('the person is a toddler')\n",
    "elif age >= 4 and age < 13:\n",
    "    print('the person is a kid')\n",
    "elif age >= 13 and age < 20:\n",
    "    print(\"the person is a teenager\")\n",
    "elif age >= 20 and age< 65:\n",
    "    print('the person is a adult')\n",
    "else:\n",
    "    print('the person is an elder')"
   ]
  },
  {
   "cell_type": "raw",
   "id": "ce7804d3-5405-45da-805b-d888ef8101a6",
   "metadata": {},
   "source": [
    "5-7. Favorite Fruit: Make a list of your favorite fruits, and then write a series of\n",
    "independent if statements that check for certain fruits in your list.\n",
    "•\t Make a list of your three favorite fruits and call it favorite_fruits.\n",
    "•\t Write five if statements. Each should check whether a certain kind of fruit\n",
    "is in your list. If the fruit is in your list, the if block should print a statement,\n",
    "such as You really like bananas!"
   ]
  },
  {
   "cell_type": "code",
   "execution_count": 56,
   "id": "09b3fa48-373b-4d78-a7a6-ef36528aced0",
   "metadata": {},
   "outputs": [
    {
     "name": "stdout",
     "output_type": "stream",
     "text": [
      "['Bananas', 'Apple', 'Mango']\n",
      "such as You really like bananas!\n",
      "such as You really like Apple!\n",
      "such as You really like Mango!\n"
     ]
    }
   ],
   "source": [
    "fav_fruit = ['Bananas','Apple','Mango']\n",
    "print(fav_fruit)\n",
    "\n",
    "if 'Bananas' in fav_fruit:\n",
    "    print('such as You really like bananas!')\n",
    "\n",
    "if 'Apple' in fav_fruit:\n",
    "    print('such as You really like Apple!')\n",
    "\n",
    "if 'Cheery' in fav_fruit:\n",
    "    print('such as You really like Cherrt!')\n",
    "\n",
    "if 'Kiwi' in fav_fruit:\n",
    "    print('such as You really like Kiwi!')\n",
    "\n",
    "if 'Mango' in fav_fruit:\n",
    "    print('such as You really like Mango!')"
   ]
  },
  {
   "cell_type": "raw",
   "id": "2ebad1bb-c072-4ba3-8335-e98eedd08245",
   "metadata": {},
   "source": [
    "5-8. Hello Admin: Make a list of five or more usernames, including the name\n",
    "'admin'. Imagine you are writing code that will print a greeting to each user\n",
    "after they log in to a website. Loop through the list, and print a greeting to\n",
    "each user:\n",
    "•\t If the username is 'admin', print a special greeting, such as Hello admin,\n",
    "would you like to see a status report?\n",
    "•\t Otherwise, print a generic greeting, such as Hello Eric, thank you for logging in again."
   ]
  },
  {
   "cell_type": "code",
   "execution_count": 73,
   "id": "4023550c-5a18-4d07-9e74-60458c4847fb",
   "metadata": {},
   "outputs": [
    {
     "name": "stdout",
     "output_type": "stream",
     "text": [
      "Hello asad\n",
      "Hello fahad\n",
      "Hello samad\n",
      "such as Hello saad, would you like to see a status report?\n",
      "Hello hamza\n"
     ]
    }
   ],
   "source": [
    "usernames = ['asad','fahad','samad','saad','hamza']\n",
    "\n",
    "for name in usernames:\n",
    "    if name == 'saad':\n",
    "        print(f'such as Hello {name}, would you like to see a status report?')\n",
    "    else:\n",
    "        print(f'Hello {name}')"
   ]
  },
  {
   "cell_type": "raw",
   "id": "8fe3c578-72b2-4cb2-902a-366855fb5eeb",
   "metadata": {},
   "source": [
    "5-9. No Users: Add an if test to hello_admin.py to make sure the list of users is\n",
    "not empty.\n",
    "•\t If the list is empty, print the message We need to find some users!\n",
    "•\t Remove all of the usernames from your list, and make sure the correct\n",
    "message is printed."
   ]
  },
  {
   "cell_type": "code",
   "execution_count": 75,
   "id": "fc8b2aaf-0ecb-4bb2-8028-97d00d8ed7f7",
   "metadata": {},
   "outputs": [
    {
     "name": "stdout",
     "output_type": "stream",
     "text": [
      "we need to find some users\n"
     ]
    }
   ],
   "source": [
    "usernames.clear()\n",
    "if len(usernames) != 0:\n",
    "    for name in usernames:\n",
    "        if name == 'saad':\n",
    "            print(f'such as Hello {name}, would you like to see a status report?')\n",
    "        else:\n",
    "            print(f'Hello {name}')\n",
    "else:\n",
    "    print('we need to find some users')"
   ]
  },
  {
   "cell_type": "raw",
   "id": "8fc958ea-b252-4171-8e39-d451c0635336",
   "metadata": {},
   "source": [
    "5-10. Checking Usernames: Do the following to create a program that simulates\n",
    "how websites ensure that everyone has a unique username.\n",
    "•\t Make a list of five or more usernames called current_users.\n",
    "•\t Make another list of five usernames called new_users. Make sure one or\n",
    "two of the new usernames are also in the current_users list.\n",
    "•\t Loop through the new_users list to see if each new username has already\n",
    "been used. If it has, print a message that the person will need to enter a\n",
    "new username. If a username has not been used, print a message saying\n",
    "that the username is available.\n",
    "•\t Make sure your comparison is case insensitive. If 'John' has been used,\n",
    "'JOHN' should not be accepted."
   ]
  },
  {
   "cell_type": "code",
   "execution_count": 79,
   "id": "a27ba0ac-d113-42a2-ad98-8dbf992e5a09",
   "metadata": {},
   "outputs": [
    {
     "name": "stdout",
     "output_type": "stream",
     "text": [
      "ASAD is already user\n",
      "talha username is available\n",
      "Saad is already user\n",
      "tariq username is available\n",
      "Hamza is already user\n"
     ]
    }
   ],
   "source": [
    "usernames = ['asad','fahad','samad','saad','hamza']\n",
    "new_user = ['ASAD','talha','Saad','tariq','Hamza']\n",
    "\n",
    "for i in new_user:\n",
    "    if i.lower() in usernames:\n",
    "        print(f\"{i} is already user\")\n",
    "    elif i.title() in usernames:\n",
    "        print(f\"{i} is already user\")\n",
    "    elif i.upper() in usernames:\n",
    "        print(f\"{i} is already user\")\n",
    "    else:\n",
    "        print(f'{i} username is available') \n",
    "    "
   ]
  },
  {
   "cell_type": "raw",
   "id": "a5287887-4a36-4676-ad3b-004aeaf3d4d3",
   "metadata": {},
   "source": [
    "5-11. Ordinal Numbers: Ordinal numbers indicate their position in a list, such\n",
    "as 1st or 2nd. Most ordinal numbers end in th, except 1, 2, and 3.\n",
    "•\t Store the numbers 1 through 9 in a list.\n",
    "•\t Loop through the list.\n",
    "•\t Use an if-elif-else chain inside the loop to print the proper ordinal ending for each number. Your output should read \"1st 2nd 3rd 4th 5th 6th\n",
    "7th 8th 9th\", and each result should be on a separate line."
   ]
  },
  {
   "cell_type": "code",
   "execution_count": 91,
   "id": "c3e207b9-1e21-44cc-b72b-fa6022b4be83",
   "metadata": {},
   "outputs": [
    {
     "name": "stdout",
     "output_type": "stream",
     "text": [
      "1st\n",
      "2nd\n",
      "3rd\n",
      "4th\n",
      "5th\n",
      "6th\n",
      "7th\n",
      "8th\n",
      "9th\n"
     ]
    }
   ],
   "source": [
    "ordinal_numbers = []\n",
    "\n",
    "for i in range(1,10):\n",
    "    ordinal_numbers.append(i)\n",
    "\n",
    "# print(ordinal_numbers)\n",
    "\n",
    "for i in ordinal_numbers:\n",
    "    if i == 1:\n",
    "        print(f'{i}st')\n",
    "    elif i == 2:\n",
    "        print(f'{i}nd')\n",
    "    elif i == 3:\n",
    "        print(f'{i}rd')\n",
    "    else:\n",
    "        print(f'{i}th')"
   ]
  },
  {
   "cell_type": "raw",
   "id": "dad950e7-0d71-40ec-bfbd-9688b5dd0905",
   "metadata": {},
   "source": [
    "5-13. Your Ideas: At this point, you’re a more capable programmer than you\n",
    "were when you started this book. Now that you have a better sense of how\n",
    "real-world situations are modeled in programs, you might be thinking of some\n",
    "problems you could solve with your own programs. Record any new ideas you\n",
    "have about problems you might want to solve as your programming skills continue to improve. Consider games you might want to write, data sets you might\n",
    "want to explore, and web applications you’d like to create."
   ]
  },
  {
   "cell_type": "code",
   "execution_count": 95,
   "id": "bda9d5a0-16f4-4c00-bab9-4a64b5c2ff15",
   "metadata": {},
   "outputs": [
    {
     "name": "stdout",
     "output_type": "stream",
     "text": [
      "username is correct\n",
      "You can go to dashboard\n"
     ]
    }
   ],
   "source": [
    "username = 'saad'\n",
    "if username == 'saad':\n",
    "    print(\"username is correct\")\n",
    "    password = '123'\n",
    "    if password == '123':\n",
    "        print('You can go to dashboard')\n",
    "    else:\n",
    "        print('You cant go to dashboard because your password is incorrect')   \n",
    "else:\n",
    "    print('username is not correct')"
   ]
  },
  {
   "cell_type": "code",
   "execution_count": 2,
   "id": "7b30605f-fb97-4186-9d61-946754b6df82",
   "metadata": {},
   "outputs": [
    {
     "name": "stdout",
     "output_type": "stream",
     "text": [
      "Original x-position: 0\n",
      "New x-position: 3\n"
     ]
    }
   ],
   "source": [
    "alien_0 = {'x_position': 0, 'y_position': 25, 'speed': 'high'}\n",
    "print(\"Original x-position: \" + str(alien_0['x_position']))\n",
    "# Move the alien to the right.\n",
    "# Determine how far to move the alien based on its current speed.\n",
    "if alien_0['speed'] == 'slow':\n",
    "    x_increment = 1\n",
    "elif alien_0['speed'] == 'medium':\n",
    "    x_increment = 2\n",
    "else:\n",
    " # This must be a fast alien.\n",
    "    x_increment = 3\n",
    "# The new position is the old position plus the increment.\n",
    "alien_0['x_position'] = alien_0['x_position'] + x_increment\n",
    "print(\"New x-position: \" + str(alien_0['x_position']))"
   ]
  },
  {
   "cell_type": "raw",
   "id": "65c60794-a5c8-48e4-b990-fefba24a4066",
   "metadata": {},
   "source": [
    "6-1. Person: Use a dictionary to store information about a person you know.\n",
    "Store their first name, last name, age, and the city in which they live. You\n",
    "should have keys such as first_name, last_name, age, and city. Print each\n",
    "piece of information stored in your dictionary."
   ]
  },
  {
   "cell_type": "code",
   "execution_count": 9,
   "id": "29ae153b-0140-45c7-b1f1-f3203d338f7f",
   "metadata": {},
   "outputs": [
    {
     "name": "stdout",
     "output_type": "stream",
     "text": [
      "Person first name is Muhammad Saad\n",
      "Person last_name is Muhammad Naseem\n",
      "Person age is 25\n",
      "Person first city is Karachi\n"
     ]
    }
   ],
   "source": [
    "person = {'first_name':'Muhammad Saad',\n",
    "          'last_name':'Muhammad Naseem',\n",
    "          'age':25,\n",
    "          'city':'Karachi'}\n",
    "print(f\"Person first name is {person['first_name']}\")\n",
    "print(f\"Person last_name is {person['last_name']}\")\n",
    "print(f\"Person age is {person['age']}\")\n",
    "print(f\"Person first city is {person['city']}\")"
   ]
  },
  {
   "cell_type": "raw",
   "id": "fcc64312-9053-4358-8e47-7a780701af7c",
   "metadata": {},
   "source": [
    "6-2. Favorite Numbers: Use a dictionary to store people’s favorite numbers.\n",
    "Think of five names, and use them as keys in your dictionary. Think of a favorite\n",
    "number for each person, and store each as a value in your dictionary. Print\n",
    "each person’s name and their favorite number. For even more fun, poll a few\n",
    "friends and get some actual data for your program."
   ]
  },
  {
   "cell_type": "code",
   "execution_count": 18,
   "id": "dd822234-c2b8-4152-a0e7-158ead2df234",
   "metadata": {},
   "outputs": [
    {
     "name": "stdout",
     "output_type": "stream",
     "text": [
      "Saad Favorite Number is 7\n",
      "Asad Favorite Number is 6\n",
      "Fahad Favorite Number is 5\n",
      "Samad Favorite Number is 9\n",
      "Hamza Favorite Number is 10\n"
     ]
    }
   ],
   "source": [
    "fav_numbers = {'Saad':7,'Asad':6,'Fahad':5,'Samad':9,'Hamza':10}\n",
    "\n",
    "print(f\"Saad Favorite Number is {fav_numbers['Saad']}\")\n",
    "print(f\"Asad Favorite Number is {fav_numbers['Asad']}\")\n",
    "print(f\"Fahad Favorite Number is {fav_numbers['Fahad']}\")\n",
    "print(f\"Samad Favorite Number is {fav_numbers['Samad']}\")\n",
    "print(f\"Hamza Favorite Number is {fav_numbers['Hamza']}\")"
   ]
  },
  {
   "cell_type": "raw",
   "id": "6a9d71e1-b18a-4802-850e-858366a8eea4",
   "metadata": {},
   "source": [
    "6-3. Glossary: A Python dictionary can be used to model an actual dictionary.\n",
    "However, to avoid confusion, let’s call it a glossary.\n",
    "•\t Think of five programming words you’ve learned about in the previous\n",
    "chapters. Use these words as the keys in your glossary, and store their\n",
    "meanings as values.\n",
    "•\t Print each word and its meaning as neatly formatted output. You might\n",
    "print the word followed by a colon and then its meaning, or print the word\n",
    "on one line and then print its meaning indented on a second line. Use the\n",
    "newline character (\\n) to insert a blank line between each word-meaning\n",
    "pair in your output."
   ]
  },
  {
   "cell_type": "code",
   "execution_count": 2,
   "id": "dfcaa39d-c7df-450b-8193-f18840a0f0db",
   "metadata": {},
   "outputs": [
    {
     "name": "stdout",
     "output_type": "stream",
     "text": [
      "Word Append and its meaing is Insert in the last of array\n",
      "\n",
      "Word pop and its meaing is Delete From the last in the array\n",
      "\n",
      "Word remove and its meaing is it want particular item to remove\n",
      "\n",
      "Word update and its meaing is it want fist where update second what new put\n",
      "\n",
      "Word insert and its meaing is first it want position where new word insert\n",
      "\n"
     ]
    }
   ],
   "source": [
    "glossary = {'Append':'Insert in the last of array',\n",
    "         'pop':'Delete From the last in the array',\n",
    "         'remove':'it want particular item to remove',\n",
    "         'update':'it want fist where update second what new put',\n",
    "         'insert':'first it want position where new word insert',\n",
    "        }\n",
    "print(f\"Word Append and its meaing is {glossary['Append']}\\n\")\n",
    "print(f\"Word pop and its meaing is {glossary['pop']}\\n\")\n",
    "print(f\"Word remove and its meaing is {glossary['remove']}\\n\")\n",
    "print(f\"Word update and its meaing is {glossary['update']}\\n\")\n",
    "print(f\"Word insert and its meaing is {glossary['insert']}\\n\")\n"
   ]
  },
  {
   "cell_type": "raw",
   "id": "5acaa0a4-c190-42eb-9df0-68d2564a137c",
   "metadata": {},
   "source": [
    "6-4. Glossary 2: Now that you know how to loop through a dictionary, clean\n",
    "up the code from Exercise 6-3 (page 102) by replacing your series of print\n",
    "statements with a loop that runs through the dictionary’s keys and values.\n",
    "When you’re sure that your loop works, add five more Python terms to your\n",
    "glossary. When you run your program again, these new words and meanings\n",
    "should automatically be included in the output."
   ]
  },
  {
   "cell_type": "code",
   "execution_count": 10,
   "id": "eef2a6e5-04bb-4fbc-bce0-2a6d91680bca",
   "metadata": {},
   "outputs": [
    {
     "name": "stdout",
     "output_type": "stream",
     "text": [
      "KeyAppend Value: Insert in the last of array\n",
      "\n",
      "Keypop Value: Delete From the last in the array\n",
      "\n",
      "Keyremove Value: it want particular item to remove\n",
      "\n",
      "Keyupdate Value: it want fist where update second what new put\n",
      "\n",
      "Keyinsert Value: first it want position where new word insert\n",
      "\n",
      "-------Added List----------\n",
      "\n",
      "KeyAppend Value: Insert in the last of array\n",
      "\n",
      "Keypop Value: Delete From the last in the array\n",
      "\n",
      "Keyremove Value: it want particular item to remove\n",
      "\n",
      "Keyupdate Value: it want fist where update second what new put\n",
      "\n",
      "Keyinsert Value: first it want position where new word insert\n",
      "\n",
      "Keydictionary Value: A collection of key-value pairs.\n",
      "\n",
      "Keytuple Value: An immutable sequence of Python objects.\n",
      "\n",
      "Keylist comprehension Value: A concise way to create lists in Python.\n",
      "\n",
      "Keylambda function Value: An anonymous function defined with lambda keyword.\n",
      "\n",
      "Keyset Value: An unordered collection of unique elements.\n",
      "\n"
     ]
    }
   ],
   "source": [
    "glossary = {'Append':'Insert in the last of array',\n",
    "         'pop':'Delete From the last in the array',\n",
    "         'remove':'it want particular item to remove',\n",
    "         'update':'it want fist where update second what new put',\n",
    "         'insert':'first it want position where new word insert',\n",
    "        }\n",
    "\n",
    "for key,val in glossary.items():\n",
    "    print(f\"Key{key} Value: {val}\\n\")\n",
    "\n",
    "glossary['dictionary'] = 'A collection of key-value pairs.'\n",
    "glossary['tuple'] = 'An immutable sequence of Python objects.'\n",
    "glossary['list comprehension'] = 'A concise way to create lists in Python.'\n",
    "glossary['lambda function'] = 'An anonymous function defined with lambda keyword.'\n",
    "glossary['set'] = 'An unordered collection of unique elements.'\n",
    "\n",
    "print(\"-------Added List----------\\n\")\n",
    "for key,val in glossary.items():\n",
    "    print(f\"Key{key} Value: {val}\\n\")"
   ]
  },
  {
   "cell_type": "raw",
   "id": "aaf8c714-90df-400a-a0ef-afdf7d8d819a",
   "metadata": {},
   "source": [
    "6-5. Rivers: Make a dictionary containing three major rivers and the country\n",
    "each river runs through. One key-value pair might be 'nile': 'egypt'.\n",
    "•\t Use a loop to print a sentence about each river, such as The Nile runs\n",
    "through Egypt.\n",
    "•\t Use a loop to print the name of each river included in the dictionary.\n",
    "•\t Use a loop to print the name of each country included in the dictionary."
   ]
  },
  {
   "cell_type": "code",
   "execution_count": 14,
   "id": "a9ed346b-adea-4469-aa23-635a1ef89e50",
   "metadata": {},
   "outputs": [
    {
     "name": "stdout",
     "output_type": "stream",
     "text": [
      "The Name of rivers is nile\n",
      "The Name of rivers is Indus\n",
      "The Name of rivers is Ganages\n",
      "-----------\n",
      "The Nmae of country Rivers is egypt\n",
      "The Nmae of country Rivers is Pakistan\n",
      "The Nmae of country Rivers is India\n"
     ]
    }
   ],
   "source": [
    "rivers = {'nile': 'egypt',\n",
    "          'Indus' : 'Pakistan',\n",
    "          'Ganages' : 'India'}\n",
    "\n",
    "for i in rivers.keys():\n",
    "    print(f\"The Name of rivers is {i}\")\n",
    "\n",
    "print(\"-----------\")\n",
    "for i in rivers.values():\n",
    "    print(f\"The Nmae of country Rivers is {i}\")"
   ]
  },
  {
   "cell_type": "raw",
   "id": "af999a7e-c4a5-4878-a3ca-669d5806ec3f",
   "metadata": {},
   "source": [
    "6-6. Polling: Use the code in favorite_languages.py (page 104).\n",
    "•\t Make a list of people who should take the favorite languages poll. Include\n",
    "some names that are already in the dictionary and some that are not.\n",
    "•\t Loop through the list of people who should take the poll. If they have\n",
    "already taken the poll, print a message thanking them for responding.\n",
    "If they have not yet taken the poll, print a message inviting them to take\n",
    "the poll."
   ]
  },
  {
   "cell_type": "code",
   "execution_count": 16,
   "id": "50d33a97-43a1-463b-9685-a29946eb1b32",
   "metadata": {},
   "outputs": [
    {
     "name": "stdout",
     "output_type": "stream",
     "text": [
      "jen already taken poll\n",
      "harray thanks for response\n",
      "sarah already taken poll\n"
     ]
    }
   ],
   "source": [
    "favorite_languages = {\n",
    "'jen': 'python',\n",
    " 'sarah': 'c',\n",
    " 'edward': 'ruby',\n",
    " 'phil': 'python',\n",
    " }\n",
    "\n",
    "poll = ['jen','harray','sarah']\n",
    "\n",
    "for i in poll:\n",
    "    if i in favorite_languages.keys():\n",
    "        print(f'{i} already taken poll')\n",
    "    else:\n",
    "        print(f'{i} thanks for response')"
   ]
  },
  {
   "cell_type": "code",
   "execution_count": 3,
   "id": "6a09e852-d78b-4e5a-8eee-1e56df611477",
   "metadata": {},
   "outputs": [
    {
     "name": "stdout",
     "output_type": "stream",
     "text": [
      "{'color': 'green', 'points': 5}\n",
      "{'color': 'yellow', 'points': 10}\n",
      "{'color': 'red', 'points': 15}\n"
     ]
    }
   ],
   "source": [
    "alien_0 = {'color': 'green', 'points': 5}\n",
    "alien_1 = {'color': 'yellow', 'points': 10}\n",
    "alien_2 = {'color': 'red', 'points': 15}\n",
    "\n",
    "aliens = [alien_0,alien_1,alien_2]\n",
    "\n",
    "for i in aliens:\n",
    "    print(i)"
   ]
  },
  {
   "cell_type": "code",
   "execution_count": 7,
   "id": "5c3b2982-8cc9-4d8e-ab4e-35e371b0e56d",
   "metadata": {},
   "outputs": [
    {
     "name": "stdout",
     "output_type": "stream",
     "text": [
      "{'color': 'green', 'points': 5, 'speed': 'slow'}\n",
      "{'color': 'green', 'points': 5, 'speed': 'slow'}\n",
      "{'color': 'green', 'points': 5, 'speed': 'slow'}\n",
      "{'color': 'green', 'points': 5, 'speed': 'slow'}\n",
      "{'color': 'green', 'points': 5, 'speed': 'slow'}\n",
      "========\n",
      "30\n"
     ]
    }
   ],
   "source": [
    "aliens = []\n",
    "\n",
    "for i in range(30):\n",
    "    new_alien = {'color': 'green', 'points': 5, 'speed': 'slow'}\n",
    "    aliens.append(new_alien)\n",
    "\n",
    "for i in aliens[:5]:\n",
    "    print(i)\n",
    "\n",
    "print(\"========\")\n",
    "\n",
    "print(len(aliens))"
   ]
  },
  {
   "cell_type": "code",
   "execution_count": 1,
   "id": "7ae3c5d9-a152-45a9-8ece-3e0307639b7b",
   "metadata": {},
   "outputs": [
    {
     "name": "stdout",
     "output_type": "stream",
     "text": [
      "{'color': 'yellow', 'points': 10, 'speed': 'high'}\n",
      "{'color': 'yellow', 'points': 10, 'speed': 'high'}\n",
      "{'color': 'yellow', 'points': 10, 'speed': 'high'}\n",
      "{'color': 'green', 'points': 5, 'speed': 'slow'}\n",
      "{'color': 'green', 'points': 5, 'speed': 'slow'}\n",
      "========\n",
      "30\n"
     ]
    }
   ],
   "source": [
    "aliens = []\n",
    "\n",
    "for i in range(30):\n",
    "    new_alien = {'color': 'green', 'points': 5, 'speed': 'slow'}\n",
    "    aliens.append(new_alien)\n",
    "\n",
    "\n",
    "for i in aliens[0:3]:\n",
    "    if i['color'] == 'green':\n",
    "        i['color'] = 'yellow'\n",
    "        i['points']= 10 \n",
    "        i['speed']= 'high'\n",
    "\n",
    "for i in aliens[:5]:\n",
    "    print(i)\n",
    "\n",
    "print(\"========\")\n",
    "\n",
    "print(len(aliens))"
   ]
  },
  {
   "cell_type": "raw",
   "id": "f1387b4a-bf20-48c5-8d86-8b2340643db5",
   "metadata": {},
   "source": [
    "6-7. People: Start with the program you wrote for Exercise 6-1 (page 102).\n",
    "Make two new dictionaries representing different people, and store all three\n",
    "dictionaries in a list called people. Loop through your list of people. As you\n",
    "loop through the list, print everything you know about each person."
   ]
  },
  {
   "cell_type": "code",
   "execution_count": 26,
   "id": "10c18904-5a5a-4189-aa18-7e0c88133ef8",
   "metadata": {},
   "outputs": [
    {
     "name": "stdout",
     "output_type": "stream",
     "text": [
      "Muhammad Saad is first name and last name is Muhammad Naseem and his age is 25 and he is from Karachi\n",
      "Abdul Samad is first name and last name is Muhammad Naseem and his age is 25 and he is from Karachi\n",
      "Muhammad ASAD is first name and last name is Muhammad Naseem and his age is 25 and he is from Karachi\n"
     ]
    }
   ],
   "source": [
    "person1 = {'first_name':'Muhammad Saad',\n",
    "          'last_name':'Muhammad Naseem',\n",
    "          'age':25,\n",
    "          'city':'Karachi'}\n",
    "\n",
    "person2 = {'first_name':'Abdul Samad',\n",
    "          'last_name':'Muhammad Naseem',\n",
    "          'age':25,\n",
    "          'city':'Karachi'}\n",
    "person3 = {'first_name':'Muhammad ASAD',\n",
    "          'last_name':'Muhammad Naseem',\n",
    "          'age':25,\n",
    "          'city':'Karachi'}\n",
    "\n",
    "persons = [person1,person2,person3]\n",
    "\n",
    "for i in persons:\n",
    "    print(f\"{i['first_name']} is first name and last name is {i['last_name']} and his age is {i['age']} and he is from {i['city']}\")"
   ]
  },
  {
   "cell_type": "raw",
   "id": "6aa375d8-f8d6-47e8-8528-5d6d8a3f412b",
   "metadata": {},
   "source": [
    "6-8. Pets: Make several dictionaries, where the name of each dictionary is the\n",
    "name of a pet. In each dictionary, include the kind of animal and the owner’s\n",
    "name. Store these dictionaries in a list called pets. Next, loop through your list\n",
    "and as you do print everything you know about each pet."
   ]
  },
  {
   "cell_type": "code",
   "execution_count": 27,
   "id": "0a61d3de-646e-472c-9e1c-573c0354c118",
   "metadata": {},
   "outputs": [
    {
     "name": "stdout",
     "output_type": "stream",
     "text": [
      "bully is first name and owner_name is harray \n",
      "shepard is first name and owner_name is jacky \n",
      "american is first name and owner_name is mak \n"
     ]
    }
   ],
   "source": [
    "pet1 = {'pet_name' : 'bully','owner_name':'harray'}\n",
    "pet2 = {'pet_name' : 'shepard','owner_name':'jacky'}\n",
    "pet3 = {'pet_name' : 'american','owner_name':'mak'}\n",
    "\n",
    "pets = [pet1,pet2,pet3]\n",
    "\n",
    "for i in pets:\n",
    "    print(f\"{i['pet_name']} is first name and owner_name is {i['owner_name']} \")"
   ]
  },
  {
   "cell_type": "raw",
   "id": "07e6ab82-9dd9-45d8-95ef-ca99f2a6c588",
   "metadata": {},
   "source": [
    "6-9. Favorite Places: Make a dictionary called favorite_places. Think of three\n",
    "names to use as keys in the dictionary, and store one to three favorite places\n",
    "for each person. To make this exercise a bit more interesting, ask some friends\n",
    "to name a few of their favorite places. Loop through the dictionary, and print\n",
    "each person’s name and their favorite places."
   ]
  },
  {
   "cell_type": "code",
   "execution_count": 8,
   "id": "a25a0fd0-723c-4d93-9948-b75cf3a1e999",
   "metadata": {},
   "outputs": [
    {
     "name": "stdout",
     "output_type": "stream",
     "text": [
      "{'samad': ['italy', 'us', 'france'], 'asad': ['rusia', 'latvia', 'romania'], 'fahad': ['australia', 'austria', 'japan']}\n",
      "samad favorite palces is italy\n",
      "samad favorite palces is us\n",
      "samad favorite palces is france\n",
      "asad favorite palces is rusia\n",
      "asad favorite palces is latvia\n",
      "asad favorite palces is romania\n",
      "fahad favorite palces is australia\n",
      "fahad favorite palces is austria\n",
      "fahad favorite palces is japan\n"
     ]
    }
   ],
   "source": [
    "favrite_palces = {'samad':['italy','us','france'],\n",
    "                 'asad':['rusia','latvia','romania'],\n",
    "                 'fahad':['australia','austria','japan']\n",
    "                 }\n",
    "print(favrite_palces)\n",
    "\n",
    "for key,val in favrite_palces.items():\n",
    "    for i in val:\n",
    "        print(f\"{key} favorite palces is {i}\")"
   ]
  },
  {
   "cell_type": "raw",
   "id": "764ca2a8-f227-475d-b01f-a07a37298f18",
   "metadata": {},
   "source": [
    "6-10. Favorite Numbers: Modify your program from Exercise 6-2 (page 102) so\n",
    "each person can have more than one favorite number. Then print each person’s\n",
    "name along with their favorite numbers."
   ]
  },
  {
   "cell_type": "code",
   "execution_count": 12,
   "id": "4c8636d0-4de8-4e8b-a088-2611f31831c3",
   "metadata": {},
   "outputs": [
    {
     "name": "stdout",
     "output_type": "stream",
     "text": [
      "Saad favorite number is 7\n",
      "Saad favorite number is 8\n",
      "\n",
      "Asad favorite number is 6\n",
      "Asad favorite number is 5\n",
      "\n",
      "Fahad favorite number is 8\n",
      "Fahad favorite number is 9\n",
      "\n",
      "Samad favorite number is 10\n",
      "Samad favorite number is 11\n",
      "\n",
      "Hamza favorite number is 13\n",
      "Hamza favorite number is 14\n",
      "\n"
     ]
    }
   ],
   "source": [
    "fav_numbers = {'Saad':[7,8],'Asad':[6,5],'Fahad':[8,9],'Samad':[10,11],'Hamza':[13,14]}\n",
    "\n",
    "for key,val in fav_numbers.items():\n",
    "    for v in val:\n",
    "        print(f\"{key} favorite number is {v}\")\n",
    "    print()"
   ]
  },
  {
   "cell_type": "raw",
   "id": "e1b2cecb-5e7a-4cc6-aeb3-8f997b46809f",
   "metadata": {},
   "source": [
    "6-11. Cities: Make a dictionary called cities. Use the names of three cities as\n",
    "keys in your dictionary. Create a dictionary of information about each city and\n",
    "include the country that the city is in, its approximate population, and one fact\n",
    "about that city. The keys for each city’s dictionary should be something like\n",
    "country, population, and fact. Print the name of each city and all of the information you have stored about it"
   ]
  },
  {
   "cell_type": "raw",
   "id": "2641e7b0-c794-4f8d-b198-ae4fbbccfcc1",
   "metadata": {},
   "source": [
    "cities = {\n",
    " 'Karachi': {\n",
    " 'country': 'Pakistan',\n",
    " 'population': '14.91m',\n",
    " 'fact': 'city of thives',\n",
    " },\n",
    "    'Lahore': {\n",
    " 'country': 'Pakistan',\n",
    " 'population': '11.13m',\n",
    " 'fact': 'city of flowers',\n",
    " },\n",
    "    'islamabad': {\n",
    " 'country': 'Pakistan',\n",
    " 'population': '1.015m',\n",
    " 'fact': 'city of joy',\n",
    " }\n",
    "}\n",
    "# print(cities)\n",
    "\n",
    "for city, info in cities.items():\n",
    "    print(f\"City: {city}\")\n",
    "    print(f\"  Country: {info['country']}\")\n",
    "    print(f\"  Population: {info['population']}\")\n",
    "    print(f\"  Fact: {info['fact']}\")\n",
    "print()"
   ]
  },
  {
   "cell_type": "raw",
   "id": "c55e2989-dd5d-4b92-92cd-bd51490efdfa",
   "metadata": {},
   "source": [
    "6-12. Extensions: We’re now working with examples that are complex enough\n",
    "that they can be extended in any number of ways. Use one of the example programs from this chapter, and\n",
    "extend it by adding new keys and values, changing the context of the program or improving the formatting of the output."
   ]
  },
  {
   "cell_type": "code",
   "execution_count": 47,
   "id": "39afc893-0890-4735-a1af-5a23b10fc5d1",
   "metadata": {},
   "outputs": [
    {
     "name": "stdout",
     "output_type": "stream",
     "text": [
      "City: Paris\n",
      "  Country: France\n",
      "  Population: 2148000\n",
      "  Area: 105.4 sq km\n",
      "  Famous Landmark: Eiffel Tower\n",
      "  Year Founded: 3\n",
      "  Fact: Paris is known as the \"City of Light\".\n",
      "\n",
      "City: Tokyo\n",
      "  Country: Japan\n",
      "  Population: 13929000\n",
      "  Area: 2191 sq km\n",
      "  Famous Landmark: Tokyo Tower\n",
      "  Year Founded: 1590\n",
      "  Fact: Tokyo is the most populous city in the world.\n",
      "\n",
      "City: New York\n",
      "  Country: USA\n",
      "  Population: 8419000\n",
      "  Area: 789 sq km\n",
      "  Famous Landmark: Statue of Liberty\n",
      "  Year Founded: 1624\n",
      "  Fact: New York City is known as \"The Big Apple\".\n",
      "\n"
     ]
    }
   ],
   "source": [
    "# Define the extended dictionary with city information\n",
    "cities = {\n",
    "    'Paris': {\n",
    "        'country': 'France',\n",
    "        'population': 2148000,\n",
    "        'area': 105.4,  # in square kilometers\n",
    "        'famous_landmark': 'Eiffel Tower',\n",
    "        'year_founded': 3,  # BC\n",
    "        'fact': 'Paris is known as the \"City of Light\".'\n",
    "    },\n",
    "    'Tokyo': {\n",
    "        'country': 'Japan',\n",
    "        'population': 13929000,\n",
    "        'area': 2191,  # in square kilometers\n",
    "        'famous_landmark': 'Tokyo Tower',\n",
    "        'year_founded': 1590,  # year it was established\n",
    "        'fact': 'Tokyo is the most populous city in the world.'\n",
    "    },\n",
    "    'New York': {\n",
    "        'country': 'USA',\n",
    "        'population': 8419000,\n",
    "        'area': 789,  # in square kilometers\n",
    "        'famous_landmark': 'Statue of Liberty',\n",
    "        'year_founded': 1624,  # year it was founded\n",
    "        'fact': 'New York City is known as \"The Big Apple\".'\n",
    "    }\n",
    "}\n",
    "\n",
    "# Loop through the dictionary and print detailed information about each city\n",
    "for city, info in cities.items():\n",
    "    print(f\"City: {city}\")\n",
    "    print(f\"  Country: {info['country']}\")\n",
    "    print(f\"  Population: {info['population']}\")\n",
    "    print(f\"  Area: {info['area']} sq km\")\n",
    "    print(f\"  Famous Landmark: {info['famous_landmark']}\")\n",
    "    print(f\"  Year Founded: {info['year_founded']}\")\n",
    "    print(f\"  Fact: {info['fact']}\")\n",
    "    print()  # Add a blank line for better readability\n"
   ]
  },
  {
   "cell_type": "raw",
   "id": "f20d5ef9-19f6-40ed-bfed-0d3d05799a74",
   "metadata": {},
   "source": [
    "7-1. Rental Car: Write a program that asks the user what kind of rental car they\n",
    "would like. Print a message about that car, such as “Let me see if I can find you\n",
    "a Subaru.”\n"
   ]
  },
  {
   "cell_type": "code",
   "execution_count": 1,
   "id": "69c0aa2f-912f-4f67-a243-fd391e058a89",
   "metadata": {},
   "outputs": [
    {
     "name": "stdin",
     "output_type": "stream",
     "text": [
      "what kind of rental car they would like Kia\n"
     ]
    },
    {
     "name": "stdout",
     "output_type": "stream",
     "text": [
      "Let me see if I can find you a Kia.\n"
     ]
    }
   ],
   "source": [
    "Rental_car = input(\"what kind of rental car they would like\")\n",
    "print(f\"Let me see if I can find you a {Rental_car}.\")"
   ]
  },
  {
   "cell_type": "raw",
   "id": "310c5765-4acb-4859-888d-5650071be377",
   "metadata": {},
   "source": [
    "7-2. Restaurant Seating: Write a program that asks the user how many people\n",
    "are in their dinner group. If the answer is more than eight, print a message saying \n",
    "they’ll have to wait for a table. Otherwise, report that their table is ready."
   ]
  },
  {
   "cell_type": "code",
   "execution_count": 3,
   "id": "178a3700-ad9d-483b-96d6-692ca0301d7a",
   "metadata": {},
   "outputs": [
    {
     "name": "stdin",
     "output_type": "stream",
     "text": [
      " how many people are in their dinner group 7\n"
     ]
    },
    {
     "name": "stdout",
     "output_type": "stream",
     "text": [
      "\n",
      "report that their table is ready.\n"
     ]
    }
   ],
   "source": [
    "Restaurant_seating = int(input(\" how many people are in their dinner group\"))\n",
    "\n",
    "if Restaurant_seating > 8:\n",
    "    print(\"they’ll have to wait for a table\")\n",
    "else:\n",
    "    print(\"\\nreport that their table is ready.\")"
   ]
  },
  {
   "cell_type": "raw",
   "id": "35fd2a46-d7ee-4164-8b87-02ab9f464251",
   "metadata": {},
   "source": [
    "7-3. Multiples of Ten: Ask the user for a number, and then report whether the\n",
    "number is a multiple of 10 or not."
   ]
  },
  {
   "cell_type": "code",
   "execution_count": 7,
   "id": "8192ce57-b334-4860-83a9-0ba946f3e550",
   "metadata": {},
   "outputs": [
    {
     "name": "stdin",
     "output_type": "stream",
     "text": [
      "Enter a number 40\n"
     ]
    },
    {
     "name": "stdout",
     "output_type": "stream",
     "text": [
      "Multiple of 10\n"
     ]
    }
   ],
   "source": [
    "num = int(input(\"Enter a number\"))\n",
    "\n",
    "if num % 10 == 0:\n",
    "    print('Multiple of 10')\n",
    "else:\n",
    "    print('Not a multiple')"
   ]
  },
  {
   "cell_type": "raw",
   "id": "1908485e-7118-46a9-9677-a69246e0f523",
   "metadata": {},
   "source": [
    "7-4. Pizza Toppings: Write a loop that prompts the user to enter a series of\n",
    "pizza toppings until they enter a 'quit' value. As they enter each topping,\n",
    "print a message saying you’ll add that topping to their pizza."
   ]
  },
  {
   "cell_type": "code",
   "execution_count": 2,
   "id": "e204bbf0-9c11-4603-8598-ccfecb245339",
   "metadata": {},
   "outputs": [
    {
     "name": "stdin",
     "output_type": "stream",
     "text": [
      "Enter Your Topping and type quit for exit peproni\n"
     ]
    },
    {
     "name": "stdout",
     "output_type": "stream",
     "text": [
      "you’ll add that peproni to their pizza\n",
      "\n"
     ]
    },
    {
     "name": "stdin",
     "output_type": "stream",
     "text": [
      "Enter Your Topping and type quit for exit cheese\n"
     ]
    },
    {
     "name": "stdout",
     "output_type": "stream",
     "text": [
      "you’ll add that cheese to their pizza\n",
      "\n"
     ]
    },
    {
     "name": "stdin",
     "output_type": "stream",
     "text": [
      "Enter Your Topping and type quit for exit quit\n"
     ]
    },
    {
     "name": "stdout",
     "output_type": "stream",
     "text": [
      "you’ll add that quit to their pizza\n",
      "\n"
     ]
    }
   ],
   "source": [
    "msg = \"\"\n",
    "while msg != 'quit':\n",
    "    msg = input(\"Enter Your Topping and type quit for exit\")\n",
    "    print(f\"you’ll add that {msg} to their pizza\\n\")\n"
   ]
  },
  {
   "cell_type": "raw",
   "id": "b282ff64-7101-4794-84ee-5c9f4a0b5cf3",
   "metadata": {},
   "source": [
    "7-5. Movie Tickets: A movie theater charges different ticket prices depending on\n",
    "a person’s age. If a person is under the age of 3, the ticket is free; if they are\n",
    "between 3 and 12, the ticket is $10; and if they are over age 12, the ticket is\n",
    "$15. Write a loop in which you ask users their age, and then tell them the cost\n",
    "of their movie ticket."
   ]
  },
  {
   "cell_type": "code",
   "execution_count": 7,
   "id": "13070ffc-ea6e-4d07-a5b5-a25ae07bf57f",
   "metadata": {},
   "outputs": [
    {
     "name": "stdin",
     "output_type": "stream",
     "text": [
      "What's Your tell me for ticket and type quit for exit 10\n"
     ]
    },
    {
     "name": "stdout",
     "output_type": "stream",
     "text": [
      "Your ticket is 10$\n"
     ]
    },
    {
     "name": "stdin",
     "output_type": "stream",
     "text": [
      "What's Your tell me for ticket and type quit for exit 2\n"
     ]
    },
    {
     "name": "stdout",
     "output_type": "stream",
     "text": [
      "Your tickect is free\n"
     ]
    },
    {
     "name": "stdin",
     "output_type": "stream",
     "text": [
      "What's Your tell me for ticket and type quit for exit 55\n"
     ]
    },
    {
     "name": "stdout",
     "output_type": "stream",
     "text": [
      "your ticket is 15$\n"
     ]
    },
    {
     "name": "stdin",
     "output_type": "stream",
     "text": [
      "What's Your tell me for ticket and type quit for exit quit\n"
     ]
    }
   ],
   "source": [
    "active = True\n",
    "\n",
    "while active:\n",
    "    inp = input(\"What's Your tell me for ticket and type quit for exit\")\n",
    "    if inp == 'quit':\n",
    "        active = False\n",
    "    elif int(inp) < 3:\n",
    "        print('Your tickect is free')\n",
    "    elif int(inp) >= 3 and int(inp) < 12:\n",
    "        print(\"Your ticket is 10$\")\n",
    "    else:\n",
    "        print(\"your ticket is 15$\")"
   ]
  },
  {
   "cell_type": "raw",
   "id": "feabb42e-adca-4a11-ae65-8958ca428093",
   "metadata": {},
   "source": [
    "7-6. Three Exits: Write different versions of either Exercise 7-4 or Exercise 7-5\n",
    "that do each of the following at least once:\n",
    "•\t Use a conditional test in the while statement to stop the loop.\n",
    "•\t Use an active variable to control how long the loop runs.\n",
    "•\t Use a break statement to exit the loop when the user enters a 'quit' value."
   ]
  },
  {
   "cell_type": "code",
   "execution_count": null,
   "id": "c61a32d3-1cd5-4603-9dab-68d19c37af2f",
   "metadata": {},
   "outputs": [],
   "source": [
    "msg = \"\"\n",
    "while msg != 'quit':\n",
    "    msg = input(\"Enter Your Topping and type quit for exit\")\n",
    "    print(f\"you’ll add that {msg} to their pizza\\n\")"
   ]
  },
  {
   "cell_type": "code",
   "execution_count": null,
   "id": "e8847f34-530c-410e-a81f-bf3120329a7c",
   "metadata": {},
   "outputs": [],
   "source": [
    "active = True\n",
    "\n",
    "while active:\n",
    "    inp = input(\"What's Your tell me for ticket and type quit for exit\")\n",
    "    if inp == 'quit':\n",
    "        active = False\n",
    "    elif int(inp) < 3:\n",
    "        print('Your tickect is free')\n",
    "    elif int(inp) >= 3 and int(inp) < 12:\n",
    "        print(\"Your ticket is 10$\")\n",
    "    else:\n",
    "        print(\"your ticket is 15$\")"
   ]
  },
  {
   "cell_type": "code",
   "execution_count": 2,
   "id": "ca1a959e-ba6e-489d-8d9f-d75970332321",
   "metadata": {},
   "outputs": [
    {
     "name": "stdin",
     "output_type": "stream",
     "text": [
      "countries and type quit for exit pak\n"
     ]
    },
    {
     "name": "stdout",
     "output_type": "stream",
     "text": [
      "pak\n"
     ]
    },
    {
     "name": "stdin",
     "output_type": "stream",
     "text": [
      "countries and type quit for exit ind\n"
     ]
    },
    {
     "name": "stdout",
     "output_type": "stream",
     "text": [
      "ind\n"
     ]
    },
    {
     "name": "stdin",
     "output_type": "stream",
     "text": [
      "countries and type quit for exit tur\n"
     ]
    },
    {
     "name": "stdout",
     "output_type": "stream",
     "text": [
      "tur\n"
     ]
    },
    {
     "name": "stdin",
     "output_type": "stream",
     "text": [
      "countries and type quit for exit quit\n"
     ]
    }
   ],
   "source": [
    "\n",
    "while True:\n",
    "    inp = input(\"countries and type quit for exit\")\n",
    "    if inp == 'quit':\n",
    "        break\n",
    "    else:\n",
    "        print(f\"{inp}\")"
   ]
  },
  {
   "cell_type": "raw",
   "id": "982fb248-2fda-4deb-b846-a607994ad37d",
   "metadata": {},
   "source": [
    "7-7. Infinity: Write a loop that never ends, and run it. (To end the loop, press\n",
    "ctrl-C or close the window displaying the output.)"
   ]
  },
  {
   "cell_type": "code",
   "execution_count": null,
   "id": "a82aafb7-77de-4579-9726-acd0be150d44",
   "metadata": {},
   "outputs": [],
   "source": [
    "a = 1\n",
    "while a < 4:\n",
    "    print(a)"
   ]
  },
  {
   "cell_type": "raw",
   "id": "a424d036-a4cb-4f2c-ab4f-e2e53a59375b",
   "metadata": {},
   "source": [
    "7-8. Deli: Make a list called sandwich_orders and fill it with the names of various sandwiches. Then make an empty list called finished_sandwiches. Loop\n",
    "through the list of sandwich orders and print a message for each order, such\n",
    "as I made your tuna sandwich. As each sandwich is made, move it to the list\n",
    "of finished sandwiches. After all the sandwiches have been made, print a\n",
    "message listing each sandwich that was made."
   ]
  },
  {
   "cell_type": "code",
   "execution_count": 9,
   "id": "25d5be7a-5f16-4961-b4b2-1ca78e1065b7",
   "metadata": {},
   "outputs": [
    {
     "name": "stdout",
     "output_type": "stream",
     "text": [
      "I made your cucumnber sandwich\n",
      "I made your loaf sandwich\n",
      "I made your egg sandwich\n",
      "==========\n",
      "cucumnber sandwich that was made.\n",
      "loaf sandwich that was made.\n",
      "egg sandwich that was made.\n"
     ]
    }
   ],
   "source": [
    "sandwich_orders = [\"egg sandwich\",\"loaf sandwich\",\"cucumnber sandwich\"]\n",
    "finished_sandwiches= []\n",
    "\n",
    "while sandwich_orders:\n",
    "    finished_sandwiche = sandwich_orders.pop()\n",
    "    print(f\"I made your {finished_sandwiche}\")\n",
    "    finished_sandwiches.append(finished_sandwiche)\n",
    "print('==========')\n",
    "\n",
    "for i in finished_sandwiches:\n",
    "    print(f'{i} that was made.')"
   ]
  },
  {
   "cell_type": "raw",
   "id": "f00244f0-86d2-4c74-9d5a-a5e348a0f8e1",
   "metadata": {},
   "source": [
    "7-9. No Pastrami: Using the list sandwich_orders from Exercise 7-8, make sure\n",
    "the sandwich 'pastrami' appears in the list at least three times. Add code\n",
    "near the beginning of your program to print a message saying the deli has\n",
    "run out of pastrami, and then use a while loop to remove all occurrences of\n",
    "'pastrami' from sandwich_orders. Make sure no pastrami sandwiches end up\n",
    "in finished_sandwiches."
   ]
  },
  {
   "cell_type": "code",
   "execution_count": 10,
   "id": "5715c99e-1807-4216-8ffc-5b62ccbd4cf6",
   "metadata": {},
   "outputs": [
    {
     "name": "stdout",
     "output_type": "stream",
     "text": [
      "deli has run out of pastrami\n",
      "['egg sandwich', 'loaf sandwich', 'cucumnber sandwich']\n"
     ]
    }
   ],
   "source": [
    "sandwich_orders = [\"egg sandwich\",\"pastrami sandwich\",\"loaf sandwich\",\"pastrami sandwich\",\"cucumnber sandwich\",\"pastrami sandwich\"]\n",
    "\n",
    "print(\"deli has run out of pastrami\")\n",
    "\n",
    "while \"pastrami sandwich\" in sandwich_orders:\n",
    "    sandwich_orders.remove(\"pastrami sandwich\")\n",
    "\n",
    "print(sandwich_orders)"
   ]
  },
  {
   "cell_type": "raw",
   "id": "3ce31048-9e64-46cf-a3ca-8e1defecd03f",
   "metadata": {},
   "source": [
    "7-10. Dream Vacation: Write a program that polls users about their dream\n",
    "vacation. Write a prompt similar to If you could visit one place in the world,\n",
    "where would you go? Include a block of code that prints the results of the poll."
   ]
  },
  {
   "cell_type": "code",
   "execution_count": 12,
   "id": "a2c72881-c0de-4544-8082-a12f53faec84",
   "metadata": {},
   "outputs": [
    {
     "name": "stdin",
     "output_type": "stream",
     "text": [
      "Enter Your name saad\n",
      "Enter Your place where You go for vocations uae\n",
      "Enter yes for continue and no for exit no\n"
     ]
    },
    {
     "name": "stdout",
     "output_type": "stream",
     "text": [
      "saad want to visit uae\n"
     ]
    }
   ],
   "source": [
    "dream_vacation = {}\n",
    "flag = True\n",
    "while flag:\n",
    "    name = input(\"Enter Your name\")\n",
    "    place = input(\"Enter Your place where You go for vocations\")\n",
    "\n",
    "    dream_vacation[name] = place\n",
    "\n",
    "    exit = input(\"Enter yes for continue and no for exit\")\n",
    "\n",
    "    if exit == 'no':\n",
    "        flag = False\n",
    "\n",
    "for k,v in dream_vacation.items():\n",
    "    print(f\"{k} want to visit {v}\")"
   ]
  },
  {
   "cell_type": "raw",
   "id": "cb3b3861-68a1-44bd-8e55-093791045a44",
   "metadata": {},
   "source": [
    "8-1. Message: Write a function called display_message() that prints one sentence telling everyone what you are learning about in this chapter. Call the\n",
    "function, and make sure the message displays correctly"
   ]
  },
  {
   "cell_type": "code",
   "execution_count": 1,
   "id": "c9eda916-a85c-46d4-98bb-9a38f8555ff1",
   "metadata": {},
   "outputs": [],
   "source": [
    "def display_message():\n",
    "    print(\"You are learing python function\")"
   ]
  },
  {
   "cell_type": "code",
   "execution_count": 2,
   "id": "c2e7dc8f-337e-4e0a-a9ac-b78b0c2a45bc",
   "metadata": {},
   "outputs": [
    {
     "name": "stdout",
     "output_type": "stream",
     "text": [
      "You are learing python function\n"
     ]
    }
   ],
   "source": [
    "display_message()"
   ]
  },
  {
   "cell_type": "raw",
   "id": "ecc6b726-27b1-49f7-9562-a6ce0b230f35",
   "metadata": {},
   "source": [
    "8-2. Favorite Book: Write a function called favorite_book() that accepts one\n",
    "parameter, title. The function should print a message, such as One of my\n",
    "favorite books is Alice in Wonderland. Call the function, making sure to\n",
    "include a book title as an argument in the function call."
   ]
  },
  {
   "cell_type": "code",
   "execution_count": 3,
   "id": "7ac57068-52bd-49bb-8ef8-1852573ebc80",
   "metadata": {},
   "outputs": [],
   "source": [
    "def favorite_book(title):\n",
    "    print(f\"One of my favorite books is {title}\")"
   ]
  },
  {
   "cell_type": "code",
   "execution_count": 4,
   "id": "3c900e61-1c0c-4aee-a063-1c7b318ad46b",
   "metadata": {},
   "outputs": [
    {
     "name": "stdout",
     "output_type": "stream",
     "text": [
      "One of my favorite books is Rich Dad Poor Dad\n"
     ]
    }
   ],
   "source": [
    "favorite_book(\"Rich Dad Poor Dad\")"
   ]
  },
  {
   "cell_type": "raw",
   "id": "18d6a946-5bb5-4985-bcd0-b23759a29ac0",
   "metadata": {},
   "source": [
    "8-3. T-Shirt: Write a function called make_shirt() that accepts a size and the\n",
    "text of a message that should be printed on the shirt. The function should print\n",
    "a sentence summarizing the size of the shirt and the message printed on it.\n",
    "Call the function once using positional arguments to make a shirt. Call the\n",
    "function a second time using keyword arguments"
   ]
  },
  {
   "cell_type": "code",
   "execution_count": 5,
   "id": "81311f8e-09a2-447d-9ef5-d342a7f8c8f8",
   "metadata": {},
   "outputs": [],
   "source": [
    "def make_shirt(size,text):\n",
    "    print(f\"The size of shirt is {size} and it's {text}\")"
   ]
  },
  {
   "cell_type": "code",
   "execution_count": 6,
   "id": "05936047-9db7-4448-991f-c8cc828b418d",
   "metadata": {},
   "outputs": [
    {
     "name": "stdout",
     "output_type": "stream",
     "text": [
      "The size of shirt is 36 and it's awsome\n"
     ]
    }
   ],
   "source": [
    "make_shirt(36,\"awsome\")"
   ]
  },
  {
   "cell_type": "code",
   "execution_count": 7,
   "id": "a70ada1c-46aa-40f8-bcfb-d5cb5bb927da",
   "metadata": {},
   "outputs": [
    {
     "name": "stdout",
     "output_type": "stream",
     "text": [
      "The size of shirt is 32 and it's Good\n"
     ]
    }
   ],
   "source": [
    "make_shirt(text=\"Good\",size=32)"
   ]
  },
  {
   "cell_type": "raw",
   "id": "b07dbf1b-4ceb-4e79-ba6b-e0a9a2a484b4",
   "metadata": {},
   "source": [
    "8-4. Large Shirts: Modify the make_shirt() function so that shirts are large\n",
    "by default with a message that reads I love Python. Make a large shirt and a\n",
    "medium shirt with the default message, and a shirt of any size with a different\n",
    "message."
   ]
  },
  {
   "cell_type": "code",
   "execution_count": 10,
   "id": "4b136f58-26ac-4c42-bbca-1ae3d29535c5",
   "metadata": {},
   "outputs": [],
   "source": [
    "def make_shirt(size=\"large\",text=\"i love python\"):\n",
    "    print(f\"The size of shirt is {size} and it's {text}\")"
   ]
  },
  {
   "cell_type": "code",
   "execution_count": 11,
   "id": "6c7c8594-fa0f-4b63-b29b-05939d3dba5d",
   "metadata": {},
   "outputs": [
    {
     "name": "stdout",
     "output_type": "stream",
     "text": [
      "The size of shirt is large and it's i love python\n"
     ]
    }
   ],
   "source": [
    "make_shirt()"
   ]
  },
  {
   "cell_type": "code",
   "execution_count": 12,
   "id": "1b432777-86e3-4d52-a925-0ba6f2486344",
   "metadata": {},
   "outputs": [
    {
     "name": "stdout",
     "output_type": "stream",
     "text": [
      "The size of shirt is medium and it's Good\n"
     ]
    }
   ],
   "source": [
    "make_shirt(\"medium\",\"Good\")"
   ]
  },
  {
   "cell_type": "raw",
   "id": "42ac3145-0255-48d6-89ad-71a1c4158c9d",
   "metadata": {},
   "source": [
    "8-5. Cities: Write a function called describe_city() that accepts the name of\n",
    "a city and its country. The function should print a simple sentence, such as\n",
    "Reykjavik is in Iceland. Give the parameter for the country a default value.\n",
    "Call your function for three different cities, at least one of which is not in the\n",
    "default country"
   ]
  },
  {
   "cell_type": "code",
   "execution_count": 13,
   "id": "6b9ede19-e05f-46ec-b56d-846c97609d1e",
   "metadata": {},
   "outputs": [],
   "source": [
    "def describe_city(city,country=\"pakitsan\"):\n",
    "    print(f\"{city} is in {country}\")"
   ]
  },
  {
   "cell_type": "code",
   "execution_count": 14,
   "id": "5e8bd3ae-96e2-492f-acb1-14da1b0fa4d5",
   "metadata": {},
   "outputs": [
    {
     "name": "stdout",
     "output_type": "stream",
     "text": [
      "karachi is in pakitsan\n",
      "lahore is in pakitsan\n",
      "delhi is in india\n"
     ]
    }
   ],
   "source": [
    "describe_city('karachi')\n",
    "describe_city('lahore')\n",
    "describe_city('delhi','india')"
   ]
  },
  {
   "cell_type": "code",
   "execution_count": 23,
   "id": "b845c7f7-c868-42a6-8e38-03cd8669416a",
   "metadata": {},
   "outputs": [],
   "source": [
    "def build_person(first_name, last_name, age):\n",
    "    \"\"\"Return a dictionary of information about a person.\"\"\"\n",
    "    person = {'first': first_name, 'last': last_name}\n",
    "    if age:\n",
    "        person['age'] = age\n",
    "    return person\n"
   ]
  },
  {
   "cell_type": "code",
   "execution_count": 25,
   "id": "9a631dec-02fa-4ca2-967f-c67110c71a98",
   "metadata": {},
   "outputs": [
    {
     "name": "stdout",
     "output_type": "stream",
     "text": [
      "{'first': 'jimi', 'last': 'hendrix', 'age': 25}\n"
     ]
    }
   ],
   "source": [
    "musician = build_person('jimi', 'hendrix',age=25)\n",
    "print(musician)"
   ]
  },
  {
   "cell_type": "raw",
   "id": "1ec5917a-126c-460c-a2b1-c7364697e0e9",
   "metadata": {},
   "source": [
    "8-6. City Names: Write a function called city_country() that takes in the name\n",
    "of a city and its country. The function should return a string formatted like this:\n",
    "\"Santiago, Chile\"\n",
    "Call your function with at least three city-country pairs, and print the value\n",
    "that’s returned."
   ]
  },
  {
   "cell_type": "code",
   "execution_count": 26,
   "id": "fe6a3b67-6d50-4875-80c7-d5276a1a004a",
   "metadata": {},
   "outputs": [],
   "source": [
    "def city_country(city,country):\n",
    "    formated = (f\"{city}, {country}\")\n",
    "    return formated"
   ]
  },
  {
   "cell_type": "code",
   "execution_count": 28,
   "id": "1d27cee4-ebea-4488-9999-d3f5cedbe3f2",
   "metadata": {},
   "outputs": [
    {
     "name": "stdout",
     "output_type": "stream",
     "text": [
      "karachi, pakistan\n",
      "lahore, pakistan\n",
      "islamabad, pakistan\n"
     ]
    }
   ],
   "source": [
    "\n",
    "a = city_country('karachi','pakistan')\n",
    "b = city_country('lahore','pakistan')\n",
    "c = city_country('islamabad','pakistan')\n",
    "print(a)\n",
    "print(b)\n",
    "print(c)"
   ]
  },
  {
   "cell_type": "raw",
   "id": "5760e07b-406d-4b3c-917e-f6f253ad90a2",
   "metadata": {},
   "source": [
    "8-7. Album: Write a function called make_album() that builds a dictionary\n",
    "describing a music album. The function should take in an artist name and an\n",
    "album title, and it should return a dictionary containing these two pieces of\n",
    "information. Use the function to make three dictionaries representing different\n",
    "albums. Print each return value to show that the dictionaries are storing the\n",
    "album information correctly.\n",
    "Add an optional parameter to make_album() that allows you to store the\n",
    "number of tracks on an album. If the calling line includes a value for the number of tracks, add that value to the album’s dictionary.\n",
    "Make at least one new\n",
    "function call that includes the number of tracks on an album."
   ]
  },
  {
   "cell_type": "code",
   "execution_count": 29,
   "id": "2db5399a-32fe-48c9-861f-b8d79fa542d1",
   "metadata": {},
   "outputs": [],
   "source": [
    "def make_album(artist_name,album_title):\n",
    "    music_album = {'name':artist_name,'album':album_title}\n",
    "    return music_album"
   ]
  },
  {
   "cell_type": "code",
   "execution_count": 34,
   "id": "c3b59aa5-9285-4cea-ad8b-a2842d0deda7",
   "metadata": {},
   "outputs": [
    {
     "name": "stdout",
     "output_type": "stream",
     "text": [
      "{'name': 'atif aslam', 'album': 'jal pari'}\n",
      "{'name': 'atif aslam', 'album': 'tere bin'}\n",
      "{'name': 'atif aslam', 'album': 'rafta rafta'}\n"
     ]
    }
   ],
   "source": [
    "print(make_album('atif aslam','jal pari'))\n",
    "print(make_album('atif aslam','tere bin'))\n",
    "print(make_album('atif aslam','rafta rafta'))"
   ]
  },
  {
   "cell_type": "code",
   "execution_count": 38,
   "id": "28a8bf75-6ffb-4b91-963b-6735d98da45f",
   "metadata": {},
   "outputs": [],
   "source": [
    "def make_album(artist_name,album_title,no_of_track=''):\n",
    "    music_album = {'name':artist_name,'album':album_title}\n",
    "    if no_of_track:\n",
    "        music_album['no_of_track'] = no_of_track\n",
    "    return music_album"
   ]
  },
  {
   "cell_type": "code",
   "execution_count": 40,
   "id": "547d0ac2-cd6f-4897-b1d9-473bd5425dd8",
   "metadata": {},
   "outputs": [
    {
     "name": "stdout",
     "output_type": "stream",
     "text": [
      "{'name': 'atif aslam', 'album': 'jal pari'}\n",
      "{'name': 'atif aslam', 'album': 'jal pari', 'no_of_track': 32}\n"
     ]
    }
   ],
   "source": [
    "print(make_album('atif aslam','jal pari'))\n",
    "print(make_album('atif aslam','jal pari',32))"
   ]
  },
  {
   "cell_type": "raw",
   "id": "dbff7d9d-0285-48a9-b9d4-ad9142f7a797",
   "metadata": {},
   "source": [
    "8-8. User Albums: Start with your program from Exercise 8-7. Write a while\n",
    "loop that allows users to enter an album’s artist and title. Once you have that\n",
    "information, call make_album() with the user’s input and print the dictionary\n",
    "that’s created. Be sure to include a quit value in the while loop."
   ]
  },
  {
   "cell_type": "code",
   "execution_count": 43,
   "id": "0a39cbf9-1f4f-43c1-b68e-2d32ced4b76c",
   "metadata": {},
   "outputs": [
    {
     "name": "stdout",
     "output_type": "stream",
     "text": [
      "\n",
      "Please tell me your artist_name:\n",
      "(enter 'q' at any time to quit)\n"
     ]
    },
    {
     "name": "stdin",
     "output_type": "stream",
     "text": [
      "artist_name:  atif\n",
      "album_title name:  aslam\n"
     ]
    },
    {
     "name": "stdout",
     "output_type": "stream",
     "text": [
      "{'name': 'atif', 'album': 'aslam'}\n",
      "\n",
      "Please tell me your artist_name:\n",
      "(enter 'q' at any time to quit)\n"
     ]
    },
    {
     "name": "stdin",
     "output_type": "stream",
     "text": [
      "artist_name:  atif\n",
      "album_title name:  jalpari\n"
     ]
    },
    {
     "name": "stdout",
     "output_type": "stream",
     "text": [
      "{'name': 'atif', 'album': 'jalpari'}\n",
      "\n",
      "Please tell me your artist_name:\n",
      "(enter 'q' at any time to quit)\n"
     ]
    },
    {
     "name": "stdin",
     "output_type": "stream",
     "text": [
      "artist_name:  q\n"
     ]
    }
   ],
   "source": [
    "def make_album(artist_name,album_title):\n",
    "    music_album = {'name':artist_name,'album':album_title}\n",
    "    return music_album\n",
    "\n",
    "while True:\n",
    "    print(\"\\nPlease tell me your artist_name:\")\n",
    "    print(\"(enter 'q' at any time to quit)\")\n",
    "    artist_name = input(\"artist_name: \")\n",
    "    if artist_name == 'q':\n",
    "        break\n",
    "\n",
    "    album_title = input(\"album_title name: \")\n",
    "    if album_title == 'q':\n",
    "        break\n",
    "\n",
    "    formatted_album = make_album(artist_name, album_title)\n",
    "    print(formatted_album)"
   ]
  },
  {
   "cell_type": "raw",
   "id": "c0ba465d-b7fb-4b50-a794-e72f6d3a4ac7",
   "metadata": {},
   "source": [
    "8-9. Magicians: Make a list of magician’s names. Pass the list to a function\n",
    "called show_magicians(), which prints the name of each magician in the list."
   ]
  },
  {
   "cell_type": "code",
   "execution_count": 1,
   "id": "642d30a2-54e8-4cb1-b128-2b6727e27c34",
   "metadata": {},
   "outputs": [],
   "source": [
    "\n",
    "def show_magician(magician_names):\n",
    "    for magician in magician_names:\n",
    "        print(magician)\n",
    "\n",
    "magician_names = ['asad','fahad','samad']"
   ]
  },
  {
   "cell_type": "code",
   "execution_count": 2,
   "id": "456a35cb-fe84-4eb3-a74c-b7e763c7b603",
   "metadata": {},
   "outputs": [
    {
     "name": "stdout",
     "output_type": "stream",
     "text": [
      "asad\n",
      "fahad\n",
      "samad\n"
     ]
    }
   ],
   "source": [
    "show_magician(magician_names)"
   ]
  },
  {
   "cell_type": "raw",
   "id": "2c10b1c0-4b32-4522-bc75-6cbfa2348e62",
   "metadata": {},
   "source": [
    "8-10. Great Magicians: Start with a copy of your program from Exercise 8-9.\n",
    "Write a function called make_great() that modifies the list of magicians by adding the phrase the Great to each magician’s name.\n",
    "Call show_magicians() to\n",
    "see that the list has actually been modified."
   ]
  },
  {
   "cell_type": "code",
   "execution_count": 3,
   "id": "f16a3928-c243-4c84-aaaa-16e1b191cb45",
   "metadata": {},
   "outputs": [],
   "source": [
    "def show_magician(magician_names):\n",
    "    for magician in magician_names:\n",
    "        print(magician)\n",
    "\n",
    "\n",
    "def make_great(magician_names):\n",
    "    for magician in magician_names:\n",
    "        print(f\"The great magician name is {magician}\")\n",
    "magician_names = ['asad','fahad','samad']"
   ]
  },
  {
   "cell_type": "code",
   "execution_count": 4,
   "id": "a9588a87-0273-48b9-a078-9f6f01e861b7",
   "metadata": {},
   "outputs": [
    {
     "name": "stdout",
     "output_type": "stream",
     "text": [
      "asad\n",
      "fahad\n",
      "samad\n",
      "The great magician name is asad\n",
      "The great magician name is fahad\n",
      "The great magician name is samad\n"
     ]
    }
   ],
   "source": [
    "show_magician(magician_names)\n",
    "make_great(magician_names)"
   ]
  },
  {
   "cell_type": "raw",
   "id": "f8fef045-8101-4a96-8107-9eaefbeecb12",
   "metadata": {},
   "source": [
    "8-11. Unchanged Magicians: Start with your work from Exercise 8-10. Call the\n",
    "function make_great() with a copy of the list of magicians’ names. Because the\n",
    "original list will be unchanged, return the new list and store it in a separate list.\n",
    "Call show_magicians() with each list to show that you have one list of the original names and one list with the Great added to each magician’s name"
   ]
  },
  {
   "cell_type": "code",
   "execution_count": 14,
   "id": "061a3642-2389-469e-a5d5-5281a7d0ef83",
   "metadata": {},
   "outputs": [],
   "source": [
    "\n",
    "# print(copy_of_magician)\n",
    "def make_great(copy_of_magician,unchanged):\n",
    "    while copy_of_magician:\n",
    "        a = copy_of_magician.pop()\n",
    "        print(a)\n",
    "        unchanged.append(a)\n",
    "\n",
    "def show_magician(unchanged):\n",
    "    for i in unchanged:\n",
    "        print(f\"the Great {i}\")\n",
    "\n",
    "copy_of_magician = magician_names.copy()\n",
    "unchanged = []"
   ]
  },
  {
   "cell_type": "code",
   "execution_count": 15,
   "id": "f11037f8-a57f-4f82-9c08-ba378aa75938",
   "metadata": {},
   "outputs": [
    {
     "name": "stdout",
     "output_type": "stream",
     "text": [
      "samad\n",
      "fahad\n",
      "asad\n",
      "the Great samad\n",
      "the Great fahad\n",
      "the Great asad\n"
     ]
    }
   ],
   "source": [
    "make_great(copy_of_magician,unchanged)\n",
    "show_magician(unchanged)"
   ]
  },
  {
   "cell_type": "code",
   "execution_count": 1,
   "id": "32c2e94a-2932-4fe7-ac97-3ff5f9b47b2d",
   "metadata": {},
   "outputs": [
    {
     "name": "stdout",
     "output_type": "stream",
     "text": [
      "{'first_name': 'albert', 'last_name': 'einstein', 'location': 'princeton', 'field': 'physics'}\n"
     ]
    }
   ],
   "source": [
    "def build_profile(first, last, **user_info):\n",
    "    \"\"\"Build a dictionary containing everything we know about a user.\"\"\"\n",
    "    profile = {}\n",
    "    profile['first_name'] = first\n",
    "    profile['last_name'] = last\n",
    "    for key, value in user_info.items():\n",
    "        profile[key] = value\n",
    "        \n",
    "    return profile\n",
    "user_profile = build_profile('albert', 'einstein',\n",
    "location='princeton',\n",
    "field='physics')\n",
    "print(user_profile)"
   ]
  },
  {
   "cell_type": "raw",
   "id": "dc509fa4-f036-4240-9bf7-df0809fcde61",
   "metadata": {},
   "source": [
    "8-12. Sandwiches: Write a function that accepts a list of items a person wants\n",
    "on a sandwich. The function should have one parameter that collects as many\n",
    "items as the function call provides, and it should print a summary of the sandwich that is being ordered. \n",
    "Call the function three times, using a different number of arguments each time."
   ]
  },
  {
   "cell_type": "code",
   "execution_count": 5,
   "id": "7f92a3d2-0a8b-4cf4-83ab-2888a5d06141",
   "metadata": {},
   "outputs": [],
   "source": [
    "def Sandwiches(*args):\n",
    "    for i in args:\n",
    "        print(f\"The sandwhich have {i}\")"
   ]
  },
  {
   "cell_type": "code",
   "execution_count": 6,
   "id": "19786ac2-aa67-4f56-9f42-0978110c104a",
   "metadata": {},
   "outputs": [
    {
     "name": "stdout",
     "output_type": "stream",
     "text": [
      "The sandwhich have Cheese\n",
      "The sandwhich have makhan\n",
      "The sandwhich have salt\n",
      "The sandwhich have spicy\n"
     ]
    }
   ],
   "source": [
    "Sandwiches('Cheese','makhan','salt','spicy')"
   ]
  },
  {
   "cell_type": "raw",
   "id": "9a8b8c77-eabd-4af9-b647-6c7b58974e93",
   "metadata": {},
   "source": [
    "8-13. User Profile: Start with a copy of user_profile.py from page 153. Build\n",
    "a profile of yourself by calling build_profile(), using your first and last names\n",
    "and three other key-value pairs that describe you."
   ]
  },
  {
   "cell_type": "code",
   "execution_count": 7,
   "id": "7dd42869-d5e2-415d-8584-8a17c73aa405",
   "metadata": {},
   "outputs": [],
   "source": [
    "def build_profile(f_name,l_name,**kwargs):\n",
    "    profile = {}\n",
    "    profile['first_name']=f_name\n",
    "    profile['last_name']=l_name\n",
    "    for key,value in kwargs.items():\n",
    "        profile[key]=value\n",
    "\n",
    "    return profile\n"
   ]
  },
  {
   "cell_type": "code",
   "execution_count": 18,
   "id": "a03a1132-97d6-4572-b2b1-b918ef13529e",
   "metadata": {},
   "outputs": [
    {
     "name": "stdout",
     "output_type": "stream",
     "text": [
      "first_name == saad\n",
      "last_name == naseem\n",
      "location == AWT\n",
      "city == karachi\n",
      "country == pakistan\n"
     ]
    }
   ],
   "source": [
    "a = build_profile('saad','naseem',location='AWT',city='karachi',country='pakistan')\n",
    "for k,v in a.items():\n",
    "    print(f\"{k} == {v}\")"
   ]
  },
  {
   "cell_type": "raw",
   "id": "f72801f4-5752-41e9-a39c-b2c1af4028ff",
   "metadata": {},
   "source": [
    "8-14. Cars: Write a function that stores information about a car in a dictionary. \n",
    "The function should always receive a manufacturer and a model name. It\n",
    "should then accept an arbitrary number of keyword arguments. Call the function with the required information and two other name-value pairs, such as a\n",
    "color or an optional feature. Your function should work for a call like this one:\n",
    "car = make_car('subaru', 'outback', color='blue', tow_package=True)\n",
    "Print the dictionary that’s returned to make sure all the information was\n",
    "stored correctly"
   ]
  },
  {
   "cell_type": "code",
   "execution_count": 2,
   "id": "d9fae0b0-a896-410c-a972-d9af880852a3",
   "metadata": {},
   "outputs": [],
   "source": [
    "def cars(manufacturer,model_name,**kwargs):\n",
    "    car = {}\n",
    "    car['manufacturer']=manufacturer\n",
    "    car['model_name']=model_name\n",
    "    for k,v in kwargs.items():\n",
    "        car[k] = v\n",
    "\n",
    "    return car"
   ]
  },
  {
   "cell_type": "code",
   "execution_count": 3,
   "id": "5cc34cdb-5467-47d0-ab81-d2d0c633fe0d",
   "metadata": {},
   "outputs": [
    {
     "data": {
      "text/plain": [
       "{'manufacturer': 'KIA',\n",
       " 'model_name': 'Picanto',\n",
       " 'model': 2024,\n",
       " 'Registration': 'karachi'}"
      ]
     },
     "execution_count": 3,
     "metadata": {},
     "output_type": "execute_result"
    }
   ],
   "source": [
    "cars('KIA','Picanto',model=2024,Registration='karachi')"
   ]
  },
  {
   "cell_type": "raw",
   "id": "f2ce0ea0-54f3-4f13-8a4e-187557d95f75",
   "metadata": {},
   "source": [
    "9-1. Restaurant: Make a class called Restaurant. The __init__() method for\n",
    "Restaurant should store two attributes: a restaurant_name and a cuisine_type.\n",
    "Make a method called describe_restaurant() that prints these two pieces of\n",
    "information, and a method called open_restaurant() that prints a message indicating that the restaurant is open.\n",
    "Make an instance called restaurant from your class. Print the two attributes individually, and then call both methods."
   ]
  },
  {
   "cell_type": "code",
   "execution_count": 7,
   "id": "21db4b13-cae9-453a-923e-284477e3cc43",
   "metadata": {},
   "outputs": [],
   "source": [
    "class Restaurant():\n",
    "    def __init__(self,restaurant_name,cusine_type):\n",
    "        self.name = restaurant_name\n",
    "        self.cusine = cusine_type\n",
    "\n",
    "    \n",
    "    def describe_restaurant(self):\n",
    "        print(f\"{self.name} is a {self.cusine}\")\n",
    "\n",
    "    def open_restaurant(self):\n",
    "        print(\"Restaurant is open\")\n",
    "    "
   ]
  },
  {
   "cell_type": "code",
   "execution_count": 8,
   "id": "22d0ff62-e8f6-47cd-88a5-24c3a5275910",
   "metadata": {},
   "outputs": [],
   "source": [
    "al_habib_restaurant = Restaurant(\"al Habib\",\"Pakistani\")"
   ]
  },
  {
   "cell_type": "code",
   "execution_count": 10,
   "id": "1a9b0450-a19f-40f9-8234-1ef8c900ec10",
   "metadata": {},
   "outputs": [
    {
     "name": "stdout",
     "output_type": "stream",
     "text": [
      "al Habib is a Pakistani\n",
      "Restaurant is open\n"
     ]
    }
   ],
   "source": [
    "al_habib_restaurant.describe_restaurant()\n",
    "al_habib_restaurant.open_restaurant()"
   ]
  },
  {
   "cell_type": "code",
   "execution_count": null,
   "id": "5239a097-35ef-47b9-8049-e3c5039dbe58",
   "metadata": {},
   "outputs": [],
   "source": [
    "9-2. Three Restaurants: Start with your class from Exercise 9-1. Create three\n",
    "different instances from the class, and call describe_restaurant() for each\n",
    "instance."
   ]
  },
  {
   "cell_type": "code",
   "execution_count": 11,
   "id": "3886eb7c-12e5-44b3-8ca9-76adad4d5969",
   "metadata": {},
   "outputs": [],
   "source": [
    "class Restaurant():\n",
    "    def __init__(self,restaurant_name,cusine_type):\n",
    "        self.name = restaurant_name\n",
    "        self.cusine = cusine_type\n",
    "\n",
    "    \n",
    "    def describe_restaurant(self):\n",
    "        print(f\"{self.name} is a {self.cusine}\")\n",
    "\n",
    "    def open_restaurant(self):\n",
    "        print(\"Restaurant is open\")\n",
    "    "
   ]
  },
  {
   "cell_type": "code",
   "execution_count": 13,
   "id": "57fa3593-2b9c-4bd4-8a50-1ea6fadd0fb7",
   "metadata": {},
   "outputs": [],
   "source": [
    "al_habib_restaurant = Restaurant(\"al Habib\",\"Pakistani\")\n",
    "star_bux = Restaurant(\"Star Bux\",\"American\")\n",
    "tim_horton = Restaurant('Tim Horton','Canadian')"
   ]
  },
  {
   "cell_type": "code",
   "execution_count": 14,
   "id": "c7cd97b3-a9db-41e0-ae72-bf5e600caeda",
   "metadata": {},
   "outputs": [
    {
     "name": "stdout",
     "output_type": "stream",
     "text": [
      "al Habib is a Pakistani\n",
      "Restaurant is open\n",
      "Star Bux is a American\n",
      "Restaurant is open\n",
      "Tim Horton is a Canadian\n",
      "Restaurant is open\n"
     ]
    }
   ],
   "source": [
    "al_habib_restaurant.describe_restaurant()\n",
    "al_habib_restaurant.open_restaurant()\n",
    "star_bux.describe_restaurant()\n",
    "star_bux.open_restaurant()\n",
    "tim_horton.describe_restaurant()\n",
    "tim_horton.open_restaurant()"
   ]
  },
  {
   "cell_type": "raw",
   "id": "f01d710c-e218-40b9-84c5-83430b9735cd",
   "metadata": {},
   "source": [
    "9-3. Users: Make a class called User. Create two attributes called first_name\n",
    "and last_name, and then create several other attributes that are typically stored\n",
    "in a user profile. Make a method called describe_user() that prints a summary\n",
    "of the user’s information. Make another method called greet_user() that prints\n",
    "a personalized greeting to the user.\n",
    "Create several instances representing different users, and call both methods\n",
    "for each user"
   ]
  },
  {
   "cell_type": "raw",
   "id": "f465862e-709a-430b-ab27-f2e3f1eeb010",
   "metadata": {},
   "source": [
    "class User():\n",
    "    def __init__(self,first_name,last_name,age):\n",
    "        self.name = first_name + last_name\n",
    "        self.age = age\n",
    "\n",
    "    def describe_user(self):\n",
    "        print(f\"{self.name} is {self.age}\")\n",
    "\n",
    "    def greet_user(self):\n",
    "        print(f\"a personalized greeting to the {self.name}\")\n",
    "\n",
    "    \n",
    "    "
   ]
  },
  {
   "cell_type": "code",
   "execution_count": 36,
   "id": "be721679-c81d-4c94-aa16-f0ee743cc358",
   "metadata": {},
   "outputs": [],
   "source": [
    "asad = User(\"muhammad asad\",\"naseem\",35)\n",
    "fahad = User(\"muhammad fahad\",\"naseem\",34)\n",
    "saad = User(\"muhammad saad\",\"naseem\",25)"
   ]
  },
  {
   "cell_type": "code",
   "execution_count": 37,
   "id": "d57ee1db-4a9c-406d-a883-4a1967499bfe",
   "metadata": {},
   "outputs": [
    {
     "name": "stdout",
     "output_type": "stream",
     "text": [
      "muhammad asadnaseem is 35\n",
      "a personalized greeting to the muhammad asadnaseem\n",
      "muhammad fahadnaseem is 34\n",
      "a personalized greeting to the muhammad fahadnaseem\n",
      "muhammad saadnaseem is 25\n",
      "a personalized greeting to the muhammad saadnaseem\n"
     ]
    }
   ],
   "source": [
    "asad.describe_user()\n",
    "asad.greet_user()\n",
    "fahad.describe_user()\n",
    "fahad.greet_user()\n",
    "saad.describe_user()\n",
    "saad.greet_user()\n"
   ]
  },
  {
   "cell_type": "raw",
   "id": "f2c72b0d-2dc5-4758-889e-417b996b7522",
   "metadata": {},
   "source": [
    "9-4. Number Served: Start with your program from Exercise 9-1 (page 166).\n",
    "Add an attribute called number_served with a default value of 0. Create an\n",
    "instance called restaurant from this class. Print the number of customers the\n",
    "restaurant has served, and then change this value and print it again.\n",
    "Add a method called set_number_served() that lets you set the number\n",
    "of customers that have been served. Call this method with a new number and\n",
    "print the value again.\n",
    "Add a method called increment_number_served() that lets you increment\n",
    "the number of customers who’ve been served. Call this method with any number you like that could represent how many customers were served in, say, a\n",
    "day of business."
   ]
  },
  {
   "cell_type": "code",
   "execution_count": 3,
   "id": "bbdb09cf-1477-4439-a409-b81c56b7f1af",
   "metadata": {},
   "outputs": [],
   "source": [
    "class Restaurant():\n",
    "    def __init__(self,restaurant_name,cusine_type):\n",
    "        self.name = restaurant_name\n",
    "        self.cusine = cusine_type\n",
    "        self.number_served = 0\n",
    "    \n",
    "    def describe_restaurant(self):\n",
    "        print(f\"{self.name} is a {self.cusine}\")\n",
    "\n",
    "    def open_restaurant(self):\n",
    "        print(\"Restaurant is open\")\n",
    "\n",
    "    def see_num_served(self):\n",
    "        print(f\"{self.number_served} customer served in a day of business\")\n",
    "    \n",
    "    def set_number_served(self,number):\n",
    "        self.number_served = number\n",
    "\n",
    "    def increment_number_served(self,add_num):\n",
    "        self.number_served += add_num"
   ]
  },
  {
   "cell_type": "code",
   "execution_count": 4,
   "id": "a29fbe48-3b07-490f-a4b4-5e228f3b6fe6",
   "metadata": {},
   "outputs": [],
   "source": [
    "a = Restaurant('Kababjees','pakistani')"
   ]
  },
  {
   "cell_type": "code",
   "execution_count": 5,
   "id": "db864fd2-f63d-43ba-868d-0403c864ee7a",
   "metadata": {},
   "outputs": [
    {
     "data": {
      "text/plain": [
       "0"
      ]
     },
     "execution_count": 5,
     "metadata": {},
     "output_type": "execute_result"
    }
   ],
   "source": [
    "a.number_served"
   ]
  },
  {
   "cell_type": "code",
   "execution_count": 6,
   "id": "dc52911e-b0f3-4c54-bca2-f3af8a184f5c",
   "metadata": {},
   "outputs": [],
   "source": [
    "a.number_served = 50"
   ]
  },
  {
   "cell_type": "code",
   "execution_count": 7,
   "id": "13a007de-59d0-413e-8490-3977049f01a4",
   "metadata": {},
   "outputs": [
    {
     "data": {
      "text/plain": [
       "50"
      ]
     },
     "execution_count": 7,
     "metadata": {},
     "output_type": "execute_result"
    }
   ],
   "source": [
    "a.number_served"
   ]
  },
  {
   "cell_type": "code",
   "execution_count": 8,
   "id": "8f0a8250-1d97-4797-bba4-4bc3e49685ec",
   "metadata": {},
   "outputs": [],
   "source": [
    "a.set_number_served(100)\n"
   ]
  },
  {
   "cell_type": "code",
   "execution_count": 9,
   "id": "b52938c0-0db2-4ca1-a26a-b05f6c377b5e",
   "metadata": {},
   "outputs": [
    {
     "data": {
      "text/plain": [
       "100"
      ]
     },
     "execution_count": 9,
     "metadata": {},
     "output_type": "execute_result"
    }
   ],
   "source": [
    "a.number_served"
   ]
  },
  {
   "cell_type": "code",
   "execution_count": 10,
   "id": "197145e7-1f58-4ed7-9036-f58a0eff55e0",
   "metadata": {},
   "outputs": [],
   "source": [
    "a.increment_number_served(50)"
   ]
  },
  {
   "cell_type": "code",
   "execution_count": 11,
   "id": "064ac498-9bba-439c-b486-77248676c8c0",
   "metadata": {},
   "outputs": [
    {
     "name": "stdout",
     "output_type": "stream",
     "text": [
      "150 customer served in a day of business\n"
     ]
    }
   ],
   "source": [
    "a.see_num_served()"
   ]
  },
  {
   "cell_type": "raw",
   "id": "87fbaa86-dc67-4f5d-a710-1f9e80d19649",
   "metadata": {},
   "source": [
    "9-5. Login Attempts: Add an attribute called login_attempts to your User\n",
    "class from Exercise 9-3 (page 166). Write a method called increment_\n",
    "login_attempts() that increments the value of login_attempts by 1. Write\n",
    "another method called reset_login_attempts() that resets the value of login_\n",
    "attempts to 0.\n",
    "Make an instance of the User class and call increment_login_attempts()\n",
    "several times. Print the value of login_attempts to make sure it was incremented\n",
    "properly, and then call reset_login_attempts(). Print login_attempts again to\n",
    "make sure it was reset to 0."
   ]
  },
  {
   "cell_type": "code",
   "execution_count": 65,
   "id": "ccecc5dc-ae0f-49ce-a0f6-b982160ce5f4",
   "metadata": {},
   "outputs": [],
   "source": [
    "class User():\n",
    "    def __init__(self,first_name,last_name,age):\n",
    "        self.name = first_name +\" \"+ last_name\n",
    "        self.age = age\n",
    "        self.login_attemps = 0\n",
    "\n",
    "    def increment_login_attempts(self):\n",
    "        self.login_attemps += 1\n",
    "\n",
    "    def reset_login_attempts(self):\n",
    "        self.login_attemps = 0\n",
    "    \n",
    "    def describe_user(self):\n",
    "        print(f\"{self.name} is {self.age}\")\n",
    "\n",
    "    def greet_user(self):\n",
    "        print(f\"a personalized greeting to the {self.name}\")\n",
    "\n",
    "    \n",
    "    "
   ]
  },
  {
   "cell_type": "code",
   "execution_count": 66,
   "id": "15eb6e45-59f9-4c6f-947a-5d5f3bce956f",
   "metadata": {},
   "outputs": [],
   "source": [
    "u = User('saad','naseem',25)"
   ]
  },
  {
   "cell_type": "code",
   "execution_count": 67,
   "id": "136c22fe-956e-4f10-be58-8d000dfb55a9",
   "metadata": {},
   "outputs": [],
   "source": [
    "u.increment_login_attempts()"
   ]
  },
  {
   "cell_type": "code",
   "execution_count": 68,
   "id": "38d08dbd-0c3c-4877-b44e-fe2fb23cd47f",
   "metadata": {},
   "outputs": [
    {
     "data": {
      "text/plain": [
       "1"
      ]
     },
     "execution_count": 68,
     "metadata": {},
     "output_type": "execute_result"
    }
   ],
   "source": [
    "u.login_attemps"
   ]
  },
  {
   "cell_type": "code",
   "execution_count": 69,
   "id": "4f14e677-3b9f-4531-850c-e8c8f313298b",
   "metadata": {},
   "outputs": [],
   "source": [
    "u.reset_login_attempts()"
   ]
  },
  {
   "cell_type": "code",
   "execution_count": 70,
   "id": "16e2e27a-9ac6-47e2-9fb8-3e4186792401",
   "metadata": {},
   "outputs": [
    {
     "data": {
      "text/plain": [
       "0"
      ]
     },
     "execution_count": 70,
     "metadata": {},
     "output_type": "execute_result"
    }
   ],
   "source": [
    "u.login_attemps"
   ]
  },
  {
   "cell_type": "raw",
   "id": "588a7db5-48f0-4d63-91bd-77b705679943",
   "metadata": {},
   "source": [
    "9-6. Ice Cream Stand: An ice cream stand is a specific kind of restaurant. Write\n",
    "a class called IceCreamStand that inherits from the Restaurant class you wrote\n",
    "in Exercise 9-1 (page 166) or Exercise 9-4 (page 171). Either version of\n",
    "the class will work; just pick the one you like better. Add an attribute called\n",
    "flavors that stores a list of ice cream flavors. Write a method that displays\n",
    "these flavors. Create an instance of IceCreamStand, and call this method."
   ]
  },
  {
   "cell_type": "code",
   "execution_count": 71,
   "id": "b7404c73-3516-48c7-971c-5d3335034860",
   "metadata": {},
   "outputs": [],
   "source": [
    "class IceCreamStand(Restaurant):\n",
    "    def __init__(self,restaurant_name,cusine_type,ice_cream_flavors):\n",
    "        self.flavor = ice_cream_flavors\n",
    "        super().__init__(restaurant_name,cusine_type)\n",
    "            \n",
    "    def flavours(self):\n",
    "        print(f\"ice cream flavour is {self.flavor}\")"
   ]
  },
  {
   "cell_type": "code",
   "execution_count": 72,
   "id": "097c6095-2884-4151-bba7-12666d8f6fb3",
   "metadata": {},
   "outputs": [],
   "source": [
    "alpine = IceCreamStand(\"alpine_gelato\",\"ice_cream\",\"Peshawri\")"
   ]
  },
  {
   "cell_type": "code",
   "execution_count": 73,
   "id": "a7bd0dcf-e88f-4d46-a589-7fe45f6cf5f8",
   "metadata": {},
   "outputs": [
    {
     "name": "stdout",
     "output_type": "stream",
     "text": [
      "Restaurant is open\n",
      "50 customer served in a day of business\n",
      "ice cream flavour is Peshawri\n"
     ]
    }
   ],
   "source": [
    "alpine.open_restaurant()\n",
    "alpine.increment_number_served(50)\n",
    "alpine.see_num_served()\n",
    "alpine.flavours()"
   ]
  },
  {
   "cell_type": "raw",
   "id": "a2844206-56ac-46be-ae8e-8008fd6c2f2c",
   "metadata": {},
   "source": [
    "9-7. Admin: An administrator is a special kind of user. Write a class called\n",
    "Admin that inherits from the User class you wrote in Exercise 9-3 (page 166)\n",
    "or Exercise 9-5 (page 171). Add an attribute, privileges, that stores a list\n",
    "of strings like \"can add post\", \"can delete post\", \"can ban user\", and so on.\n",
    "Write a method called show_privileges() that lists the administrator’s set of\n",
    "privileges. Create an instance of Admin, and call your method."
   ]
  },
  {
   "cell_type": "code",
   "execution_count": 98,
   "id": "719732a6-1fb2-40c3-bc28-873ebf1efd35",
   "metadata": {},
   "outputs": [],
   "source": [
    "class Admin(User):\n",
    "    def __init__(self,first_name,last_name,age,privileges):\n",
    "        self.privilege = privileges\n",
    "        super().__init__(first_name,last_name,age)\n",
    "\n",
    "    def show_privilege(self):\n",
    "        for p in self.privilege:\n",
    "            print(f\"{self.name} {p}\")"
   ]
  },
  {
   "cell_type": "code",
   "execution_count": 99,
   "id": "e4a69d3d-ce4d-483a-be54-6219036dab55",
   "metadata": {},
   "outputs": [],
   "source": [
    "Fahad = Admin('fahad','naseem',32,[\"can add\",\"can Update\", \"can read\"])"
   ]
  },
  {
   "cell_type": "code",
   "execution_count": 100,
   "id": "3e26be9f-6f70-4f67-ae27-2c62690f182d",
   "metadata": {},
   "outputs": [
    {
     "name": "stdout",
     "output_type": "stream",
     "text": [
      "fahad naseem can add\n",
      "fahad naseem can Update\n",
      "fahad naseem can read\n"
     ]
    }
   ],
   "source": [
    "# Fahad.describe_user()\n",
    "Fahad.show_privilege()"
   ]
  },
  {
   "cell_type": "raw",
   "id": "3ff8d6df-07ab-4ce7-80fa-16f69d85cfa0",
   "metadata": {},
   "source": [
    "9-8. Privileges: Write a separate Privileges class. The class should have one\n",
    "attribute, privileges, that stores a list of strings as described in Exercise 9-7.\n",
    "Move the show_privileges() method to this class. Make a Privileges instance\n",
    "as an attribute in the Admin class. Create a new instance of Admin and use your\n",
    "method to show its privileges."
   ]
  },
  {
   "cell_type": "code",
   "execution_count": 108,
   "id": "84dd1475-7f55-4a52-a21f-241285f89487",
   "metadata": {},
   "outputs": [],
   "source": [
    "class Privileges():\n",
    "    def __init__(self,privilege):\n",
    "        self.privilege = privilege\n",
    "\n",
    "    def show_privileges(self):\n",
    "        for p in self.privilege:\n",
    "            print(f\"{p}\")"
   ]
  },
  {
   "cell_type": "code",
   "execution_count": 111,
   "id": "0d184d98-3e18-4a23-8004-5bf5c119d50e",
   "metadata": {},
   "outputs": [],
   "source": [
    "P = Privileges(['can add','can delete'])"
   ]
  },
  {
   "cell_type": "code",
   "execution_count": 112,
   "id": "563c6441-03e5-4630-9a11-5c92fbb62289",
   "metadata": {},
   "outputs": [
    {
     "name": "stdout",
     "output_type": "stream",
     "text": [
      "can add\n",
      "can delete\n"
     ]
    }
   ],
   "source": [
    "P.show_privileges()"
   ]
  },
  {
   "cell_type": "code",
   "execution_count": 119,
   "id": "5f5e2562-efb0-4319-b019-a63fd29bde3e",
   "metadata": {},
   "outputs": [],
   "source": [
    "class Admin(User):\n",
    "    def __init__(self,first_name,last_name,age,privileges):\n",
    "        # self.privilege = privileges\n",
    "        super().__init__(first_name,last_name,age)\n",
    "        self.privilge = Privileges(privileges)"
   ]
  },
  {
   "cell_type": "code",
   "execution_count": 120,
   "id": "479de403-39e6-46e4-b1d2-3359b4e45c5c",
   "metadata": {},
   "outputs": [],
   "source": [
    "saad = Admin('saad','naseem',25,['can add','can delete'])"
   ]
  },
  {
   "cell_type": "code",
   "execution_count": 121,
   "id": "9abd64cb-b9c1-4cc4-8b5d-09e8f4463ea0",
   "metadata": {},
   "outputs": [
    {
     "name": "stdout",
     "output_type": "stream",
     "text": [
      "can add\n",
      "can delete\n"
     ]
    }
   ],
   "source": [
    "saad.privilge.show_privileges()"
   ]
  },
  {
   "cell_type": "raw",
   "id": "a3323a07-efee-4e49-be07-1a476da3c11a",
   "metadata": {},
   "source": [
    "9-9. Battery Upgrade: Use the final version of electric_car.py from this section.\n",
    "Add a method to the Battery class called upgrade_battery(). This method\n",
    "should check the battery size and set the capacity to 85 if it isn’t already.\n",
    "Make an electric car with a default battery size, call get_range() once, and\n",
    "then call get_range() a second time after upgrading the battery. You should\n",
    "see an increase in the car’s range."
   ]
  },
  {
   "cell_type": "code",
   "execution_count": 125,
   "id": "149bda80-3f0a-423c-b9e1-a2d0f0beb4ee",
   "metadata": {},
   "outputs": [],
   "source": [
    "class Car():\n",
    "    \"\"\"A simple attempt to represent a car.\"\"\"\n",
    "    def __init__(self, make, model, year):\n",
    "     self.make = make\n",
    "     self.model = model\n",
    "     self.year = year\n",
    "     self.odometer_reading = 0\n",
    "    \n",
    "    def get_descriptive_name(self):\n",
    "     long_name = str(self.year) + ' ' + self.make + ' ' + self.model\n",
    "     return long_name.title()\n",
    "    \n",
    "    def read_odometer(self):\n",
    "     print(\"This car has \" + str(self.odometer_reading) + \" miles on it.\")\n",
    "    \n",
    "    def update_odometer(self, mileage):\n",
    "     if mileage >= self.odometer_reading:\n",
    "         self.odometer_reading = mileage\n",
    "     else:\n",
    "         print(\"You can't roll back an odometer!\")\n",
    "    \n",
    "    def increment_odometer(self, miles):\n",
    "     self.odometer_reading += miles"
   ]
  },
  {
   "cell_type": "code",
   "execution_count": 155,
   "id": "de9ea41b-69cc-4684-ab34-2f87f5588eb6",
   "metadata": {},
   "outputs": [],
   "source": [
    "class Battery():\n",
    "    \"\"\"A simple attempt to model a battery for an electric car.\"\"\"\n",
    "\n",
    "    def __init__(self, battery_size=70):\n",
    "        \"\"\"Initialize the battery's attributes.\"\"\"\n",
    "        self.battery_size = battery_size\n",
    "    \n",
    "    def describe_battery(self):\n",
    "        \"\"\"Print a statement describing the battery size.\"\"\"\n",
    "        print(\"This car has a \" + str(self.battery_size) + \"-kWh battery\")\n",
    "\n",
    "    def get_range(self):\n",
    "        \"\"\"Print a statement about the range this battery provides.\"\"\"\n",
    "        if self.battery_size == 70:\n",
    "            range = 240\n",
    "        elif self.battery_size == 85:\n",
    "            range = 270\n",
    "        \n",
    "        message = \"This car can go approximately \" + str(range) +\" bettery size \"+ str(self.battery_size)\n",
    "        message += \" miles on a full charge.\"\n",
    "        print(message)\n",
    "\n",
    "    def upgrade_battery(self):\n",
    "        if self.battery_size <= 85:\n",
    "            self.battery_size = 85\n",
    "            "
   ]
  },
  {
   "cell_type": "code",
   "execution_count": 156,
   "id": "565db441-091f-4623-973b-0df5d514ab01",
   "metadata": {},
   "outputs": [
    {
     "name": "stdout",
     "output_type": "stream",
     "text": [
      "2016 Tesla Model S\n",
      "This car has a 70-kWh battery\n",
      "This car can go approximately 240 bettery size 70 miles on a full charge.\n",
      "This car can go approximately 270 bettery size 85 miles on a full charge.\n"
     ]
    }
   ],
   "source": [
    "class ElectricCar(Car):\n",
    "    \"\"\"Represent aspects of a car, specific to electric vehicles.\"\"\"\n",
    "    def __init__(self, make, model, year):\n",
    "        \"\"\"\n",
    "        Initialize attributes of the parent class.\n",
    "        Then initialize attributes specific to an electric car.\n",
    "        \"\"\"\n",
    "        super().__init__(make, model, year)\n",
    "        self.battery = Battery()\n",
    "\n",
    "my_tesla = ElectricCar('tesla', 'model s', 2016)\n",
    "print(my_tesla.get_descriptive_name())\n",
    "my_tesla.battery.describe_battery()\n",
    "my_tesla.battery.get_range()\n",
    "my_tesla.battery.upgrade_battery()\n",
    "my_tesla.battery.get_range()"
   ]
  },
  {
   "cell_type": "code",
   "execution_count": null,
   "id": "8eaf98b3-6d00-4371-86df-7beeb268a051",
   "metadata": {},
   "outputs": [],
   "source": []
  }
 ],
 "metadata": {
  "kernelspec": {
   "display_name": "Python 3 (ipykernel)",
   "language": "python",
   "name": "python3"
  },
  "language_info": {
   "codemirror_mode": {
    "name": "ipython",
    "version": 3
   },
   "file_extension": ".py",
   "mimetype": "text/x-python",
   "name": "python",
   "nbconvert_exporter": "python",
   "pygments_lexer": "ipython3",
   "version": "3.11.5"
  }
 },
 "nbformat": 4,
 "nbformat_minor": 5
}
