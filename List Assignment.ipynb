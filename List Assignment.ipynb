{
 "cells": [
  {
   "cell_type": "markdown",
   "id": "a55ec9e7-774d-4bf0-9d2a-ebd4c056a4a3",
   "metadata": {},
   "source": [
    "1. Write a program that accepts a list from user and print the alternate element of list. \n"
   ]
  },
  {
   "cell_type": "code",
   "execution_count": 29,
   "id": "e802f27b-754e-44c3-9d30-35b95d2ddb98",
   "metadata": {},
   "outputs": [
    {
     "name": "stdin",
     "output_type": "stream",
     "text": [
      "Enter Your number of list 1 2 3 4\n"
     ]
    },
    {
     "name": "stdout",
     "output_type": "stream",
     "text": [
      "['1', '2', '3', '4']\n",
      "['1', '3']\n"
     ]
    }
   ],
   "source": [
    "lst = input(\"Enter Your number of list\").split()\n",
    "li = []\n",
    "alternate_list = []\n",
    "for i in lst:\n",
    "    li.append(i)    \n",
    "print(li)\n",
    "\n",
    "for i in range(0,len(li),2):\n",
    "    alternate_list.append(li[i])\n",
    "print(alternate_list)"
   ]
  },
  {
   "cell_type": "markdown",
   "id": "3aa0ca64-c478-40d1-a774-89827eea55f4",
   "metadata": {},
   "source": [
    "Write a program that accepts a list from user. Your program should reverse the content of list and\n",
    "display it. Do not use reverse() method."
   ]
  },
  {
   "cell_type": "code",
   "execution_count": 35,
   "id": "4b0619d8-c092-4b78-9392-5d9aca19c40b",
   "metadata": {},
   "outputs": [
    {
     "name": "stdin",
     "output_type": "stream",
     "text": [
      "Enter Your number of list 1 2 3 4\n"
     ]
    },
    {
     "name": "stdout",
     "output_type": "stream",
     "text": [
      "['1', '2', '3', '4']\n",
      "[4, 3, 2, 1]\n"
     ]
    }
   ],
   "source": [
    "lst = input(\"Enter Your number of list\").split()\n",
    "li = []\n",
    "reverse_list = []\n",
    "\n",
    "for i in lst:\n",
    "    li.append(i)    \n",
    "print(li)\n",
    "\n",
    "for i in range(len(li),0,-1):\n",
    "    reverse_list.append(i)\n",
    "    \n",
    "print(reverse_list)"
   ]
  },
  {
   "cell_type": "markdown",
   "id": "6ba9f169-c2fe-46b8-99df-02de5dcbff0b",
   "metadata": {},
   "source": [
    "Find and display the largest number of a list without using built-in function max(). Your program\n",
    "should ask the user to input values in list from keyboard."
   ]
  },
  {
   "cell_type": "code",
   "execution_count": 36,
   "id": "38a6b61a-e803-4669-a6ef-2e7122f81d8c",
   "metadata": {},
   "outputs": [
    {
     "name": "stdout",
     "output_type": "stream",
     "text": [
      "7\n"
     ]
    }
   ],
   "source": [
    "li = [1,2,3,4,5,6,7]\n",
    "largest = li[0]\n",
    "\n",
    "for i in li:\n",
    "    if i > largest:\n",
    "        largest = i\n",
    "print(largest)"
   ]
  },
  {
   "cell_type": "markdown",
   "id": "9589db63-7678-41af-aab0-919a2f58249a",
   "metadata": {},
   "source": [
    "Write a program that rotates the element of a list so that the element at the first index moves to the\n",
    "second index, the element in the second index moves to the third index, etc., and the element in the last\n",
    "index moves to the first index"
   ]
  },
  {
   "cell_type": "code",
   "execution_count": 55,
   "id": "d1aaec51-1fd9-4e3e-989b-ed23db82d714",
   "metadata": {},
   "outputs": [
    {
     "name": "stdout",
     "output_type": "stream",
     "text": [
      "[7, 1, 2, 3, 4, 5, 6]\n"
     ]
    }
   ],
   "source": [
    "li = [1,2,3,4,5,6,7]\n",
    "li1 = li[-1]\n",
    "l = [li1]\n",
    "# print(l)\n",
    "\n",
    "for i in range(0,len(li)-1):\n",
    "    l.append(li[i])\n",
    "print(l)"
   ]
  },
  {
   "cell_type": "markdown",
   "id": "c7b7d383-899c-40fd-a139-3b4dc2a18e08",
   "metadata": {},
   "source": [
    "5. Write a program that input a string and ask user to delete a given word from a string. "
   ]
  },
  {
   "cell_type": "code",
   "execution_count": 12,
   "id": "98b432c6-f324-4843-a25e-5305731d1512",
   "metadata": {},
   "outputs": [
    {
     "name": "stdin",
     "output_type": "stream",
     "text": [
      "input Enter a string my name is a saad\n",
      "Enter a word you delete a\n"
     ]
    },
    {
     "name": "stdout",
     "output_type": "stream",
     "text": [
      "my name is saad "
     ]
    }
   ],
   "source": [
    "str = input('input Enter a string').split(' ')\n",
    "delete = input('Enter a word you delete')\n",
    "str2 = []\n",
    "for i in str:\n",
    "    if i == delete:\n",
    "        continue\n",
    "    else:\n",
    "        str2.append(i)\n",
    "\n",
    "for i in str2:\n",
    "    print(i,end=\" \")"
   ]
  },
  {
   "cell_type": "markdown",
   "id": "fb9d8e76-27a2-4047-b66c-a7f98fb27fe3",
   "metadata": {},
   "source": [
    "Write a program that reads a string from the user containing a date in the form mm/dd/yyyy. It\n",
    "should print the date in the form March 12, 2021."
   ]
  },
  {
   "cell_type": "code",
   "execution_count": 32,
   "id": "fbfceb55-07e0-415a-9b68-ec946c38bc19",
   "metadata": {},
   "outputs": [
    {
     "name": "stdin",
     "output_type": "stream",
     "text": [
      "mm/dd/yyyy 3/12/2024\n"
     ]
    },
    {
     "name": "stdout",
     "output_type": "stream",
     "text": [
      "['march', '12', '2024']\n",
      "march 12, 2024 "
     ]
    }
   ],
   "source": [
    "Date = input(\"mm/dd/yyyy\").split('/')\n",
    "\n",
    "Retun_Date = []\n",
    "\n",
    "if Date[0] == '1':\n",
    "    Retun_Date.append('jan')\n",
    "\n",
    "elif Date[0] == '2':\n",
    "    Retun_Date.append('feb')\n",
    "\n",
    "elif Date[0] == '3':\n",
    "    Retun_Date.append('march')\n",
    "\n",
    "elif Date[0] == '4':\n",
    "    Retun_Date.append('april')\n",
    "\n",
    "elif Date[0] == '5':\n",
    "    Retun_Date.append('may')\n",
    "\n",
    "elif Date[0] == '6':\n",
    "    Retun_Date.append('june')\n",
    "\n",
    "elif Date[0] == '7':\n",
    "    Retun_Date.append('july')\n",
    "\n",
    "elif Date[0] == '8':\n",
    "    Retun_Date.append('aug')\n",
    "\n",
    "elif Date[0] == '9':\n",
    "    Retun_Date.append('sep')\n",
    "\n",
    "elif Date[0] == '10':\n",
    "    Retun_Date.append('oct')\n",
    "\n",
    "\n",
    "elif Date[0] == '11':\n",
    "    Retun_Date.append('nov')\n",
    "\n",
    "\n",
    "elif Date[0] == '12':\n",
    "    Retun_Date.append('dec')\n",
    "\n",
    "else:\n",
    "    print('Given Date is incorrect')\n",
    "\n",
    "\n",
    "Retun_Date.append(Date[1])\n",
    "Retun_Date.append(Date[2])\n",
    "print(Retun_Date)\n",
    "\n",
    "for i in Retun_Date:\n",
    "    if i == Retun_Date[1]:\n",
    "        print(i,end=', ')\n",
    "    else:\n",
    "        print(i,end=' ')"
   ]
  },
  {
   "cell_type": "markdown",
   "id": "c97aaf16-747d-4118-927f-2cb1d50b63f1",
   "metadata": {},
   "source": [
    "Write a program with a function that accepts a string from keyboard and create a new string after\n",
    "converting character of each word capitalized. For instance, if the sentence is \"stop and smell the roses.\"\n",
    "the output should be \"Stop And Smell The Roses\"\n"
   ]
  },
  {
   "cell_type": "code",
   "execution_count": 40,
   "id": "0a4a4b22-0790-4d85-9563-0189cb55486f",
   "metadata": {},
   "outputs": [
    {
     "name": "stdin",
     "output_type": "stream",
     "text": [
      "Enter a sentence stop and smell the roses\n"
     ]
    },
    {
     "name": "stdout",
     "output_type": "stream",
     "text": [
      "Stop And Smell The Roses "
     ]
    }
   ],
   "source": [
    "str = input('Enter a sentence').split(' ')\n",
    "\n",
    "for i in str:\n",
    "    print(i[0].upper()+i[1:],end=\" \")\n"
   ]
  },
  {
   "cell_type": "markdown",
   "id": "a37f9ce2-38d8-49d8-9342-a9f32335e6e8",
   "metadata": {},
   "source": [
    "<img src=\"Capture.JPG\">"
   ]
  },
  {
   "cell_type": "code",
   "execution_count": 54,
   "id": "b11cb695-3089-493a-bd66-1fd189b43b3f",
   "metadata": {},
   "outputs": [
    {
     "name": "stdout",
     "output_type": "stream",
     "text": [
      "32\n",
      "31\n",
      "63\n"
     ]
    }
   ],
   "source": [
    "matrix = [\n",
    "    [2, 11, 7, 12],\n",
    "    [5, 2, 9, 15],\n",
    "    [8, 3, 10, 42]]\n",
    "\n",
    "sum_of_row_1 = 0\n",
    "sum_of_row_2 = 0\n",
    "sum_of_row_3 = 0\n",
    "\n",
    "# for i in matrix:\n",
    "#     print(i.,end=\",\")\n",
    "    # for j in i:\n",
    "    #     print(j)\n",
    "\n",
    "for i in matrix[0]:\n",
    "    sum_of_row_1 += i\n",
    "print(sum_of_row_1)\n",
    "\n",
    "for i in matrix[1]:\n",
    "    sum_of_row_2 += i\n",
    "print(sum_of_row_2)\n",
    "\n",
    "for i in matrix[2]:\n",
    "    sum_of_row_3 += i\n",
    "print(sum_of_row_3)"
   ]
  },
  {
   "cell_type": "code",
   "execution_count": 56,
   "id": "300f6cba-28f6-4e40-a0a0-f0580be852b3",
   "metadata": {},
   "outputs": [
    {
     "name": "stdout",
     "output_type": "stream",
     "text": [
      "1848\n",
      "1350\n",
      "10080\n"
     ]
    }
   ],
   "source": [
    "matrix = [\n",
    "    [2, 11, 7, 12],\n",
    "    [5, 2, 9, 15],\n",
    "    [8, 3, 10, 42]]\n",
    "\n",
    "sum_of_row_1 = 1\n",
    "sum_of_row_2 = 1\n",
    "sum_of_row_3 = 1\n",
    "\n",
    "# for i in matrix:\n",
    "#     print(i.,end=\",\")\n",
    "    # for j in i:\n",
    "    #     print(j)\n",
    "\n",
    "for i in matrix[0]:\n",
    "    sum_of_row_1 *= i\n",
    "print(sum_of_row_1)\n",
    "\n",
    "for i in matrix[1]:\n",
    "    sum_of_row_2 *= i\n",
    "print(sum_of_row_2)\n",
    "\n",
    "for i in matrix[2]:\n",
    "    sum_of_row_3 *= i\n",
    "print(sum_of_row_3)"
   ]
  },
  {
   "cell_type": "code",
   "execution_count": 74,
   "id": "a6b73c6f-4b63-46b7-80aa-996cb3802874",
   "metadata": {},
   "outputs": [
    {
     "name": "stdout",
     "output_type": "stream",
     "text": [
      "[10, 10, 10]\n",
      "[10, 10, 10]\n",
      "[10, 10, 10]\n"
     ]
    }
   ],
   "source": [
    "matrix1 = [\n",
    "    [1, 2, 3],\n",
    "    [4, 5, 6],\n",
    "    [7, 8, 9]\n",
    "]\n",
    "\n",
    "matrix2 = [\n",
    "    [9, 8, 7],\n",
    "    [6, 5, 4],\n",
    "    [3, 2, 1]\n",
    "]\n",
    "\n",
    "result_matrix = []\n",
    "\n",
    "n = len(matrix1) # number of rows\n",
    "m = len(matrix2[0]) # numbers of column\n",
    "\n",
    "for i in range(n):\n",
    "    temp = []\n",
    "    for j in range(m):\n",
    "        temp.append(matrix1[i][j] + matrix2[i][j])\n",
    "\n",
    "    result_matrix.append(temp)\n",
    "\n",
    "for i in result_matrix:\n",
    "    print(i)"
   ]
  },
  {
   "cell_type": "code",
   "execution_count": 75,
   "id": "cb81410c-a2e3-4d6e-a40d-f60cd02dd108",
   "metadata": {},
   "outputs": [
    {
     "name": "stdout",
     "output_type": "stream",
     "text": [
      "[9, 16, 21]\n",
      "[24, 25, 24]\n",
      "[21, 16, 9]\n"
     ]
    }
   ],
   "source": [
    "matrix1 = [\n",
    "    [1, 2, 3],\n",
    "    [4, 5, 6],\n",
    "    [7, 8, 9]\n",
    "]\n",
    "\n",
    "matrix2 = [\n",
    "    [9, 8, 7],\n",
    "    [6, 5, 4],\n",
    "    [3, 2, 1]\n",
    "]\n",
    "\n",
    "result_matrix = []\n",
    "\n",
    "n = len(matrix1) # number of rows\n",
    "m = len(matrix2[0]) # numbers of column\n",
    "\n",
    "for i in range(n):\n",
    "    temp = []\n",
    "    for j in range(m):\n",
    "        temp.append(matrix1[i][j] * matrix2[i][j])\n",
    "\n",
    "    result_matrix.append(temp)\n",
    "\n",
    "for i in result_matrix:\n",
    "    print(i)"
   ]
  },
  {
   "cell_type": "code",
   "execution_count": null,
   "id": "8e704839-82fb-4596-9e5a-87afdf7f982b",
   "metadata": {},
   "outputs": [],
   "source": []
  }
 ],
 "metadata": {
  "kernelspec": {
   "display_name": "Python 3 (ipykernel)",
   "language": "python",
   "name": "python3"
  },
  "language_info": {
   "codemirror_mode": {
    "name": "ipython",
    "version": 3
   },
   "file_extension": ".py",
   "mimetype": "text/x-python",
   "name": "python",
   "nbconvert_exporter": "python",
   "pygments_lexer": "ipython3",
   "version": "3.11.5"
  }
 },
 "nbformat": 4,
 "nbformat_minor": 5
}
